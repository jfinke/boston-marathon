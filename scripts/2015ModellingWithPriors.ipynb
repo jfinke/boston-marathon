{
 "cells": [
  {
   "cell_type": "code",
   "execution_count": 1,
   "metadata": {
    "collapsed": false
   },
   "outputs": [
    {
     "name": "stdout",
     "output_type": "stream",
     "text": [
      "/home/ubuntu/boston-marathon/marathon\n"
     ]
    }
   ],
   "source": [
    "cd ../marathon/"
   ]
  },
  {
   "cell_type": "code",
   "execution_count": 2,
   "metadata": {
    "collapsed": false
   },
   "outputs": [],
   "source": [
    "import pandas as pd\n",
    "import numpy as np\n",
    "import matplotlib.pyplot as plt\n",
    "%matplotlib inline\n",
    "import marathonlib"
   ]
  },
  {
   "cell_type": "code",
   "execution_count": 3,
   "metadata": {
    "collapsed": true
   },
   "outputs": [],
   "source": [
    "def plot_model_deviation(model, X_train, y_train, X_test, y_test, y_max = 0.04):\n",
    "    print 'Train R^2:', model.score(X_train, y_train)\n",
    "    print 'Test R^2:', model.score(X_test, y_test)\n",
    "    y_predict = model.predict(X_test)\n",
    "    print 'Standard Error of Test:', marathonlib.time_to_timestring(np.var(y_test-y_predict)**0.5)\n",
    "    plt.hist(y_test-y_predict, bins=100, range=(-100,250), normed=True, linewidth=0)\n",
    "    plt.xlim(-100, 250)\n",
    "    plt.ylim(0, y_max)\n",
    "    plt.vlines(0, 0, 1)"
   ]
  },
  {
   "cell_type": "code",
   "execution_count": 4,
   "metadata": {
    "collapsed": false
   },
   "outputs": [],
   "source": [
    "from sklearn.linear_model import LinearRegression, Lasso\n",
    "from sklearn.ensemble import RandomForestRegressor\n",
    "from sklearn.cross_validation import train_test_split\n",
    "from sklearn.grid_search import GridSearchCV\n",
    "from sklearn.ensemble import GradientBoostingRegressor\n",
    "from sklearn.dummy import DummyRegressor"
   ]
  },
  {
   "cell_type": "code",
   "execution_count": 5,
   "metadata": {
    "collapsed": true
   },
   "outputs": [],
   "source": [
    "df = pd.read_csv('data/boston2015_priors+.csv')\n",
    "df15 = pd.read_csv('data/boston2015_clean.csv')"
   ]
  },
  {
   "cell_type": "code",
   "execution_count": 6,
   "metadata": {
    "collapsed": false
   },
   "outputs": [
    {
     "name": "stdout",
     "output_type": "stream",
     "text": [
      "(101850, 26)\n"
     ]
    }
   ],
   "source": [
    "print df.shape"
   ]
  },
  {
   "cell_type": "code",
   "execution_count": 8,
   "metadata": {
    "collapsed": false
   },
   "outputs": [
    {
     "data": {
      "text/plain": [
       "Index([u'marathon', u'year', u'bib', u'name', u'firstname', u'lastname',\n",
       "       u'age', u'gender', u'city', u'state', u'country', u'citizenship',\n",
       "       u'offltime', u'prior_marathon', u'prior_year', u'prior_time', u'elite',\n",
       "       u'qualifier', u'home', u'avgtemp', u'avghumid', u'avgwind', u'avgwindE',\n",
       "       u'avgwindN', u'isgusty', u'rainhours'],\n",
       "      dtype='object')"
      ]
     },
     "execution_count": 8,
     "metadata": {},
     "output_type": "execute_result"
    }
   ],
   "source": [
    "df.columns"
   ]
  },
  {
   "cell_type": "code",
   "execution_count": 9,
   "metadata": {
    "collapsed": false
   },
   "outputs": [
    {
     "data": {
      "text/plain": [
       "Index([u'marathon', u'year', u'bib', u'url', u'name', u'firstname',\n",
       "       u'lastname', u'age', u'gender', u'city', u'state', u'country',\n",
       "       u'citizenship', u'subgroup', u'gunstart', u'starttime', u'time5k',\n",
       "       u'time10k', u'time15k', u'time20k', u'timehalf', u'time25k', u'time30k',\n",
       "       u'time35k', u'time40k', u'pace', u'projtime', u'offltime', u'nettime',\n",
       "       u'overall_rank', u'gender_rank', u'division_rank', u'other1', u'other2',\n",
       "       u'other3', u'other4'],\n",
       "      dtype='object')"
      ]
     },
     "execution_count": 9,
     "metadata": {},
     "output_type": "execute_result"
    }
   ],
   "source": [
    "df15.columns"
   ]
  },
  {
   "cell_type": "code",
   "execution_count": 10,
   "metadata": {
    "collapsed": false
   },
   "outputs": [],
   "source": [
    "# remove duplicate runners from priors+, results from runners who have ran more than one other race.\n",
    "def get_unique_runners(df, func=np.median):\n",
    "    unique_bibs = df['bib'].unique()\n",
    "    runners_list = []\n",
    "    for bib in unique_bibs:\n",
    "        runners = df[df['bib'] == bib]\n",
    "        runner = runners.iloc[0].copy()\n",
    "        if len(runners > 1):\n",
    "            runner['prior_year'] = func(runners['year'])\n",
    "            runner['prior_marathon'] = ''\n",
    "            runner['prior_time'] = func(runners['prior_time'])\n",
    "        runners_list.append(runner)\n",
    "    #unique_df = pd.concat(runners_list, axis=1).T\n",
    "    unique_df = pd.DataFrame().append(runners_list)\n",
    "    return unique_df"
   ]
  },
  {
   "cell_type": "code",
   "execution_count": 11,
   "metadata": {
    "collapsed": false
   },
   "outputs": [
    {
     "data": {
      "text/plain": [
       "0"
      ]
     },
     "execution_count": 11,
     "metadata": {},
     "output_type": "execute_result"
    }
   ],
   "source": [
    "sum(df['prior_time'].isnull())"
   ]
  },
  {
   "cell_type": "code",
   "execution_count": 12,
   "metadata": {
    "collapsed": false
   },
   "outputs": [
    {
     "name": "stdout",
     "output_type": "stream",
     "text": [
      "(22724, 26)\n"
     ]
    }
   ],
   "source": [
    "unique_df = get_unique_runners(df).copy()\n",
    "print unique_df.shape"
   ]
  },
  {
   "cell_type": "code",
   "execution_count": 13,
   "metadata": {
    "collapsed": false
   },
   "outputs": [
    {
     "data": {
      "text/plain": [
       "922"
      ]
     },
     "execution_count": 13,
     "metadata": {},
     "output_type": "execute_result"
    }
   ],
   "source": [
    "len(df['prior_marathon'].unique())"
   ]
  },
  {
   "cell_type": "code",
   "execution_count": 14,
   "metadata": {
    "collapsed": false
   },
   "outputs": [
    {
     "name": "stdout",
     "output_type": "stream",
     "text": [
      "# of prior records: 101850\n",
      "# of unique runners w/priors: 22724\n",
      "# of runners in 2015: 26403\n",
      "2015 Runners found: 86.1%\n"
     ]
    }
   ],
   "source": [
    "print '# of prior records:', len(df)\n",
    "print '# of unique runners w/priors:', len(unique_df)\n",
    "print '# of runners in 2015:', len(df15)\n",
    "print '2015 Runners found: {:.1f}%'.format(len(unique_df) * 100. / len(df15))"
   ]
  },
  {
   "cell_type": "code",
   "execution_count": 15,
   "metadata": {
    "collapsed": false
   },
   "outputs": [
    {
     "data": {
      "image/png": "[encoded data removed]",
      "text/plain": [
       "<matplotlib.figure.Figure at 0x7f5a78757bd0>"
      ]
     },
     "metadata": {},
     "output_type": "display_data"
    },
    {
     "name": "stdout",
     "output_type": "stream",
     "text": [
      "Boston 2015 w/priors: 221.729488136\n",
      "Boston 2015: 226.339677309\n"
     ]
    }
   ],
   "source": [
    "# Finish times of Boston compared with priors\n",
    "fig = plt.figure(figsize=(8, 5))\n",
    "plt.hist(df15['offltime'], bins=100, label='Boston 2015 All Runners', linewidth=0, color='b')\n",
    "plt.hist(unique_df['offltime'], bins=100, label='Boston 2015 Runners w/history', linewidth=0, color='r')\n",
    "plt.legend()\n",
    "plt.title('Comparing Sample of Runners with Priors vs. All Runners', fontsize=20, weight='bold')\n",
    "plt.xlabel('Finish Time (min)', fontsize=16, weight='bold')\n",
    "plt.savefig('test.png', transparent=True)\n",
    "plt.show()\n",
    "print 'Boston 2015 w/priors:', df['offltime'].mean()\n",
    "print 'Boston 2015:', df15['offltime'].mean()"
   ]
  },
  {
   "cell_type": "markdown",
   "metadata": {},
   "source": [
    "Even though we've captured 86+% of runners, the averages are off.  Is it possible our missing runners are runners who do not run marathons, and are running a professional course for the first time?"
   ]
  },
  {
   "cell_type": "code",
   "execution_count": 16,
   "metadata": {
    "collapsed": false
   },
   "outputs": [
    {
     "name": "stdout",
     "output_type": "stream",
     "text": [
      "# of bib numbers with no priors:  3640\n"
     ]
    },
    {
     "data": {
      "image/png": "[encoded data removed]",
      "text/plain": [
       "<matplotlib.figure.Figure at 0x7f5a787e3610>"
      ]
     },
     "metadata": {},
     "output_type": "display_data"
    }
   ],
   "source": [
    "priorbibs = set(df['bib'])\n",
    "missing_bibs = [bib for bib in df15['bib'] if bib not in priorbibs]\n",
    "print '# of bib numbers with no priors: ', len(missing_bibs)\n",
    "plt.hist(missing_bibs, bins=100)\n",
    "plt.show()"
   ]
  },
  {
   "cell_type": "markdown",
   "metadata": {},
   "source": [
    "For 2015, non-qualifiers were assigned bib numbers > ~26,000 (aka Charity runners).  It appears a chunk of our runners are indeed first timers.  But we are missing running histories for other runners too."
   ]
  },
  {
   "cell_type": "markdown",
   "metadata": {},
   "source": [
    "### Build Dataframe for Modelling"
   ]
  },
  {
   "cell_type": "code",
   "execution_count": 17,
   "metadata": {
    "collapsed": false
   },
   "outputs": [
    {
     "name": "stdout",
     "output_type": "stream",
     "text": [
      "(101850, 996) (101850,)\n"
     ]
    }
   ],
   "source": [
    "# One row per running record.  We will combine runner predictions later\n",
    "feature_columns = [u'bib', u'age', u'gender', u'elite', u'qualifier', \n",
    "                   u'home', \n",
    "                   u'avgtemp', u'avghumid', u'avgwind', u'avgwindE', u'avgwindN', u'isgusty',\n",
    "                   u'rainhours','prior_year', 'prior_time', 'prior_marathon']\n",
    "#model_df = pd.get_dummies(unique_df[feature_columns])\n",
    "model_df = pd.get_dummies(df[feature_columns])\n",
    "X = model_df.values\n",
    "y = df['offltime'].values\n",
    "print X.shape, y.shape"
   ]
  },
  {
   "cell_type": "markdown",
   "metadata": {},
   "source": [
    "### Mean as a Model"
   ]
  },
  {
   "cell_type": "code",
   "execution_count": 18,
   "metadata": {
    "collapsed": false
   },
   "outputs": [
    {
     "name": "stdout",
     "output_type": "stream",
     "text": [
      "Train R^2: 0.0\n",
      "Test R^2: 0.0\n",
      "Standard Error of Test: 0:36:48\n"
     ]
    },
    {
     "data": {
      "image/png": "[encoded data removed]",
      "text/plain": [
       "<matplotlib.figure.Figure at 0x7f5a75b82850>"
      ]
     },
     "metadata": {},
     "output_type": "display_data"
    }
   ],
   "source": [
    "model = DummyRegressor()\n",
    "model.fit(X, y)\n",
    "plot_model_deviation(model, X, y, X, y)\n",
    "plt.title('Distribution of Finish Times')\n",
    "plt.xlabel('Finish Time (min)')\n",
    "plt.show()"
   ]
  },
  {
   "cell_type": "markdown",
   "metadata": {},
   "source": [
    "### Regression Model"
   ]
  },
  {
   "cell_type": "code",
   "execution_count": 19,
   "metadata": {
    "collapsed": false
   },
   "outputs": [
    {
     "name": "stdout",
     "output_type": "stream",
     "text": [
      "Train R^2: 0.677361094628\n",
      "Test R^2: 0.677361094628\n",
      "Standard Error of Test: 0:20:54\n"
     ]
    },
    {
     "data": {
      "image/png": "[encoded data removed]",
      "text/plain": [
       "<matplotlib.figure.Figure at 0x7f5a75c6c950>"
      ]
     },
     "metadata": {},
     "output_type": "display_data"
    }
   ],
   "source": [
    "model = LinearRegression()\n",
    "model.fit(X, y)\n",
    "plot_model_deviation(model, X, y, X, y)\n",
    "plt.title('Distribution of Finish Times')\n",
    "plt.xlabel('Finish Time (min)')\n",
    "plt.show()"
   ]
  },
  {
   "cell_type": "code",
   "execution_count": 20,
   "metadata": {
    "collapsed": false
   },
   "outputs": [
    {
     "name": "stdout",
     "output_type": "stream",
     "text": [
      "Train R^2: 0.657878194496\n",
      "Test R^2: 0.657878194496\n",
      "Standard Error of Test: 0:21:31\n",
      "\n",
      "Lasso Coefficients (alpha= 1 )\n",
      "------------------\n",
      "intercept 125.82476962\n",
      "bib       0.0026356949797\n",
      "age       0.395676715363\n",
      "avgtemp   -0.00805552638168\n",
      "avghumid  -0.00631152618767\n",
      "avgwindN  0.0163592870784\n",
      "prior_time0.182476507296\n"
     ]
    },
    {
     "data": {
      "image/png": "[encoded data removed]",
      "text/plain": [
       "<matplotlib.figure.Figure at 0x7f5a75cef910>"
      ]
     },
     "metadata": {},
     "output_type": "display_data"
    }
   ],
   "source": [
    "alpha = 1\n",
    "model = Lasso(alpha=alpha)\n",
    "model.fit(X, y)\n",
    "plot_model_deviation(model, X, y, X, y)\n",
    "print \n",
    "print 'Lasso Coefficients (alpha=',alpha,')'\n",
    "print '------------------'\n",
    "print '{0:10}{1}'.format('intercept', model.intercept_)\n",
    "for name, coef in zip(model_df.columns, model.coef_):\n",
    "    if abs(coef) > 0.001:\n",
    "        print '{0:10}{1}'.format(name, coef)"
   ]
  },
  {
   "cell_type": "code",
   "execution_count": 21,
   "metadata": {
    "collapsed": false
   },
   "outputs": [
    {
     "name": "stdout",
     "output_type": "stream",
     "text": [
      "(76387, 996) (76387,)\n"
     ]
    }
   ],
   "source": [
    "X_train, X_test, y_train, y_test = train_test_split(X, y, random_state=732)\n",
    "print X_train.shape, y_train.shape"
   ]
  },
  {
   "cell_type": "code",
   "execution_count": 22,
   "metadata": {
    "collapsed": false
   },
   "outputs": [
    {
     "name": "stdout",
     "output_type": "stream",
     "text": [
      "(25463, 996) (25463,)\n"
     ]
    }
   ],
   "source": [
    "print X_test.shape, y_test.shape"
   ]
  },
  {
   "cell_type": "code",
   "execution_count": 23,
   "metadata": {
    "collapsed": false
   },
   "outputs": [
    {
     "name": "stdout",
     "output_type": "stream",
     "text": [
      "Train R^2: 0.750333663454\n",
      "Test R^2: 0.741871084674\n",
      "Standard Error of Test: 0:18:45\n"
     ]
    },
    {
     "data": {
      "image/png": "[encoded data removed]",
      "text/plain": [
       "<matplotlib.figure.Figure at 0x7f5a750db250>"
      ]
     },
     "metadata": {},
     "output_type": "display_data"
    }
   ],
   "source": [
    "model = GradientBoostingRegressor(n_estimators=200, learning_rate = 0.04, max_depth=4, subsample=0.6)\n",
    "model.fit(X_train, y_train)\n",
    "plot_model_deviation(model, X_train, y_train, X_test, y_test)\n",
    "plt.title('Distribution of Finish Times')\n",
    "plt.xlabel('Finish Time (min)')\n",
    "plt.savefig('priormodel-gradientboosting.png', bbox_inches='tight', dpi=300)\n",
    "plt.show()"
   ]
  },
  {
   "cell_type": "code",
   "execution_count": 24,
   "metadata": {
    "collapsed": false
   },
   "outputs": [
    {
     "name": "stdout",
     "output_type": "stream",
     "text": [
      "Train R^2: 0.613609459104\n",
      "Test R^2: 0.589455829811\n",
      "Standard Error of Test: 0:23:39\n"
     ]
    },
    {
     "data": {
      "image/png": "[encoded data removed]",
      "text/plain": [
       "<matplotlib.figure.Figure at 0x7f5a73e70210>"
      ]
     },
     "metadata": {},
     "output_type": "display_data"
    }
   ],
   "source": [
    "model = RandomForestRegressor(max_depth = 16, max_features = 43, n_estimators = 1000)\n",
    "model.fit(X_train, y_train)\n",
    "plot_model_deviation(model, X_train, y_train, X_test, y_test)\n",
    "plt.title('Distribution of Finish Times')\n",
    "plt.xlabel('Finish Time (min)')\n",
    "plt.savefig('priormodel-randomforest.png', bbox_inches='tight', dpi=300)\n",
    "plt.show()"
   ]
  },
  {
   "cell_type": "markdown",
   "metadata": {},
   "source": [
    "# Pick model\n",
    "\n",
    "Since we need to train on entire dataset and use the results, we need a model that does not overfit.\n",
    "\n",
    "### Gradient Boosting Wins"
   ]
  },
  {
   "cell_type": "markdown",
   "metadata": {},
   "source": [
    "## 1. Tune Gradient Boosting"
   ]
  },
  {
   "cell_type": "code",
   "execution_count": null,
   "metadata": {
    "collapsed": false
   },
   "outputs": [],
   "source": [
    "# Tune using CV search\n",
    "# model = GridSearchCV(GradientBoostingRegressor(verbose=True), \n",
    "#                      param_grid={'n_estimators': [100],\n",
    "#                                  'learning_rate': [0.04],\n",
    "#                                  'max_depth': [4],\n",
    "#                                  'subsample': [0.7, 0.6, 0.5]},\n",
    "#                      verbose=True)\n",
    "# model.fit(X_train, y_train)\n",
    "# print model.best_params_"
   ]
  },
  {
   "cell_type": "code",
   "execution_count": null,
   "metadata": {
    "collapsed": false
   },
   "outputs": [],
   "source": [
    "# Bump up the number of estimators and now tune learning_rate\n",
    "# model = GridSearchCV(GradientBoostingRegressor(verbose=True), \n",
    "#                      param_grid={'n_estimators': [500],\n",
    "#                                  'learning_rate': [0.04, 0.01, 0.003, 0.001],\n",
    "#                                  'max_depth': [4],\n",
    "#                                  'subsample': [0.6]},\n",
    "#                      verbose=True)\n",
    "# model.fit(X, y)\n",
    "# print model.best_params_\n",
    "# plot_model_deviation(model, X, y, X, y)\n",
    "# plt.title('Distribution of Finish Times')\n",
    "# plt.xlabel('Finish Time (min)')\n",
    "# plt.show()"
   ]
  },
  {
   "cell_type": "markdown",
   "metadata": {},
   "source": [
    "## 2. Fit on entire dataset (- extreme outliers)"
   ]
  },
  {
   "cell_type": "code",
   "execution_count": 25,
   "metadata": {
    "collapsed": false
   },
   "outputs": [
    {
     "name": "stdout",
     "output_type": "stream",
     "text": [
      "      Iter       Train Loss      OOB Improve   Remaining Time \n",
      "         1        1273.7190          73.8094           24.13m\n",
      "         2        1210.5785          67.2324           23.90m\n",
      "         3        1147.9123          62.5469           23.78m\n",
      "         4        1093.0177          58.2312           23.61m\n",
      "         5        1040.8594          52.7041           23.46m\n",
      "         6         985.2823          49.0072           23.34m\n",
      "         7         939.8480          45.2780           23.22m\n",
      "         8         913.4635          41.3008           23.12m\n",
      "         9         861.8223          38.5004           23.01m\n",
      "        10         824.4511          35.7804           22.86m\n",
      "        20         592.5918          16.1846           21.65m\n",
      "        30         481.6826           7.6779           20.42m\n",
      "        40         422.1623           3.7055           19.20m\n",
      "        50         397.4573           1.9798           17.95m\n",
      "        60         380.5007           1.1353           16.68m\n",
      "        70         364.3401           0.7576           15.42m\n",
      "        80         366.4149           0.4781           14.15m\n",
      "        90         359.3529           0.3769           12.91m\n",
      "       100         357.1709           0.2547           11.68m\n",
      "       200         341.2026           0.0761            0.00s\n",
      "Train R^2: 0.749704322207\n",
      "Test R^2: 0.749704322207\n",
      "Standard Error of Test: 0:18:25\n"
     ]
    },
    {
     "data": {
      "image/png": "[encoded data removed]",
      "text/plain": [
       "<matplotlib.figure.Figure at 0x7f5a7514acd0>"
      ]
     },
     "metadata": {},
     "output_type": "display_data"
    }
   ],
   "source": [
    "model = GradientBoostingRegressor(n_estimators=200, learning_rate = 0.04, max_depth=4, subsample=0.6, verbose=True)\n",
    "model.fit(X, y)\n",
    "plot_model_deviation(model, X, y, X, y)\n",
    "plt.savefig('finalmodel-gradientboosting.png', bbox_inches='tight', dpi=300)\n",
    "plt.title('Distribution of Finish Times')\n",
    "plt.xlabel('Finish Time (min)')\n",
    "plt.show()"
   ]
  },
  {
   "cell_type": "code",
   "execution_count": 26,
   "metadata": {
    "collapsed": false
   },
   "outputs": [
    {
     "name": "stdout",
     "output_type": "stream",
     "text": [
      "(99946, 996) (99946,)\n"
     ]
    }
   ],
   "source": [
    "# Remove outliers > 3 std deviations away\n",
    "y_predict = model.predict(X)\n",
    "stddev = np.var(y - y_predict)**0.5\n",
    "outlier = abs(y-y_predict) > 3*stddev\n",
    "\n",
    "X_clean = model_df[~outlier].values\n",
    "y_clean = df.loc[~outlier, 'offltime'].values\n",
    "print X_clean.shape, y_clean.shape"
   ]
  },
  {
   "cell_type": "code",
   "execution_count": 27,
   "metadata": {
    "collapsed": false
   },
   "outputs": [
    {
     "name": "stdout",
     "output_type": "stream",
     "text": [
      "      Iter       Train Loss      OOB Improve   Remaining Time \n",
      "         1        1129.0127          72.5611           23.53m\n",
      "         2        1078.3939          65.5570           23.45m\n",
      "         3        1011.8809          60.8872           23.32m\n",
      "         4         947.9393          56.6812           23.14m\n",
      "         5         889.5767          52.9301           23.05m\n",
      "         6         842.2985          48.5747           22.91m\n",
      "         7         795.5025          45.0239           22.79m\n",
      "         8         762.9435          41.1968           22.69m\n",
      "         9         725.2982          37.8956           22.56m\n",
      "        10         679.2166          35.4967           22.42m\n",
      "        20         450.0982          16.3341           21.21m\n",
      "        30         340.0895           7.5635           20.00m\n",
      "        40         284.9529           3.8490           18.80m\n",
      "        50         257.5081           2.0454           17.59m\n",
      "        60         241.2188           1.1679           16.37m\n",
      "        70         233.1616           0.7392           15.14m\n",
      "        80         229.6344           0.3942           13.90m\n",
      "        90         224.6449           0.2448           12.67m\n",
      "       100         220.4521           0.2507           11.48m\n",
      "       200         210.7019           0.0758            0.00s\n"
     ]
    },
    {
     "data": {
      "text/plain": [
       "GradientBoostingRegressor(alpha=0.9, init=None, learning_rate=0.04, loss='ls',\n",
       "             max_depth=4, max_features=None, max_leaf_nodes=None,\n",
       "             min_samples_leaf=1, min_samples_split=2,\n",
       "             min_weight_fraction_leaf=0.0, n_estimators=200,\n",
       "             presort='auto', random_state=None, subsample=0.6,\n",
       "             verbose=True, warm_start=False)"
      ]
     },
     "execution_count": 27,
     "metadata": {},
     "output_type": "execute_result"
    }
   ],
   "source": [
    "# Refit model without outliers\n",
    "model = GradientBoostingRegressor(n_estimators=200, learning_rate = 0.04, max_depth=4, subsample=0.6, verbose=True)\n",
    "model.fit(X_clean, y_clean)"
   ]
  },
  {
   "cell_type": "code",
   "execution_count": 28,
   "metadata": {
    "collapsed": false
   },
   "outputs": [
    {
     "name": "stdout",
     "output_type": "stream",
     "text": [
      "Train R^2: 0.825581229454\n",
      "Test R^2: 0.825581229454\n",
      "Standard Error of Test: 0:14:30\n"
     ]
    },
    {
     "data": {
      "image/png": "[encoded data removed]",
      "text/plain": [
       "<matplotlib.figure.Figure at 0x7f5a740dd750>"
      ]
     },
     "metadata": {},
     "output_type": "display_data"
    }
   ],
   "source": [
    "plot_model_deviation(model, X_clean, y_clean, X_clean, y_clean)\n",
    "plt.title('Distribution of Finish Times')\n",
    "plt.xlabel('Finish Time (min)')\n",
    "plt.savefig('finalmodel-gradientboosting.png', bbox_inches='tight', dpi=300)\n",
    "plt.show()"
   ]
  },
  {
   "cell_type": "code",
   "execution_count": 29,
   "metadata": {
    "collapsed": false
   },
   "outputs": [
    {
     "data": {
      "text/plain": [
       "[('bib', 0.45989285934261176),\n",
       " ('prior_time', 0.13945614424058422),\n",
       " ('age', 0.13696075948114744),\n",
       " ('prior_year', 0.025462336301343546),\n",
       " ('avgtemp', 0.018861016764285896),\n",
       " ('home_UT', 0.017472002624479017),\n",
       " ('gender', 0.016476816622192195),\n",
       " ('prior_marathon_boston', 0.012774345521912707),\n",
       " ('prior_marathon_st_george', 0.010569182713453756),\n",
       " ('home_AZ', 0.0096961111080617769),\n",
       " ('avgwind', 0.0085542924618400313),\n",
       " ('home_ID', 0.007519565384392011),\n",
       " ('home_MN', 0.0072402259129723066),\n",
       " ('home_IN', 0.006034405002807961),\n",
       " ('home_AUS', 0.0059080478264555356),\n",
       " ('home_GBR', 0.0059010673555163883),\n",
       " ('home_CAN', 0.0057987182836129383),\n",
       " ('home_MA', 0.0056996664866208017),\n",
       " ('avgwindN', 0.0055708993838072037),\n",
       " ('home_MI', 0.0054703557059802123)]"
      ]
     },
     "execution_count": 29,
     "metadata": {},
     "output_type": "execute_result"
    }
   ],
   "source": [
    "feature_importance = zip(model_df.columns, model.feature_importances_)\n",
    "sorted(feature_importance, reverse=True, key=lambda x: x[1])[0:20]"
   ]
  },
  {
   "cell_type": "markdown",
   "metadata": {},
   "source": [
    "## 3. Select outliers."
   ]
  },
  {
   "cell_type": "code",
   "execution_count": 30,
   "metadata": {
    "collapsed": false
   },
   "outputs": [
    {
     "name": "stdout",
     "output_type": "stream",
     "text": [
      "Train R^2: 0.738834729161\n",
      "Test R^2: 0.738834729161\n",
      "Standard Error of Test: 0:18:46\n"
     ]
    },
    {
     "data": {
      "image/png": "[encoded data removed]",
      "text/plain": [
       "<matplotlib.figure.Figure at 0x7f5a75dd3a10>"
      ]
     },
     "metadata": {},
     "output_type": "display_data"
    }
   ],
   "source": [
    "# Plot showing outliers\n",
    "plot_model_deviation(model, X, y, X, y, y_max = 0.0004)\n",
    "plt.title('Distribution of Finish Times')\n",
    "plt.xlabel('Finish Time (min)')\n",
    "plt.savefig('outliers-zoom.png', bbox_inches='tight', dpi=300)\n",
    "plt.show()"
   ]
  },
  {
   "cell_type": "code",
   "execution_count": 31,
   "metadata": {
    "collapsed": true
   },
   "outputs": [],
   "source": [
    "y_predict = model.predict(X)"
   ]
  },
  {
   "cell_type": "code",
   "execution_count": 32,
   "metadata": {
    "collapsed": true
   },
   "outputs": [],
   "source": [
    "model_df['predicted_time'] = y_predict"
   ]
  },
  {
   "cell_type": "code",
   "execution_count": 33,
   "metadata": {
    "collapsed": false
   },
   "outputs": [
    {
     "name": "stdout",
     "output_type": "stream",
     "text": [
      "58\n"
     ]
    }
   ],
   "source": [
    "cheaters = pd.read_csv('data/boston2015_cheaters.csv')\n",
    "cheaters = set(cheaters['bib'])\n",
    "print len(cheaters)"
   ]
  },
  {
   "cell_type": "code",
   "execution_count": 34,
   "metadata": {
    "collapsed": false
   },
   "outputs": [
    {
     "name": "stdout",
     "output_type": "stream",
     "text": [
      "Standard Error: 18.7626860699\n",
      "# of outlier records: 11797\n",
      "\n",
      "Total # of unique runners: 22724\n",
      "# of cheaters in our unique runners: 49\n",
      "Cheating rate in our runners: 0.22%\n",
      "# of unique outliers: 3187\n",
      "# of cheaters in our outliers: 44\n",
      "Cheating rate in our outliers: 1.38%\n"
     ]
    }
   ],
   "source": [
    "stddev = np.var(y - y_predict)**0.5\n",
    "outliers = (y - y_predict > 1 * stddev)\n",
    "outlier_bibs = df.loc[outliers, 'bib'].unique()\n",
    "\n",
    "print 'Standard Error:', stddev\n",
    "print '# of outlier records:', sum(outliers)\n",
    "print\n",
    "print 'Total # of unique runners:', len(df['bib'].unique())\n",
    "print '# of cheaters in our unique runners:', len([bib for bib in df['bib'].unique() if bib in cheaters])\n",
    "print 'Cheating rate in our runners: {:.2f}%'.format(len([bib for bib in df['bib'].unique() if bib in cheaters]) * 100. \n",
    "                                                     / len(df['bib'].unique()))\n",
    "print '# of unique outliers:', len(df.loc[outliers, 'bib'].unique())\n",
    "print '# of cheaters in our outliers:', len([bib for bib in outlier_bibs if bib in cheaters])\n",
    "print 'Cheating rate in our outliers: {:.2f}%'.format(len([bib for bib in outlier_bibs if bib in cheaters]) * 100. \n",
    "                                                      / len(df.loc[outliers, 'bib'].unique()))\n"
   ]
  },
  {
   "cell_type": "code",
   "execution_count": 35,
   "metadata": {
    "collapsed": false
   },
   "outputs": [],
   "source": [
    "# remove duplicate runners from priors+, results from runners who have ran more than one other race.\n",
    "def get_uniques(df):\n",
    "    unique_bibs = df['bib'].unique()\n",
    "    runners_list = []\n",
    "    for bib in unique_bibs:\n",
    "        runners = df[df['bib'] == bib]\n",
    "        runner = runners.iloc[0].copy()\n",
    "        runner['predicted'] = np.mean((runners['predicted']))\n",
    "        runner['difference'] = runner['offltime'] - runner['predicted']\n",
    "        runner['median_difference'] = runner['offltime'] - np.median((runners['predicted']))\n",
    "        runner['min_difference'] = runner['offltime'] - np.min((runners['predicted']))\n",
    "        runner['max_difference'] = runner['offltime'] - np.max((runners['predicted']))\n",
    "        if len(runners) > 1:\n",
    "            # If multiple records exist for a runner, then save the following columns\n",
    "            runner['2ndmin_difference'] = runner['offltime'] - list(runners['predicted'].sort_values())[1]\n",
    "            runner['2ndmax_difference'] = runner['offltime'] - list(runners['predicted'].sort_values())[-2]\n",
    "        else:\n",
    "            runner['2ndmin_difference'] = runner['difference']\n",
    "            runner['2ndmax_difference'] = runner['difference']\n",
    "        runners_list.append(runner)\n",
    "    unique_df = pd.DataFrame(runners_list)\n",
    "    return unique_df"
   ]
  },
  {
   "cell_type": "code",
   "execution_count": 36,
   "metadata": {
    "collapsed": false,
    "scrolled": true
   },
   "outputs": [
    {
     "name": "stdout",
     "output_type": "stream",
     "text": [
      "(101850, 5)\n",
      "(22724, 10)\n"
     ]
    }
   ],
   "source": [
    "# Make cheater prediction table\n",
    "# bib, y, y_predict, cheater\n",
    "predict_df = pd.DataFrame(model_df['bib'])\n",
    "predict_df['offltime'] = y\n",
    "predict_df['predicted'] = y_predict\n",
    "predict_df['difference'] = y - y_predict\n",
    "predict_df['cheater'] = model_df['bib'].isin(cheaters)\n",
    "print predict_df.shape\n",
    "predict_df = get_uniques(predict_df)\n",
    "print predict_df.shape"
   ]
  },
  {
   "cell_type": "code",
   "execution_count": 37,
   "metadata": {
    "collapsed": false
   },
   "outputs": [
    {
     "name": "stdout",
     "output_type": "stream",
     "text": [
      "-95.9994497797 187.376674012\n"
     ]
    }
   ],
   "source": [
    "print predict_df['difference'].min(), predict_df['difference'].max()"
   ]
  },
  {
   "cell_type": "code",
   "execution_count": 38,
   "metadata": {
    "collapsed": false
   },
   "outputs": [],
   "source": [
    "from sklearn.metrics import roc_auc_score, roc_curve"
   ]
  },
  {
   "cell_type": "code",
   "execution_count": 39,
   "metadata": {
    "collapsed": false
   },
   "outputs": [
    {
     "name": "stdout",
     "output_type": "stream",
     "text": [
      "0.923552415454\n",
      "0.922873793398\n",
      "0.918144139685\n",
      "0.922965596382\n",
      "0.926891523975\n",
      "0.923142902144\n"
     ]
    }
   ],
   "source": [
    "print roc_auc_score(predict_df['cheater'], predict_df['difference'])\n",
    "print roc_auc_score(predict_df['cheater'], predict_df['median_difference'])\n",
    "print roc_auc_score(predict_df['cheater'], predict_df['min_difference'])\n",
    "print roc_auc_score(predict_df['cheater'], predict_df['2ndmin_difference'])\n",
    "print roc_auc_score(predict_df['cheater'], predict_df['max_difference'])\n",
    "print roc_auc_score(predict_df['cheater'], predict_df['2ndmax_difference'])"
   ]
  },
  {
   "cell_type": "code",
   "execution_count": 40,
   "metadata": {
    "collapsed": false
   },
   "outputs": [
    {
     "data": {
      "image/png": "[encoded data removed]",
      "text/plain": [
       "<matplotlib.figure.Figure at 0x7f5a3bf56990>"
      ]
     },
     "metadata": {},
     "output_type": "display_data"
    }
   ],
   "source": [
    "fprs, tprs, thresholds = roc_curve(- predict_df['cheater'], predict_df['max_difference'])\n",
    "plt.plot(tprs, fprs)\n",
    "plt.title('Receiver Operating Characteristic', fontsize=18)\n",
    "plt.xlabel('True Positive Rate', fontsize=14)\n",
    "plt.ylabel('False Positive Rate', fontsize=14)\n",
    "plt.savefig('roc_curve.png', bbox_inches='tight', dpi=300)\n",
    "plt.show()"
   ]
  },
  {
   "cell_type": "code",
   "execution_count": 44,
   "metadata": {
    "collapsed": false
   },
   "outputs": [
    {
     "name": "stdout",
     "output_type": "stream",
     "text": [
      "Overall\n",
      "49/22724 (0.22%)\n",
      "\n",
      "threshold   tpr    fpr   cheaters  records  rate\n",
      "---------  -----  -----  --------  -------  ----\n",
      "     33.3  0.042  0.714        34      995  3.42\n",
      "     31.9  0.045  0.714        35     1058  3.31\n",
      "     31.9  0.045  0.735        35     1059  3.31\n",
      "     30.9  0.048  0.735        36     1127  3.19\n",
      "     30.9  0.048  0.755        36     1128  3.19\n",
      "     30.6  0.049  0.755        37     1149  3.22\n",
      "     30.5  0.049  0.776        37     1150  3.22\n",
      "     20.8  0.085  0.776        38     1954  1.94\n",
      "     20.8  0.085  0.796        38     1955  1.94\n",
      "     19.6  0.091  0.796        39     2110  1.85\n",
      "     19.6  0.091  0.816        39     2111  1.85\n",
      "     19.0  0.094  0.816        40     2178  1.84\n",
      "     19.0  0.094  0.837        40     2179  1.84\n",
      "     18.0  0.101  0.837        41     2320  1.77\n",
      "     18.0  0.101  0.857        41     2321  1.77\n",
      "     15.7  0.115  0.857        42     2643  1.59\n",
      "     15.7  0.115  0.878        42     2644  1.59\n",
      "     15.2  0.118  0.878        43     2722  1.58\n",
      "     15.2  0.118  0.898        43     2723  1.58\n",
      "     13.9  0.129  0.898        44     2968  1.48\n"
     ]
    }
   ],
   "source": [
    "print 'Overall'\n",
    "print '{}/{} ({:.2f}%)'.format(sum(predict_df['cheater']), len(predict_df), sum(predict_df['cheater']) * 100. / len(predict_df))\n",
    "print\n",
    "out_str = '{:9.1f}  {:5.3f}  {:5.3f}  {:8}  {:7}  {:4.2f}'\n",
    "print 'threshold   tpr    fpr   cheaters  records  rate'\n",
    "print '---------  -----  -----  --------  -------  ----'\n",
    "for i in range(70, 90):\n",
    "    threshold = thresholds[i]\n",
    "    flagged = predict_df.loc[predict_df['max_difference'] > threshold, 'cheater']\n",
    "    print out_str.format(thresholds[i], tprs[i], fprs[i], sum(flagged), len(flagged), sum(flagged) * 100. / len(flagged))"
   ]
  },
  {
   "cell_type": "code",
   "execution_count": 47,
   "metadata": {
    "collapsed": false
   },
   "outputs": [
    {
     "name": "stdout",
     "output_type": "stream",
     "text": [
      "threshold  cheaters  records  rate\n",
      "---------  --------  -------  ----\n",
      "     30.0        38     1181  3.22\n"
     ]
    }
   ],
   "source": [
    "# Set threshold at 30.0 min\n",
    "threshold = 30.0\n",
    "flagged = predict_df.loc[predict_df['max_difference'] > threshold, 'cheater']\n",
    "out_str = '{:9.1f}  {:8}  {:7}  {:4.2f}'\n",
    "print 'threshold  cheaters  records  rate'\n",
    "print '---------  --------  -------  ----'\n",
    "print out_str.format(threshold, sum(flagged), len(flagged), sum(flagged) * 100. / len(flagged))"
   ]
  },
  {
   "cell_type": "code",
   "execution_count": 42,
   "metadata": {
    "collapsed": false
   },
   "outputs": [
    {
     "name": "stdout",
     "output_type": "stream",
     "text": [
      "True\n",
      "                       172\n",
      "bib                   8229\n",
      "offltime             241.7\n",
      "predicted          205.191\n",
      "difference         36.5089\n",
      "cheater               True\n",
      "median_difference  35.0837\n",
      "min_difference     41.3318\n",
      "max_difference     34.5365\n",
      "2ndmin_difference  35.0863\n",
      "2ndmax_difference  35.0811\n"
     ]
    }
   ],
   "source": [
    "print 8229 in cheaters\n",
    "runners = predict_df[predict_df['bib'] == 8229]\n",
    "print runners.T"
   ]
  },
  {
   "cell_type": "code",
   "execution_count": 43,
   "metadata": {
    "collapsed": false
   },
   "outputs": [
    {
     "data": {
      "text/html": [
       "<div>\n",
       "<table border=\"1\" class=\"dataframe\">\n",
       "  <thead>\n",
       "    <tr style=\"text-align: right;\">\n",
       "      <th></th>\n",
       "      <th>172</th>\n",
       "      <th>3253</th>\n",
       "      <th>7184</th>\n",
       "      <th>22148</th>\n",
       "    </tr>\n",
       "  </thead>\n",
       "  <tbody>\n",
       "    <tr>\n",
       "      <th>bib</th>\n",
       "      <td>8229</td>\n",
       "      <td>8229</td>\n",
       "      <td>8229</td>\n",
       "      <td>8229</td>\n",
       "    </tr>\n",
       "    <tr>\n",
       "      <th>age</th>\n",
       "      <td>47</td>\n",
       "      <td>47</td>\n",
       "      <td>47</td>\n",
       "      <td>47</td>\n",
       "    </tr>\n",
       "    <tr>\n",
       "      <th>gender</th>\n",
       "      <td>True</td>\n",
       "      <td>True</td>\n",
       "      <td>True</td>\n",
       "      <td>True</td>\n",
       "    </tr>\n",
       "    <tr>\n",
       "      <th>elite</th>\n",
       "      <td>False</td>\n",
       "      <td>False</td>\n",
       "      <td>False</td>\n",
       "      <td>False</td>\n",
       "    </tr>\n",
       "    <tr>\n",
       "      <th>qualifier</th>\n",
       "      <td>False</td>\n",
       "      <td>False</td>\n",
       "      <td>False</td>\n",
       "      <td>False</td>\n",
       "    </tr>\n",
       "    <tr>\n",
       "      <th>avgtemp</th>\n",
       "      <td>74.6857</td>\n",
       "      <td>73.5143</td>\n",
       "      <td>54.5571</td>\n",
       "      <td>62.1571</td>\n",
       "    </tr>\n",
       "    <tr>\n",
       "      <th>avghumid</th>\n",
       "      <td>43.5714</td>\n",
       "      <td>70.1429</td>\n",
       "      <td>62</td>\n",
       "      <td>54</td>\n",
       "    </tr>\n",
       "    <tr>\n",
       "      <th>avgwind</th>\n",
       "      <td>5.94286</td>\n",
       "      <td>16.8</td>\n",
       "      <td>13.0143</td>\n",
       "      <td>9.21429</td>\n",
       "    </tr>\n",
       "    <tr>\n",
       "      <th>avgwindE</th>\n",
       "      <td>1.26104</td>\n",
       "      <td>-10.8871</td>\n",
       "      <td>-9.34949</td>\n",
       "      <td>3.741</td>\n",
       "    </tr>\n",
       "    <tr>\n",
       "      <th>avgwindN</th>\n",
       "      <td>5.51586</td>\n",
       "      <td>-9.12698</td>\n",
       "      <td>8.45265</td>\n",
       "      <td>6.65185</td>\n",
       "    </tr>\n",
       "    <tr>\n",
       "      <th>isgusty</th>\n",
       "      <td>False</td>\n",
       "      <td>True</td>\n",
       "      <td>True</td>\n",
       "      <td>False</td>\n",
       "    </tr>\n",
       "    <tr>\n",
       "      <th>rainhours</th>\n",
       "      <td>0</td>\n",
       "      <td>0.285714</td>\n",
       "      <td>0</td>\n",
       "      <td>0</td>\n",
       "    </tr>\n",
       "    <tr>\n",
       "      <th>prior_year</th>\n",
       "      <td>2014</td>\n",
       "      <td>2014</td>\n",
       "      <td>2013</td>\n",
       "      <td>2015</td>\n",
       "    </tr>\n",
       "    <tr>\n",
       "      <th>prior_time</th>\n",
       "      <td>191.75</td>\n",
       "      <td>241.467</td>\n",
       "      <td>255.167</td>\n",
       "      <td>263.417</td>\n",
       "    </tr>\n",
       "    <tr>\n",
       "      <th>home_AK</th>\n",
       "      <td>0</td>\n",
       "      <td>0</td>\n",
       "      <td>0</td>\n",
       "      <td>0</td>\n",
       "    </tr>\n",
       "    <tr>\n",
       "      <th>home_AL</th>\n",
       "      <td>0</td>\n",
       "      <td>0</td>\n",
       "      <td>0</td>\n",
       "      <td>0</td>\n",
       "    </tr>\n",
       "    <tr>\n",
       "      <th>home_AR</th>\n",
       "      <td>0</td>\n",
       "      <td>0</td>\n",
       "      <td>0</td>\n",
       "      <td>0</td>\n",
       "    </tr>\n",
       "    <tr>\n",
       "      <th>home_AUS</th>\n",
       "      <td>0</td>\n",
       "      <td>0</td>\n",
       "      <td>0</td>\n",
       "      <td>0</td>\n",
       "    </tr>\n",
       "    <tr>\n",
       "      <th>home_AZ</th>\n",
       "      <td>0</td>\n",
       "      <td>0</td>\n",
       "      <td>0</td>\n",
       "      <td>0</td>\n",
       "    </tr>\n",
       "    <tr>\n",
       "      <th>home_BRA</th>\n",
       "      <td>0</td>\n",
       "      <td>0</td>\n",
       "      <td>0</td>\n",
       "      <td>0</td>\n",
       "    </tr>\n",
       "    <tr>\n",
       "      <th>home_CA</th>\n",
       "      <td>0</td>\n",
       "      <td>0</td>\n",
       "      <td>0</td>\n",
       "      <td>0</td>\n",
       "    </tr>\n",
       "    <tr>\n",
       "      <th>home_CAN</th>\n",
       "      <td>0</td>\n",
       "      <td>0</td>\n",
       "      <td>0</td>\n",
       "      <td>0</td>\n",
       "    </tr>\n",
       "    <tr>\n",
       "      <th>home_CO</th>\n",
       "      <td>0</td>\n",
       "      <td>0</td>\n",
       "      <td>0</td>\n",
       "      <td>0</td>\n",
       "    </tr>\n",
       "    <tr>\n",
       "      <th>home_CT</th>\n",
       "      <td>0</td>\n",
       "      <td>0</td>\n",
       "      <td>0</td>\n",
       "      <td>0</td>\n",
       "    </tr>\n",
       "    <tr>\n",
       "      <th>home_DC</th>\n",
       "      <td>0</td>\n",
       "      <td>0</td>\n",
       "      <td>0</td>\n",
       "      <td>0</td>\n",
       "    </tr>\n",
       "    <tr>\n",
       "      <th>home_DE</th>\n",
       "      <td>0</td>\n",
       "      <td>0</td>\n",
       "      <td>0</td>\n",
       "      <td>0</td>\n",
       "    </tr>\n",
       "    <tr>\n",
       "      <th>home_FL</th>\n",
       "      <td>0</td>\n",
       "      <td>0</td>\n",
       "      <td>0</td>\n",
       "      <td>0</td>\n",
       "    </tr>\n",
       "    <tr>\n",
       "      <th>home_GA</th>\n",
       "      <td>0</td>\n",
       "      <td>0</td>\n",
       "      <td>0</td>\n",
       "      <td>0</td>\n",
       "    </tr>\n",
       "    <tr>\n",
       "      <th>home_GBR</th>\n",
       "      <td>0</td>\n",
       "      <td>0</td>\n",
       "      <td>0</td>\n",
       "      <td>0</td>\n",
       "    </tr>\n",
       "    <tr>\n",
       "      <th>home_GER</th>\n",
       "      <td>0</td>\n",
       "      <td>0</td>\n",
       "      <td>0</td>\n",
       "      <td>0</td>\n",
       "    </tr>\n",
       "    <tr>\n",
       "      <th>...</th>\n",
       "      <td>...</td>\n",
       "      <td>...</td>\n",
       "      <td>...</td>\n",
       "      <td>...</td>\n",
       "    </tr>\n",
       "    <tr>\n",
       "      <th>prior_marathon_white_continent</th>\n",
       "      <td>0</td>\n",
       "      <td>0</td>\n",
       "      <td>0</td>\n",
       "      <td>0</td>\n",
       "    </tr>\n",
       "    <tr>\n",
       "      <th>prior_marathon_white_peak</th>\n",
       "      <td>0</td>\n",
       "      <td>0</td>\n",
       "      <td>0</td>\n",
       "      <td>0</td>\n",
       "    </tr>\n",
       "    <tr>\n",
       "      <th>prior_marathon_white_river_for_kenya</th>\n",
       "      <td>0</td>\n",
       "      <td>0</td>\n",
       "      <td>0</td>\n",
       "      <td>0</td>\n",
       "    </tr>\n",
       "    <tr>\n",
       "      <th>prior_marathon_whitefish_point</th>\n",
       "      <td>0</td>\n",
       "      <td>0</td>\n",
       "      <td>0</td>\n",
       "      <td>0</td>\n",
       "    </tr>\n",
       "    <tr>\n",
       "      <th>prior_marathon_wicked</th>\n",
       "      <td>0</td>\n",
       "      <td>0</td>\n",
       "      <td>0</td>\n",
       "      <td>0</td>\n",
       "    </tr>\n",
       "    <tr>\n",
       "      <th>prior_marathon_wild_wild_west</th>\n",
       "      <td>0</td>\n",
       "      <td>0</td>\n",
       "      <td>0</td>\n",
       "      <td>0</td>\n",
       "    </tr>\n",
       "    <tr>\n",
       "      <th>prior_marathon_wildwood</th>\n",
       "      <td>0</td>\n",
       "      <td>0</td>\n",
       "      <td>0</td>\n",
       "      <td>0</td>\n",
       "    </tr>\n",
       "    <tr>\n",
       "      <th>prior_marathon_windermere</th>\n",
       "      <td>0</td>\n",
       "      <td>0</td>\n",
       "      <td>0</td>\n",
       "      <td>0</td>\n",
       "    </tr>\n",
       "    <tr>\n",
       "      <th>prior_marathon_wineglass</th>\n",
       "      <td>0</td>\n",
       "      <td>0</td>\n",
       "      <td>0</td>\n",
       "      <td>0</td>\n",
       "    </tr>\n",
       "    <tr>\n",
       "      <th>prior_marathon_winter_trail</th>\n",
       "      <td>0</td>\n",
       "      <td>0</td>\n",
       "      <td>0</td>\n",
       "      <td>0</td>\n",
       "    </tr>\n",
       "    <tr>\n",
       "      <th>prior_marathon_winthrop_road</th>\n",
       "      <td>0</td>\n",
       "      <td>0</td>\n",
       "      <td>0</td>\n",
       "      <td>0</td>\n",
       "    </tr>\n",
       "    <tr>\n",
       "      <th>prior_marathon_wisconsin</th>\n",
       "      <td>0</td>\n",
       "      <td>0</td>\n",
       "      <td>0</td>\n",
       "      <td>0</td>\n",
       "    </tr>\n",
       "    <tr>\n",
       "      <th>prior_marathon_wisconsin_dells_half</th>\n",
       "      <td>0</td>\n",
       "      <td>0</td>\n",
       "      <td>0</td>\n",
       "      <td>0</td>\n",
       "    </tr>\n",
       "    <tr>\n",
       "      <th>prior_marathon_wishbone_run</th>\n",
       "      <td>0</td>\n",
       "      <td>0</td>\n",
       "      <td>0</td>\n",
       "      <td>0</td>\n",
       "    </tr>\n",
       "    <tr>\n",
       "      <th>prior_marathon_wolverhampton_city</th>\n",
       "      <td>0</td>\n",
       "      <td>0</td>\n",
       "      <td>0</td>\n",
       "      <td>0</td>\n",
       "    </tr>\n",
       "    <tr>\n",
       "      <th>prior_marathon_woolley</th>\n",
       "      <td>0</td>\n",
       "      <td>0</td>\n",
       "      <td>0</td>\n",
       "      <td>0</td>\n",
       "    </tr>\n",
       "    <tr>\n",
       "      <th>prior_marathon_world_alzheimers_day_run_for_heroes</th>\n",
       "      <td>0</td>\n",
       "      <td>0</td>\n",
       "      <td>0</td>\n",
       "      <td>0</td>\n",
       "    </tr>\n",
       "    <tr>\n",
       "      <th>prior_marathon_wrightsville_beach</th>\n",
       "      <td>0</td>\n",
       "      <td>0</td>\n",
       "      <td>0</td>\n",
       "      <td>0</td>\n",
       "    </tr>\n",
       "    <tr>\n",
       "      <th>prior_marathon_wyoming</th>\n",
       "      <td>0</td>\n",
       "      <td>0</td>\n",
       "      <td>0</td>\n",
       "      <td>0</td>\n",
       "    </tr>\n",
       "    <tr>\n",
       "      <th>prior_marathon_xcountry</th>\n",
       "      <td>0</td>\n",
       "      <td>0</td>\n",
       "      <td>0</td>\n",
       "      <td>0</td>\n",
       "    </tr>\n",
       "    <tr>\n",
       "      <th>prior_marathon_xterra_of_trail_races</th>\n",
       "      <td>0</td>\n",
       "      <td>0</td>\n",
       "      <td>0</td>\n",
       "      <td>0</td>\n",
       "    </tr>\n",
       "    <tr>\n",
       "      <th>prior_marathon_yakima_river_canyon</th>\n",
       "      <td>0</td>\n",
       "      <td>0</td>\n",
       "      <td>0</td>\n",
       "      <td>0</td>\n",
       "    </tr>\n",
       "    <tr>\n",
       "      <th>prior_marathon_ymca_stone_bridge</th>\n",
       "      <td>0</td>\n",
       "      <td>0</td>\n",
       "      <td>0</td>\n",
       "      <td>0</td>\n",
       "    </tr>\n",
       "    <tr>\n",
       "      <th>prior_marathon_yonkers</th>\n",
       "      <td>0</td>\n",
       "      <td>0</td>\n",
       "      <td>0</td>\n",
       "      <td>0</td>\n",
       "    </tr>\n",
       "    <tr>\n",
       "      <th>prior_marathon_yorkshireman_off_road</th>\n",
       "      <td>0</td>\n",
       "      <td>0</td>\n",
       "      <td>0</td>\n",
       "      <td>0</td>\n",
       "    </tr>\n",
       "    <tr>\n",
       "      <th>prior_marathon_yukon_river_trail</th>\n",
       "      <td>0</td>\n",
       "      <td>0</td>\n",
       "      <td>0</td>\n",
       "      <td>0</td>\n",
       "    </tr>\n",
       "    <tr>\n",
       "      <th>prior_marathon_yuma_territorial_and_half</th>\n",
       "      <td>0</td>\n",
       "      <td>0</td>\n",
       "      <td>0</td>\n",
       "      <td>0</td>\n",
       "    </tr>\n",
       "    <tr>\n",
       "      <th>prior_marathon_zoom_yah_yah_indoor</th>\n",
       "      <td>0</td>\n",
       "      <td>0</td>\n",
       "      <td>0</td>\n",
       "      <td>0</td>\n",
       "    </tr>\n",
       "    <tr>\n",
       "      <th>prior_marathon_zydeco</th>\n",
       "      <td>0</td>\n",
       "      <td>0</td>\n",
       "      <td>0</td>\n",
       "      <td>0</td>\n",
       "    </tr>\n",
       "    <tr>\n",
       "      <th>predicted_time</th>\n",
       "      <td>200.368</td>\n",
       "      <td>206.619</td>\n",
       "      <td>207.164</td>\n",
       "      <td>206.614</td>\n",
       "    </tr>\n",
       "  </tbody>\n",
       "</table>\n",
       "<p>997 rows × 4 columns</p>\n",
       "</div>"
      ],
      "text/plain": [
       "                                                      172       3253   \\\n",
       "bib                                                    8229      8229   \n",
       "age                                                      47        47   \n",
       "gender                                                 True      True   \n",
       "elite                                                 False     False   \n",
       "qualifier                                             False     False   \n",
       "avgtemp                                             74.6857   73.5143   \n",
       "avghumid                                            43.5714   70.1429   \n",
       "avgwind                                             5.94286      16.8   \n",
       "avgwindE                                            1.26104  -10.8871   \n",
       "avgwindN                                            5.51586  -9.12698   \n",
       "isgusty                                               False      True   \n",
       "rainhours                                                 0  0.285714   \n",
       "prior_year                                             2014      2014   \n",
       "prior_time                                           191.75   241.467   \n",
       "home_AK                                                   0         0   \n",
       "home_AL                                                   0         0   \n",
       "home_AR                                                   0         0   \n",
       "home_AUS                                                  0         0   \n",
       "home_AZ                                                   0         0   \n",
       "home_BRA                                                  0         0   \n",
       "home_CA                                                   0         0   \n",
       "home_CAN                                                  0         0   \n",
       "home_CO                                                   0         0   \n",
       "home_CT                                                   0         0   \n",
       "home_DC                                                   0         0   \n",
       "home_DE                                                   0         0   \n",
       "home_FL                                                   0         0   \n",
       "home_GA                                                   0         0   \n",
       "home_GBR                                                  0         0   \n",
       "home_GER                                                  0         0   \n",
       "...                                                     ...       ...   \n",
       "prior_marathon_white_continent                            0         0   \n",
       "prior_marathon_white_peak                                 0         0   \n",
       "prior_marathon_white_river_for_kenya                      0         0   \n",
       "prior_marathon_whitefish_point                            0         0   \n",
       "prior_marathon_wicked                                     0         0   \n",
       "prior_marathon_wild_wild_west                             0         0   \n",
       "prior_marathon_wildwood                                   0         0   \n",
       "prior_marathon_windermere                                 0         0   \n",
       "prior_marathon_wineglass                                  0         0   \n",
       "prior_marathon_winter_trail                               0         0   \n",
       "prior_marathon_winthrop_road                              0         0   \n",
       "prior_marathon_wisconsin                                  0         0   \n",
       "prior_marathon_wisconsin_dells_half                       0         0   \n",
       "prior_marathon_wishbone_run                               0         0   \n",
       "prior_marathon_wolverhampton_city                         0         0   \n",
       "prior_marathon_woolley                                    0         0   \n",
       "prior_marathon_world_alzheimers_day_run_for_heroes        0         0   \n",
       "prior_marathon_wrightsville_beach                         0         0   \n",
       "prior_marathon_wyoming                                    0         0   \n",
       "prior_marathon_xcountry                                   0         0   \n",
       "prior_marathon_xterra_of_trail_races                      0         0   \n",
       "prior_marathon_yakima_river_canyon                        0         0   \n",
       "prior_marathon_ymca_stone_bridge                          0         0   \n",
       "prior_marathon_yonkers                                    0         0   \n",
       "prior_marathon_yorkshireman_off_road                      0         0   \n",
       "prior_marathon_yukon_river_trail                          0         0   \n",
       "prior_marathon_yuma_territorial_and_half                  0         0   \n",
       "prior_marathon_zoom_yah_yah_indoor                        0         0   \n",
       "prior_marathon_zydeco                                     0         0   \n",
       "predicted_time                                      200.368   206.619   \n",
       "\n",
       "                                                      7184     22148  \n",
       "bib                                                    8229     8229  \n",
       "age                                                      47       47  \n",
       "gender                                                 True     True  \n",
       "elite                                                 False    False  \n",
       "qualifier                                             False    False  \n",
       "avgtemp                                             54.5571  62.1571  \n",
       "avghumid                                                 62       54  \n",
       "avgwind                                             13.0143  9.21429  \n",
       "avgwindE                                           -9.34949    3.741  \n",
       "avgwindN                                            8.45265  6.65185  \n",
       "isgusty                                                True    False  \n",
       "rainhours                                                 0        0  \n",
       "prior_year                                             2013     2015  \n",
       "prior_time                                          255.167  263.417  \n",
       "home_AK                                                   0        0  \n",
       "home_AL                                                   0        0  \n",
       "home_AR                                                   0        0  \n",
       "home_AUS                                                  0        0  \n",
       "home_AZ                                                   0        0  \n",
       "home_BRA                                                  0        0  \n",
       "home_CA                                                   0        0  \n",
       "home_CAN                                                  0        0  \n",
       "home_CO                                                   0        0  \n",
       "home_CT                                                   0        0  \n",
       "home_DC                                                   0        0  \n",
       "home_DE                                                   0        0  \n",
       "home_FL                                                   0        0  \n",
       "home_GA                                                   0        0  \n",
       "home_GBR                                                  0        0  \n",
       "home_GER                                                  0        0  \n",
       "...                                                     ...      ...  \n",
       "prior_marathon_white_continent                            0        0  \n",
       "prior_marathon_white_peak                                 0        0  \n",
       "prior_marathon_white_river_for_kenya                      0        0  \n",
       "prior_marathon_whitefish_point                            0        0  \n",
       "prior_marathon_wicked                                     0        0  \n",
       "prior_marathon_wild_wild_west                             0        0  \n",
       "prior_marathon_wildwood                                   0        0  \n",
       "prior_marathon_windermere                                 0        0  \n",
       "prior_marathon_wineglass                                  0        0  \n",
       "prior_marathon_winter_trail                               0        0  \n",
       "prior_marathon_winthrop_road                              0        0  \n",
       "prior_marathon_wisconsin                                  0        0  \n",
       "prior_marathon_wisconsin_dells_half                       0        0  \n",
       "prior_marathon_wishbone_run                               0        0  \n",
       "prior_marathon_wolverhampton_city                         0        0  \n",
       "prior_marathon_woolley                                    0        0  \n",
       "prior_marathon_world_alzheimers_day_run_for_heroes        0        0  \n",
       "prior_marathon_wrightsville_beach                         0        0  \n",
       "prior_marathon_wyoming                                    0        0  \n",
       "prior_marathon_xcountry                                   0        0  \n",
       "prior_marathon_xterra_of_trail_races                      0        0  \n",
       "prior_marathon_yakima_river_canyon                        0        0  \n",
       "prior_marathon_ymca_stone_bridge                          0        0  \n",
       "prior_marathon_yonkers                                    0        0  \n",
       "prior_marathon_yorkshireman_off_road                      0        0  \n",
       "prior_marathon_yukon_river_trail                          0        0  \n",
       "prior_marathon_yuma_territorial_and_half                  0        0  \n",
       "prior_marathon_zoom_yah_yah_indoor                        0        0  \n",
       "prior_marathon_zydeco                                     0        0  \n",
       "predicted_time                                      207.164  206.614  \n",
       "\n",
       "[997 rows x 4 columns]"
      ]
     },
     "execution_count": 43,
     "metadata": {},
     "output_type": "execute_result"
    }
   ],
   "source": [
    "model_df[model_df['bib'] == 8229].T"
   ]
  },
  {
   "cell_type": "code",
   "execution_count": null,
   "metadata": {
    "collapsed": true
   },
   "outputs": [],
   "source": []
  }
 ],
 "metadata": {
  "kernelspec": {
   "display_name": "Python 2",
   "language": "python",
   "name": "python2"
  },
  "language_info": {
   "codemirror_mode": {
    "name": "ipython",
    "version": 2
   },
   "file_extension": ".py",
   "mimetype": "text/x-python",
   "name": "python",
   "nbconvert_exporter": "python",
   "pygments_lexer": "ipython2",
   "version": "2.7.11"
  }
 },
 "nbformat": 4,
 "nbformat_minor": 0
}
