{
 "cells": [
  {
   "cell_type": "code",
   "execution_count": 1,
   "metadata": {
    "collapsed": false
   },
   "outputs": [
    {
     "name": "stdout",
     "output_type": "stream",
     "text": [
      "/Users/timothychan/marathon/marathon-repo/marathon\n"
     ]
    }
   ],
   "source": [
    "cd ../marathon/"
   ]
  },
  {
   "cell_type": "code",
   "execution_count": 2,
   "metadata": {
    "collapsed": true
   },
   "outputs": [],
   "source": [
    "import pandas as pd\n",
    "import numpy as np\n",
    "import matplotlib.pyplot as plt\n",
    "import marathonlib\n",
    "%matplotlib inline"
   ]
  },
  {
   "cell_type": "code",
   "execution_count": 3,
   "metadata": {
    "collapsed": true
   },
   "outputs": [],
   "source": [
    "def plot_model_deviation(model, X_train, y_train, X_test, y_test):\n",
    "    print 'Train R^2:', model.score(X_train, y_train)\n",
    "    print 'Test R^2:', model.score(X_test, y_test)\n",
    "    y_predict = model.predict(X_test)\n",
    "    print 'Standard Error of Test:', marathonlib.time_to_timestring(np.var(y_test-y_predict)**0.5)\n",
    "    plt.hist(y_test-y_predict, bins=70, normed=True, linewidth=0)\n",
    "    plt.xlim(-100, 250)\n",
    "    plt.ylim(0, 0.04)\n",
    "    plt.vlines(0, 0, 1)"
   ]
  },
  {
   "cell_type": "code",
   "execution_count": 4,
   "metadata": {
    "collapsed": false
   },
   "outputs": [],
   "source": [
    "from sklearn.dummy import DummyRegressor"
   ]
  },
  {
   "cell_type": "markdown",
   "metadata": {},
   "source": [
    "# Analyze 2016 data, All runners"
   ]
  },
  {
   "cell_type": "code",
   "execution_count": 5,
   "metadata": {
    "collapsed": false
   },
   "outputs": [],
   "source": [
    "df = pd.read_csv('data/boston_combined.csv')\n",
    "df16 = df[(df['year'] == 2016)]"
   ]
  },
  {
   "cell_type": "code",
   "execution_count": 6,
   "metadata": {
    "collapsed": false
   },
   "outputs": [
    {
     "name": "stdout",
     "output_type": "stream",
     "text": [
      "26437\n"
     ]
    }
   ],
   "source": [
    "print len(df16)"
   ]
  },
  {
   "cell_type": "markdown",
   "metadata": {},
   "source": [
    "### Mean as a Model"
   ]
  },
  {
   "cell_type": "code",
   "execution_count": 7,
   "metadata": {
    "collapsed": false
   },
   "outputs": [
    {
     "data": {
      "image/png": "[encoded data removed]",
      "text/plain": [
       "<matplotlib.figure.Figure at 0x10eebc2d0>"
      ]
     },
     "metadata": {},
     "output_type": "display_data"
    },
    {
     "name": "stdout",
     "output_type": "stream",
     "text": [
      "Mean: 3:55:00\n",
      "Standard Deviation: 0:41:02\n"
     ]
    }
   ],
   "source": [
    "plt.title('Distribution of Race Times')\n",
    "plt.hist(df16['offltime'], bins=100, linewidth=0)\n",
    "plt.show()\n",
    "print 'Mean:', marathonlib.time_to_timestring(df16['offltime'].mean())\n",
    "print 'Standard Deviation:', marathonlib.time_to_timestring(df16['offltime'].var()**0.5)"
   ]
  },
  {
   "cell_type": "code",
   "execution_count": 8,
   "metadata": {
    "collapsed": false
   },
   "outputs": [
    {
     "name": "stdout",
     "output_type": "stream",
     "text": [
      "Train R^2: 0.0\n",
      "Test R^2: 0.0\n",
      "Standard Error of Test: 0:41:02\n"
     ]
    },
    {
     "data": {
      "image/png": "[encoded data removed]",
      "text/plain": [
       "<matplotlib.figure.Figure at 0x10c4e0290>"
      ]
     },
     "metadata": {},
     "output_type": "display_data"
    }
   ],
   "source": [
    "feature_columns = [u'bib', u'age', u'gender', u'elite', u'qualifier', u'home']\n",
    "model_df = pd.get_dummies(df16[feature_columns])\n",
    "X = model_df.values\n",
    "y = df16['offltime'].values\n",
    "\n",
    "model = DummyRegressor()\n",
    "model.fit(X, y)\n",
    "plot_model_deviation(model, X, y, X, y)\n",
    "\n",
    "plt.show()"
   ]
  },
  {
   "cell_type": "markdown",
   "metadata": {},
   "source": [
    "# Analyze 2016 data"
   ]
  },
  {
   "cell_type": "code",
   "execution_count": 9,
   "metadata": {
    "collapsed": false
   },
   "outputs": [
    {
     "name": "stdout",
     "output_type": "stream",
     "text": [
      "20951\n"
     ]
    }
   ],
   "source": [
    "df16quals = df[(df['year'] == 2016) & (df['qualifier'])]\n",
    "print len(df16quals)"
   ]
  },
  {
   "cell_type": "code",
   "execution_count": 11,
   "metadata": {
    "collapsed": false
   },
   "outputs": [
    {
     "name": "stdout",
     "output_type": "stream",
     "text": [
      "Train R^2: 0.0\n",
      "Test R^2: 0.0\n",
      "Standard Error of Test: 0:41:02\n"
     ]
    },
    {
     "data": {
      "image/png": "[encoded data removed]",
      "text/plain": [
       "<matplotlib.figure.Figure at 0x10fa10b10>"
      ]
     },
     "metadata": {},
     "output_type": "display_data"
    }
   ],
   "source": [
    "feature_columns = [u'bib', u'age', u'gender', u'elite', u'qualifier', u'home']\n",
    "model_df = pd.get_dummies(df16[feature_columns])\n",
    "X = model_df.values\n",
    "y = df16['offltime'].values\n",
    "\n",
    "model = DummyRegressor()\n",
    "model.fit(X, y)\n",
    "plot_model_deviation(model, X, y, X, y)\n",
    "plt.savefig('model-mean.png', bbox_inches='tight', dpi=300, transparent=True)\n",
    "plt.show()"
   ]
  },
  {
   "cell_type": "markdown",
   "metadata": {},
   "source": [
    "# Bib Number as Priors\n",
    "### Linear Regression Model"
   ]
  },
  {
   "cell_type": "code",
   "execution_count": 12,
   "metadata": {
    "collapsed": true
   },
   "outputs": [],
   "source": [
    "from sklearn.linear_model import LinearRegression, Lasso"
   ]
  },
  {
   "cell_type": "code",
   "execution_count": 13,
   "metadata": {
    "collapsed": false
   },
   "outputs": [
    {
     "data": {
      "text/plain": [
       "Index([u'marathon', u'year', u'firstname', u'bib', u'age', u'gender',\n",
       "       u'offltime', u'starttime', u'time5k', u'time10k', u'time15k',\n",
       "       u'time20k', u'timehalf', u'time25k', u'time30k', u'time35k', u'time40k',\n",
       "       u'elite', u'qualifier', u'home', u'miss5k', u'miss10k', u'miss15k',\n",
       "       u'miss20k', u'misshalf', u'miss25k', u'miss30k', u'miss35k', u'miss40k',\n",
       "       u'avgtemp', u'avghumid', u'avgwind', u'avgwindE', u'avgwindN',\n",
       "       u'isgusty', u'rainhours'],\n",
       "      dtype='object')"
      ]
     },
     "execution_count": 13,
     "metadata": {},
     "output_type": "execute_result"
    }
   ],
   "source": [
    "df16.columns"
   ]
  },
  {
   "cell_type": "code",
   "execution_count": 14,
   "metadata": {
    "collapsed": false
   },
   "outputs": [],
   "source": [
    "feature_columns = [u'bib', u'age', u'gender', u'elite', u'qualifier', u'home']\n",
    "model_df = pd.get_dummies(df16[feature_columns])\n",
    "X = model_df.values\n",
    "y = df16['offltime'].values"
   ]
  },
  {
   "cell_type": "code",
   "execution_count": 16,
   "metadata": {
    "collapsed": false
   },
   "outputs": [
    {
     "name": "stdout",
     "output_type": "stream",
     "text": [
      "Train R^2: 0.616671731497\n",
      "Test R^2: 0.616671731497\n",
      "Standard Error of Test: 0:25:24\n"
     ]
    },
    {
     "data": {
      "image/png": "[encoded data removed]",
      "text/plain": [
       "<matplotlib.figure.Figure at 0x10fa10410>"
      ]
     },
     "metadata": {},
     "output_type": "display_data"
    }
   ],
   "source": [
    "model = LinearRegression()\n",
    "model.fit(X,y)\n",
    "plot_model_deviation(model, X, y, X, y)\n",
    "plt.savefig('model-regression.png', bbox_inches='tight', dpi=300, transparent=True)\n",
    "plt.show()"
   ]
  },
  {
   "cell_type": "markdown",
   "metadata": {},
   "source": [
    "### Lasso Regression Model"
   ]
  },
  {
   "cell_type": "code",
   "execution_count": 17,
   "metadata": {
    "collapsed": false
   },
   "outputs": [
    {
     "name": "stdout",
     "output_type": "stream",
     "text": [
      "Lasso Coefficients (alpha= 0.21 )\n",
      "------------------\n",
      "intercept 192.251487775\n",
      "bib       0.00256888943947\n",
      "age       0.410238171302\n",
      "gender    -2.138611985\n",
      "qualifier -19.6878373658\n",
      "home_MA   2.60809334171\n",
      "\n",
      "Train R^2: 0.609313600114\n",
      "Test R^2: 0.609313600114\n",
      "Standard Error of Test: 0:25:39\n"
     ]
    },
    {
     "data": {
      "image/png": "[encoded data removed]",
      "text/plain": [
       "<matplotlib.figure.Figure at 0x10407a050>"
      ]
     },
     "metadata": {},
     "output_type": "display_data"
    }
   ],
   "source": [
    "alpha=0.21\n",
    "model = Lasso(alpha=alpha)\n",
    "model.fit(X,y)\n",
    "print 'Lasso Coefficients (alpha=',alpha,')'\n",
    "print '------------------'\n",
    "print '{0:10}{1}'.format('intercept', model.intercept_)\n",
    "for name, coef in zip(model_df.columns, model.coef_):\n",
    "    if abs(coef) > 0.001:\n",
    "        print '{0:10}{1}'.format(name, coef)\n",
    "print \n",
    "plot_model_deviation(model, X, y, X, y)\n",
    "plt.show()"
   ]
  },
  {
   "cell_type": "markdown",
   "metadata": {
    "collapsed": true
   },
   "source": [
    "### Random Forest Model"
   ]
  },
  {
   "cell_type": "code",
   "execution_count": 18,
   "metadata": {
    "collapsed": false
   },
   "outputs": [
    {
     "name": "stderr",
     "output_type": "stream",
     "text": [
      "/Users/timothychan/.local/lib/python2.7/site-packages/sklearn/cross_validation.py:43: DeprecationWarning: This module has been deprecated in favor of the model_selection module into which all the refactored classes and functions are moved. Also note that the interface of the new CV iterators are different from that of this module. This module will be removed in 0.20.\n",
      "  \"This module will be removed in 0.20.\", DeprecationWarning)\n",
      "/Users/timothychan/.local/lib/python2.7/site-packages/sklearn/grid_search.py:43: DeprecationWarning: This module has been deprecated in favor of the model_selection module into which all the refactored classes and functions are moved. This module will be removed in 0.20.\n",
      "  DeprecationWarning)\n"
     ]
    }
   ],
   "source": [
    "from sklearn.ensemble import RandomForestRegressor\n",
    "from sklearn.cross_validation import train_test_split\n",
    "from sklearn.grid_search import GridSearchCV"
   ]
  },
  {
   "cell_type": "code",
   "execution_count": 19,
   "metadata": {
    "collapsed": false
   },
   "outputs": [
    {
     "name": "stdout",
     "output_type": "stream",
     "text": [
      "(19827, 74) (19827,)\n"
     ]
    }
   ],
   "source": [
    "X_train, X_test, y_train, y_test = train_test_split(X, y, random_state=20)\n",
    "print X_train.shape, y_train.shape"
   ]
  },
  {
   "cell_type": "code",
   "execution_count": 32,
   "metadata": {
    "collapsed": false
   },
   "outputs": [
    {
     "data": {
      "text/plain": [
       "{'max_depth': 9, 'max_features': 38, 'n_estimators': 200}"
      ]
     },
     "execution_count": 32,
     "metadata": {},
     "output_type": "execute_result"
    }
   ],
   "source": [
    "model = GridSearchCV(RandomForestRegressor(),\n",
    "                     param_grid = {'n_estimators': [100, 200],\n",
    "                                   'max_depth': [9],\n",
    "                                   'max_features': [36, 38, 40, 42]},\n",
    "                     n_jobs=-1)\n",
    "model.fit(X_train, y_train)\n",
    "model.best_params_"
   ]
  },
  {
   "cell_type": "code",
   "execution_count": 20,
   "metadata": {
    "collapsed": false
   },
   "outputs": [
    {
     "name": "stdout",
     "output_type": "stream",
     "text": [
      "Train R^2: 0.682946186983\n",
      "Test R^2: 0.622004324879\n",
      "Standard Error of Test: 0:25:41\n"
     ]
    },
    {
     "data": {
      "image/png": "[encoded data removed]",
      "text/plain": [
       "<matplotlib.figure.Figure at 0x10d11fb10>"
      ]
     },
     "metadata": {},
     "output_type": "display_data"
    }
   ],
   "source": [
    "model = RandomForestRegressor(max_depth = 9, max_features = 38, n_estimators = 200)\n",
    "model.fit(X_train, y_train)\n",
    "plot_model_deviation(model, X_train, y_train, X_test, y_test)\n",
    "plt.savefig('model-randomforest.png', bbox_inches='tight', dpi=300, transparent=True)\n",
    "plt.show()"
   ]
  },
  {
   "cell_type": "markdown",
   "metadata": {},
   "source": [
    "### Gradient Boosting Regressor"
   ]
  },
  {
   "cell_type": "code",
   "execution_count": 21,
   "metadata": {
    "collapsed": true
   },
   "outputs": [],
   "source": [
    "from sklearn.ensemble import GradientBoostingRegressor"
   ]
  },
  {
   "cell_type": "code",
   "execution_count": 34,
   "metadata": {
    "collapsed": false
   },
   "outputs": [
    {
     "data": {
      "text/plain": [
       "{'learning_rate': 0.04, 'max_depth': 4, 'n_estimators': 200, 'subsample': 0.6}"
      ]
     },
     "execution_count": 34,
     "metadata": {},
     "output_type": "execute_result"
    }
   ],
   "source": [
    "model = GridSearchCV(GradientBoostingRegressor(),\n",
    "                     param_grid = {'n_estimators': [100, 200],\n",
    "                                   'learning_rate': [0.08, 0.06, 0.04, 0.03],\n",
    "                                   'subsample': [0.55, 0.60, 0.65],\n",
    "                                   'max_depth': [3,4,5,6,7]},\n",
    "                     n_jobs=-1)\n",
    "model.fit(X_train, y_train)\n",
    "model.best_params_"
   ]
  },
  {
   "cell_type": "code",
   "execution_count": 22,
   "metadata": {
    "collapsed": false
   },
   "outputs": [
    {
     "name": "stdout",
     "output_type": "stream",
     "text": [
      "Train R^2: 0.666681316146\n",
      "Test R^2: 0.621659763946\n",
      "Standard Error of Test: 0:25:42\n"
     ]
    },
    {
     "data": {
      "image/png": "[encoded data removed]",
      "text/plain": [
       "<matplotlib.figure.Figure at 0x10e51d090>"
      ]
     },
     "metadata": {},
     "output_type": "display_data"
    }
   ],
   "source": [
    "model = GradientBoostingRegressor(n_estimators=200, learning_rate = 0.04, max_depth=4, subsample=0.6)\n",
    "model.fit(X_train, y_train)\n",
    "plot_model_deviation(model, X_train, y_train, X_test, y_test)\n",
    "plt.savefig('model-gradientboosting.png', bbox_inches='tight', dpi=300, transparent=True)\n",
    "plt.show()"
   ]
  },
  {
   "cell_type": "markdown",
   "metadata": {},
   "source": [
    "# Using prior Boston Marathon Running History\n",
    "### All Runners"
   ]
  },
  {
   "cell_type": "code",
   "execution_count": 23,
   "metadata": {
    "collapsed": true
   },
   "outputs": [],
   "source": [
    "df_prior = pd.read_csv('data/boston2016_BOSpriors.csv')"
   ]
  },
  {
   "cell_type": "code",
   "execution_count": 24,
   "metadata": {
    "collapsed": false
   },
   "outputs": [
    {
     "name": "stdout",
     "output_type": "stream",
     "text": [
      "(18402, 26)\n"
     ]
    },
    {
     "data": {
      "text/plain": [
       "Index([u'marathon', u'year', u'bib', u'name', u'firstname', u'lastname',\n",
       "       u'age', u'gender', u'city', u'state', u'country', u'citizenship',\n",
       "       u'offltime', u'prior_marathon', u'prior_year', u'prior_time', u'elite',\n",
       "       u'qualifier', u'home', u'avgtemp', u'avghumid', u'avgwind', u'avgwindE',\n",
       "       u'avgwindN', u'isgusty', u'rainhours'],\n",
       "      dtype='object')"
      ]
     },
     "execution_count": 24,
     "metadata": {},
     "output_type": "execute_result"
    }
   ],
   "source": [
    "print df_prior.shape\n",
    "df_prior.columns"
   ]
  },
  {
   "cell_type": "code",
   "execution_count": 25,
   "metadata": {
    "collapsed": false
   },
   "outputs": [
    {
     "name": "stdout",
     "output_type": "stream",
     "text": [
      "2016: 3:48:10\n",
      "2015: 3:37:08\n",
      "2014: 3:46:29\n",
      "2013: 3:27:34\n"
     ]
    }
   ],
   "source": [
    "print '2016:',marathonlib.time_to_timestring(df_prior['offltime'].mean())\n",
    "print '2015:',marathonlib.time_to_timestring(df_prior.loc[df_prior['prior_year']==2015, 'prior_time'].mean())\n",
    "print '2014:',marathonlib.time_to_timestring(df_prior.loc[df_prior['prior_year']==2014, 'prior_time'].mean())\n",
    "print '2013:',marathonlib.time_to_timestring(df_prior.loc[df_prior['prior_year']==2013, 'prior_time'].mean())"
   ]
  },
  {
   "cell_type": "code",
   "execution_count": 26,
   "metadata": {
    "collapsed": false
   },
   "outputs": [
    {
     "data": {
      "image/png": "[encoded data removed]",
      "text/plain": [
       "<matplotlib.figure.Figure at 0x10cac7210>"
      ]
     },
     "metadata": {},
     "output_type": "display_data"
    },
    {
     "name": "stdout",
     "output_type": "stream",
     "text": [
      "Mean: 3:48:10\n",
      "Standard Deviation: 0:38:14\n"
     ]
    }
   ],
   "source": [
    "### Check that the data is similar\n",
    "plt.title('Distribution of Race Times')\n",
    "df16['offltime'].hist(bins=100, color='r', label='all runners', linewidth=0)\n",
    "df_prior['offltime'].hist(bins=100, label='runners from prior', linewidth=0)\n",
    "plt.legend()\n",
    "plt.show()\n",
    "print 'Mean:', marathonlib.time_to_timestring(df_prior['offltime'].mean())\n",
    "print 'Standard Deviation:', marathonlib.time_to_timestring(df_prior['offltime'].var()**0.5)"
   ]
  },
  {
   "cell_type": "code",
   "execution_count": 27,
   "metadata": {
    "collapsed": false
   },
   "outputs": [
    {
     "data": {
      "image/png": "[encoded data removed]",
      "text/plain": [
       "<matplotlib.figure.Figure at 0x10cad5750>"
      ]
     },
     "metadata": {},
     "output_type": "display_data"
    }
   ],
   "source": [
    "# Correlation between 2015 finish and 2016\n",
    "plt.scatter(df_prior.loc[df_prior['prior_year']==2015, 'prior_time'], \n",
    "            df_prior.loc[df_prior['prior_year']==2015, 'offltime'], alpha=0.5, s=2, linewidth=0)\n",
    "plt.plot([100, 400], [100, 400], c='r')\n",
    "plt.xlabel('2015 finish time')\n",
    "plt.ylabel('2016 finish time')\n",
    "plt.show()"
   ]
  },
  {
   "cell_type": "code",
   "execution_count": 28,
   "metadata": {
    "collapsed": false
   },
   "outputs": [
    {
     "name": "stdout",
     "output_type": "stream",
     "text": [
      "(18402, 77)\n"
     ]
    }
   ],
   "source": [
    "feature_columns = ['marathon', u'year', u'bib', u'age', u'gender',\n",
    "       u'elite', u'qualifier', u'home', u'avgtemp',\n",
    "       u'avghumid', u'avgwind', u'avgwindE', u'avgwindN', u'isgusty',\n",
    "       u'rainhours','prior_year', 'prior_time', 'prior_marathon']\n",
    "model_df = pd.get_dummies(df_prior[feature_columns])\n",
    "X = model_df.values\n",
    "y = df_prior['offltime'].values\n",
    "print X.shape"
   ]
  },
  {
   "cell_type": "markdown",
   "metadata": {},
   "source": [
    "### Regression with Priors"
   ]
  },
  {
   "cell_type": "code",
   "execution_count": 29,
   "metadata": {
    "collapsed": false
   },
   "outputs": [
    {
     "name": "stdout",
     "output_type": "stream",
     "text": [
      "Train R^2: 0.711360832691\n",
      "Test R^2: 0.711360832691\n",
      "Standard Error of Test: 0:20:32\n"
     ]
    },
    {
     "data": {
      "image/png": "[encoded data removed]",
      "text/plain": [
       "<matplotlib.figure.Figure at 0x10e228fd0>"
      ]
     },
     "metadata": {},
     "output_type": "display_data"
    }
   ],
   "source": [
    "model = LinearRegression()\n",
    "model.fit(X,y)\n",
    "plot_model_deviation(model, X, y, X, y)\n",
    "plt.savefig('priormodel-regression.png', bbox_inches='tight', dpi=300, transparent=True)\n",
    "plt.show()"
   ]
  },
  {
   "cell_type": "code",
   "execution_count": 30,
   "metadata": {
    "collapsed": false
   },
   "outputs": [
    {
     "name": "stdout",
     "output_type": "stream",
     "text": [
      "\n",
      "Lasso Coefficients (alpha= 1.0 )\n",
      "------------------\n",
      "intercept 80.3670545004\n",
      "bib       0.00133159207557\n",
      "age       0.190881152964\n",
      "avgtemp   -0.125107125417\n",
      "avghumid  0.0184700661651\n",
      "prior_time0.570976194936\n",
      "\n",
      "Train R^2: 0.704984958233\n",
      "Test R^2: 0.704984958233\n",
      "Standard Error of Test: 0:20:46\n"
     ]
    },
    {
     "data": {
      "image/png": "[encoded data removed]",
      "text/plain": [
       "<matplotlib.figure.Figure at 0x10dc21b90>"
      ]
     },
     "metadata": {},
     "output_type": "display_data"
    }
   ],
   "source": [
    "alpha=1.0\n",
    "model = Lasso(alpha=alpha)\n",
    "model.fit(X,y)\n",
    "print \n",
    "print 'Lasso Coefficients (alpha=',alpha,')'\n",
    "print '------------------'\n",
    "print '{0:10}{1}'.format('intercept', model.intercept_)\n",
    "for name, coef in zip(model_df.columns, model.coef_):\n",
    "    if abs(coef) > 0.001:\n",
    "        print '{0:10}{1}'.format(name, coef)\n",
    "print\n",
    "plot_model_deviation(model, X, y, X, y)\n",
    "\n",
    "plt.show()\n"
   ]
  },
  {
   "cell_type": "markdown",
   "metadata": {},
   "source": [
    "#### Pretty good!  Prior is better than bib #"
   ]
  },
  {
   "cell_type": "markdown",
   "metadata": {},
   "source": [
    "### Try Random Forest"
   ]
  },
  {
   "cell_type": "code",
   "execution_count": 31,
   "metadata": {
    "collapsed": false
   },
   "outputs": [
    {
     "name": "stdout",
     "output_type": "stream",
     "text": [
      "(13801, 77) (13801,)\n",
      "Train R^2: 0.897082580072\n",
      "Test R^2: 0.721757888315\n",
      "Standard Error of Test: 0:19:59\n"
     ]
    },
    {
     "data": {
      "image/png": "[encoded data removed]",
      "text/plain": [
       "<matplotlib.figure.Figure at 0x10e8bdc90>"
      ]
     },
     "metadata": {},
     "output_type": "display_data"
    }
   ],
   "source": [
    "X_train, X_test, y_train, y_test = train_test_split(X, y, random_state=42)\n",
    "print X_train.shape, y_train.shape\n",
    "model = RandomForestRegressor(max_depth = 16, max_features = 24, n_estimators = 500)\n",
    "model.fit(X_train, y_train)\n",
    "plot_model_deviation(model, X_train, y_train, X_test, y_test)\n",
    "plt.savefig('priormodel-randomforest.png', bbox_inches='tight', dpi=300, transparent=True)\n",
    "plt.show()"
   ]
  },
  {
   "cell_type": "code",
   "execution_count": 52,
   "metadata": {
    "collapsed": false
   },
   "outputs": [
    {
     "data": {
      "text/plain": [
       "{'max_depth': 16, 'max_features': 43, 'n_estimators': 100}"
      ]
     },
     "execution_count": 52,
     "metadata": {},
     "output_type": "execute_result"
    }
   ],
   "source": [
    "model = GridSearchCV(RandomForestRegressor(),\n",
    "                     param_grid = {'n_estimators': [100],\n",
    "                                   'max_depth': [14, 16, 18],\n",
    "                                   'max_features': [37, 40, 43]},\n",
    "                     n_jobs=-1)\n",
    "model.fit(X_train, y_train)\n",
    "model.best_params_"
   ]
  },
  {
   "cell_type": "code",
   "execution_count": 33,
   "metadata": {
    "collapsed": false
   },
   "outputs": [
    {
     "name": "stdout",
     "output_type": "stream",
     "text": [
      "Train R^2: 0.912119553829\n",
      "Test R^2: 0.727362041855\n",
      "Standard Error of Test: 0:19:47\n"
     ]
    },
    {
     "data": {
      "image/png": "[encoded data removed]",
      "text/plain": [
       "<matplotlib.figure.Figure at 0x1101af290>"
      ]
     },
     "metadata": {},
     "output_type": "display_data"
    }
   ],
   "source": [
    "model = RandomForestRegressor(max_depth = 16, max_features = 43, n_estimators = 500)\n",
    "model.fit(X_train, y_train)\n",
    "plot_model_deviation(model, X_train, y_train, X_test, y_test)\n",
    "plt.savefig('priormodel-randomforest.png', bbox_inches='tight', dpi=300, transparent=True)\n",
    "plt.show()"
   ]
  },
  {
   "cell_type": "code",
   "execution_count": null,
   "metadata": {
    "collapsed": true
   },
   "outputs": [],
   "source": []
  }
 ],
 "metadata": {
  "kernelspec": {
   "display_name": "Python 2",
   "language": "python",
   "name": "python2"
  },
  "language_info": {
   "codemirror_mode": {
    "name": "ipython",
    "version": 2
   },
   "file_extension": ".py",
   "mimetype": "text/x-python",
   "name": "python",
   "nbconvert_exporter": "python",
   "pygments_lexer": "ipython2",
   "version": "2.7.11"
  }
 },
 "nbformat": 4,
 "nbformat_minor": 0
}
