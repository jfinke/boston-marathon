{
 "cells": [
  {
   "cell_type": "code",
   "execution_count": 1,
   "metadata": {
    "collapsed": false
   },
   "outputs": [
    {
     "name": "stdout",
     "output_type": "stream",
     "text": [
      "/home/ubuntu/boston-marathon/marathon\n"
     ]
    }
   ],
   "source": [
    "cd ../marathon/"
   ]
  },
  {
   "cell_type": "code",
   "execution_count": 2,
   "metadata": {
    "collapsed": false
   },
   "outputs": [],
   "source": [
    "import pandas as pd\n",
    "import numpy as np\n",
    "import matplotlib.pyplot as plt\n",
    "%matplotlib inline\n",
    "import marathonlib"
   ]
  },
  {
   "cell_type": "code",
   "execution_count": 3,
   "metadata": {
    "collapsed": true
   },
   "outputs": [],
   "source": [
    "def plot_model_deviation(model, X_train, y_train, X_test, y_test, y_max = 0.04):\n",
    "    print 'Train R^2:', model.score(X_train, y_train)\n",
    "    print 'Test R^2:', model.score(X_test, y_test)\n",
    "    y_predict = model.predict(X_test)\n",
    "    print 'Standard Error of Test:', marathonlib.time_to_timestring(np.var(y_test-y_predict)**0.5)\n",
    "    plt.hist(y_test-y_predict, bins=100, range=(-100,250), normed=True, linewidth=0)\n",
    "    plt.xlim(-100, 250)\n",
    "    plt.ylim(0, y_max)\n",
    "    plt.vlines(0, 0, 1)"
   ]
  },
  {
   "cell_type": "code",
   "execution_count": 4,
   "metadata": {
    "collapsed": false
   },
   "outputs": [],
   "source": [
    "from sklearn.linear_model import LinearRegression, Lasso\n",
    "from sklearn.ensemble import RandomForestRegressor\n",
    "from sklearn.cross_validation import train_test_split\n",
    "from sklearn.grid_search import GridSearchCV\n",
    "from sklearn.ensemble import GradientBoostingRegressor\n",
    "from sklearn.dummy import DummyRegressor"
   ]
  },
  {
   "cell_type": "code",
   "execution_count": 5,
   "metadata": {
    "collapsed": true
   },
   "outputs": [],
   "source": [
    "df = pd.read_csv('data/boston2015_priors+.csv')\n",
    "df15 = pd.read_csv('data/boston2015_clean.csv')"
   ]
  },
  {
   "cell_type": "code",
   "execution_count": 6,
   "metadata": {
    "collapsed": false
   },
   "outputs": [
    {
     "name": "stdout",
     "output_type": "stream",
     "text": [
      "(101850, 26)\n"
     ]
    }
   ],
   "source": [
    "print df.shape"
   ]
  },
  {
   "cell_type": "code",
   "execution_count": 7,
   "metadata": {
    "collapsed": false
   },
   "outputs": [
    {
     "data": {
      "text/plain": [
       "Index([u'marathon', u'year', u'bib', u'name', u'firstname', u'lastname',\n",
       "       u'age', u'gender', u'city', u'state', u'country', u'citizenship',\n",
       "       u'offltime', u'prior_marathon', u'prior_year', u'prior_time', u'elite',\n",
       "       u'qualifier', u'home', u'avgtemp', u'avghumid', u'avgwind', u'avgwindE',\n",
       "       u'avgwindN', u'isgusty', u'rainhours'],\n",
       "      dtype='object')"
      ]
     },
     "execution_count": 7,
     "metadata": {},
     "output_type": "execute_result"
    }
   ],
   "source": [
    "df.columns"
   ]
  },
  {
   "cell_type": "code",
   "execution_count": 8,
   "metadata": {
    "collapsed": false
   },
   "outputs": [
    {
     "data": {
      "text/plain": [
       "Index([u'marathon', u'year', u'bib', u'url', u'name', u'firstname',\n",
       "       u'lastname', u'age', u'gender', u'city', u'state', u'country',\n",
       "       u'citizenship', u'subgroup', u'gunstart', u'starttime', u'time5k',\n",
       "       u'time10k', u'time15k', u'time20k', u'timehalf', u'time25k', u'time30k',\n",
       "       u'time35k', u'time40k', u'pace', u'projtime', u'offltime', u'nettime',\n",
       "       u'overall_rank', u'gender_rank', u'division_rank', u'other1', u'other2',\n",
       "       u'other3', u'other4'],\n",
       "      dtype='object')"
      ]
     },
     "execution_count": 8,
     "metadata": {},
     "output_type": "execute_result"
    }
   ],
   "source": [
    "df15.columns"
   ]
  },
  {
   "cell_type": "code",
   "execution_count": 9,
   "metadata": {
    "collapsed": false
   },
   "outputs": [],
   "source": [
    "# remove duplicate runners from priors+, results from runners who have ran more than one other race.\n",
    "def get_unique_runners(df, func=np.median):\n",
    "    unique_bibs = df['bib'].unique()\n",
    "    runners_list = []\n",
    "    for bib in unique_bibs:\n",
    "        runners = df[df['bib'] == bib]\n",
    "        runner = runners.iloc[0].copy()\n",
    "        if len(runners > 1):\n",
    "            runner['prior_year'] = func(runners['year'])\n",
    "            runner['prior_marathon'] = ''\n",
    "            runner['prior_time'] = func(runners['prior_time'])\n",
    "        runners_list.append(runner)\n",
    "    #unique_df = pd.concat(runners_list, axis=1).T\n",
    "    unique_df = pd.DataFrame().append(runners_list)\n",
    "    return unique_df"
   ]
  },
  {
   "cell_type": "code",
   "execution_count": 10,
   "metadata": {
    "collapsed": false
   },
   "outputs": [
    {
     "data": {
      "text/plain": [
       "0"
      ]
     },
     "execution_count": 10,
     "metadata": {},
     "output_type": "execute_result"
    }
   ],
   "source": [
    "sum(df['prior_time'].isnull())"
   ]
  },
  {
   "cell_type": "code",
   "execution_count": 11,
   "metadata": {
    "collapsed": false
   },
   "outputs": [
    {
     "name": "stdout",
     "output_type": "stream",
     "text": [
      "(22724, 26)\n"
     ]
    }
   ],
   "source": [
    "unique_df = get_unique_runners(df).copy()\n",
    "print unique_df.shape"
   ]
  },
  {
   "cell_type": "code",
   "execution_count": 12,
   "metadata": {
    "collapsed": false
   },
   "outputs": [
    {
     "data": {
      "text/plain": [
       "922"
      ]
     },
     "execution_count": 12,
     "metadata": {},
     "output_type": "execute_result"
    }
   ],
   "source": [
    "len(df['prior_marathon'].unique())"
   ]
  },
  {
   "cell_type": "code",
   "execution_count": 13,
   "metadata": {
    "collapsed": false
   },
   "outputs": [
    {
     "name": "stdout",
     "output_type": "stream",
     "text": [
      "# of prior records: 101850\n",
      "# of unique runners w/priors: 22724\n",
      "# of runners in 2015: 26403\n",
      "2015 Runners found: 86.1%\n"
     ]
    }
   ],
   "source": [
    "print '# of prior records:', len(df)\n",
    "print '# of unique runners w/priors:', len(unique_df)\n",
    "print '# of runners in 2015:', len(df15)\n",
    "print '2015 Runners found: {:.1f}%'.format(len(unique_df) * 100. / len(df15))"
   ]
  },
  {
   "cell_type": "code",
   "execution_count": 14,
   "metadata": {
    "collapsed": false
   },
   "outputs": [
    {
     "data": {
      "image/png": "[encoded data removed]",
      "text/plain": [
       "<matplotlib.figure.Figure at 0x7fc845994250>"
      ]
     },
     "metadata": {},
     "output_type": "display_data"
    },
    {
     "name": "stdout",
     "output_type": "stream",
     "text": [
      "Boston 2015 w/priors: 221.729488136\n",
      "Boston 2015: 226.339677309\n"
     ]
    }
   ],
   "source": [
    "# Finish times of Boston compared with priors\n",
    "fig = plt.figure(figsize=(8, 5))\n",
    "plt.hist(df15['offltime'], bins=100, label='Boston 2015 All Runners', linewidth=0, color='b')\n",
    "plt.hist(unique_df['offltime'], bins=100, label='Boston 2015 Runners w/history', linewidth=0, color='r')\n",
    "plt.legend()\n",
    "plt.title('Comparing Sample of Runners with Priors vs. All Runners', fontsize=20, weight='bold')\n",
    "plt.xlabel('Finish Time (min)', fontsize=16, weight='bold')\n",
    "plt.savefig('test.png', transparent=True)\n",
    "plt.show()\n",
    "print 'Boston 2015 w/priors:', df['offltime'].mean()\n",
    "print 'Boston 2015:', df15['offltime'].mean()"
   ]
  },
  {
   "cell_type": "markdown",
   "metadata": {},
   "source": [
    "Even though we've captured 86+% of runners, the averages are off.  Is it possible our missing runners are runners who do not run marathons, and are running a professional course for the first time?"
   ]
  },
  {
   "cell_type": "code",
   "execution_count": 15,
   "metadata": {
    "collapsed": false
   },
   "outputs": [
    {
     "name": "stdout",
     "output_type": "stream",
     "text": [
      "# of bib numbers with no priors:  3640\n"
     ]
    },
    {
     "data": {
      "image/png": "[encoded data removed]",
      "text/plain": [
       "<matplotlib.figure.Figure at 0x7fc8459c8e10>"
      ]
     },
     "metadata": {},
     "output_type": "display_data"
    }
   ],
   "source": [
    "priorbibs = set(df['bib'])\n",
    "missing_bibs = [bib for bib in df15['bib'] if bib not in priorbibs]\n",
    "print '# of bib numbers with no priors: ', len(missing_bibs)\n",
    "plt.hist(missing_bibs, bins=100)\n",
    "plt.show()"
   ]
  },
  {
   "cell_type": "markdown",
   "metadata": {},
   "source": [
    "For 2015, non-qualifiers were assigned bib numbers > ~26,000 (aka Charity runners).  It appears a chunk of our runners are indeed first timers.  But we are missing running histories for other runners too."
   ]
  },
  {
   "cell_type": "markdown",
   "metadata": {},
   "source": [
    "### Build Dataframe for Modelling"
   ]
  },
  {
   "cell_type": "code",
   "execution_count": 16,
   "metadata": {
    "collapsed": false
   },
   "outputs": [
    {
     "name": "stdout",
     "output_type": "stream",
     "text": [
      "(101850, 995) (101850,)\n"
     ]
    }
   ],
   "source": [
    "# One row per running record.  We will combine runner predictions later\n",
    "feature_columns = [# u'bib', \n",
    "                   u'age', u'gender', u'elite', u'qualifier', \n",
    "                   u'home', \n",
    "                   u'avgtemp', u'avghumid', u'avgwind', u'avgwindE', u'avgwindN', u'isgusty',\n",
    "                   u'rainhours','prior_year', 'prior_time', 'prior_marathon']\n",
    "#model_df = pd.get_dummies(unique_df[feature_columns])\n",
    "model_df = pd.get_dummies(df[feature_columns])\n",
    "X = model_df.values\n",
    "y = df['offltime'].values\n",
    "print X.shape, y.shape"
   ]
  },
  {
   "cell_type": "markdown",
   "metadata": {},
   "source": [
    "### Mean as a Model"
   ]
  },
  {
   "cell_type": "code",
   "execution_count": 17,
   "metadata": {
    "collapsed": false
   },
   "outputs": [
    {
     "name": "stdout",
     "output_type": "stream",
     "text": [
      "Train R^2: 0.0\n",
      "Test R^2: 0.0\n",
      "Standard Error of Test: 0:36:48\n"
     ]
    },
    {
     "data": {
      "image/png": "[encoded data removed]",
      "text/plain": [
       "<matplotlib.figure.Figure at 0x7fc845981c90>"
      ]
     },
     "metadata": {},
     "output_type": "display_data"
    }
   ],
   "source": [
    "model = DummyRegressor()\n",
    "model.fit(X, y)\n",
    "plot_model_deviation(model, X, y, X, y)\n",
    "plt.title('Distribution of Finish Times')\n",
    "plt.xlabel('Finish Time (min)')\n",
    "plt.show()"
   ]
  },
  {
   "cell_type": "markdown",
   "metadata": {},
   "source": [
    "### Regression Model"
   ]
  },
  {
   "cell_type": "code",
   "execution_count": 18,
   "metadata": {
    "collapsed": false
   },
   "outputs": [
    {
     "name": "stdout",
     "output_type": "stream",
     "text": [
      "Train R^2: 0.530249548094\n",
      "Test R^2: 0.530249548094\n",
      "Standard Error of Test: 0:25:13\n"
     ]
    },
    {
     "data": {
      "image/png": "[encoded data removed]",
      "text/plain": [
       "<matplotlib.figure.Figure at 0x7fc842b19250>"
      ]
     },
     "metadata": {},
     "output_type": "display_data"
    }
   ],
   "source": [
    "model = LinearRegression()\n",
    "model.fit(X, y)\n",
    "plot_model_deviation(model, X, y, X, y)\n",
    "plt.title('Distribution of Finish Times')\n",
    "plt.xlabel('Finish Time (min)')\n",
    "plt.show()"
   ]
  },
  {
   "cell_type": "code",
   "execution_count": 19,
   "metadata": {
    "collapsed": false
   },
   "outputs": [
    {
     "name": "stdout",
     "output_type": "stream",
     "text": [
      "Train R^2: 0.479956059411\n",
      "Test R^2: 0.479956059411\n",
      "Standard Error of Test: 0:26:32\n",
      "\n",
      "Lasso Coefficients (alpha= 1 )\n",
      "------------------\n",
      "intercept 323.712142901\n",
      "age       1.06872162082\n",
      "gender    -12.3339495476\n",
      "avgtemp   -0.0485836234116\n",
      "avghumid  0.0013544849561\n",
      "avgwind   0.0137005751691\n",
      "avgwindE  -0.0330972333447\n",
      "avgwindN  0.0383303539118\n",
      "prior_year-0.114056223707\n",
      "prior_time0.393408485799\n",
      "home_MA   4.50827581385\n"
     ]
    },
    {
     "data": {
      "image/png": "[encoded data removed]",
      "text/plain": [
       "<matplotlib.figure.Figure at 0x7fc842b8ae10>"
      ]
     },
     "metadata": {},
     "output_type": "display_data"
    }
   ],
   "source": [
    "alpha = 1\n",
    "model = Lasso(alpha=alpha)\n",
    "model.fit(X, y)\n",
    "plot_model_deviation(model, X, y, X, y)\n",
    "print \n",
    "print 'Lasso Coefficients (alpha=',alpha,')'\n",
    "print '------------------'\n",
    "print '{0:10}{1}'.format('intercept', model.intercept_)\n",
    "for name, coef in zip(model_df.columns, model.coef_):\n",
    "    if abs(coef) > 0.001:\n",
    "        print '{0:10}{1}'.format(name, coef)"
   ]
  },
  {
   "cell_type": "code",
   "execution_count": 20,
   "metadata": {
    "collapsed": false
   },
   "outputs": [
    {
     "name": "stdout",
     "output_type": "stream",
     "text": [
      "(76387, 995) (76387,)\n"
     ]
    }
   ],
   "source": [
    "X_train, X_test, y_train, y_test = train_test_split(X, y, random_state=732)\n",
    "print X_train.shape, y_train.shape"
   ]
  },
  {
   "cell_type": "code",
   "execution_count": 21,
   "metadata": {
    "collapsed": false
   },
   "outputs": [
    {
     "name": "stdout",
     "output_type": "stream",
     "text": [
      "(25463, 995) (25463,)\n"
     ]
    }
   ],
   "source": [
    "print X_test.shape, y_test.shape"
   ]
  },
  {
   "cell_type": "code",
   "execution_count": 22,
   "metadata": {
    "collapsed": false
   },
   "outputs": [
    {
     "name": "stdout",
     "output_type": "stream",
     "text": [
      "Train R^2: 0.606936896171\n",
      "Test R^2: 0.592033992122\n",
      "Standard Error of Test: 0:23:35\n"
     ]
    },
    {
     "data": {
      "image/png": "[encoded data removed]",
      "text/plain": [
       "<matplotlib.figure.Figure at 0x7fc841fcb250>"
      ]
     },
     "metadata": {},
     "output_type": "display_data"
    }
   ],
   "source": [
    "model = GradientBoostingRegressor(n_estimators=200, learning_rate = 0.04, max_depth=4, subsample=0.6)\n",
    "model.fit(X_train, y_train)\n",
    "plot_model_deviation(model, X_train, y_train, X_test, y_test)\n",
    "plt.title('Distribution of Finish Times')\n",
    "plt.xlabel('Finish Time (min)')\n",
    "plt.savefig('priormodel-gradientboosting.png', bbox_inches='tight', dpi=300)\n",
    "plt.show()"
   ]
  },
  {
   "cell_type": "code",
   "execution_count": 23,
   "metadata": {
    "collapsed": false
   },
   "outputs": [
    {
     "name": "stdout",
     "output_type": "stream",
     "text": [
      "Train R^2: 0.442397288565\n",
      "Test R^2: 0.413123557975\n",
      "Standard Error of Test: 0:28:17\n"
     ]
    },
    {
     "data": {
      "image/png": "[encoded data removed]",
      "text/plain": [
       "<matplotlib.figure.Figure at 0x7fc840c14d50>"
      ]
     },
     "metadata": {},
     "output_type": "display_data"
    }
   ],
   "source": [
    "model = RandomForestRegressor(max_depth = 16, max_features = 43, n_estimators = 1000)\n",
    "model.fit(X_train, y_train)\n",
    "plot_model_deviation(model, X_train, y_train, X_test, y_test)\n",
    "plt.title('Distribution of Finish Times')\n",
    "plt.xlabel('Finish Time (min)')\n",
    "plt.savefig('priormodel-randomforest.png', bbox_inches='tight', dpi=300)\n",
    "plt.show()"
   ]
  },
  {
   "cell_type": "markdown",
   "metadata": {},
   "source": [
    "# Pick model\n",
    "\n",
    "Since we need to train on entire dataset and use the results, we need a model that does not overfit.\n",
    "\n",
    "### Gradient Boosting Wins"
   ]
  },
  {
   "cell_type": "markdown",
   "metadata": {},
   "source": [
    "## 1. Tune Gradient Boosting"
   ]
  },
  {
   "cell_type": "code",
   "execution_count": 24,
   "metadata": {
    "collapsed": false
   },
   "outputs": [],
   "source": [
    "# Tune using CV search\n",
    "# model = GridSearchCV(GradientBoostingRegressor(verbose=True), \n",
    "#                      param_grid={'n_estimators': [100],\n",
    "#                                  'learning_rate': [0.04],\n",
    "#                                  'max_depth': [4],\n",
    "#                                  'subsample': [0.7, 0.6, 0.5]},\n",
    "#                      verbose=True)\n",
    "# model.fit(X_train, y_train)\n",
    "# print model.best_params_"
   ]
  },
  {
   "cell_type": "code",
   "execution_count": 25,
   "metadata": {
    "collapsed": false
   },
   "outputs": [],
   "source": [
    "# Bump up the number of estimators and now tune learning_rate\n",
    "# model = GridSearchCV(GradientBoostingRegressor(verbose=True), \n",
    "#                      param_grid={'n_estimators': [500],\n",
    "#                                  'learning_rate': [0.04, 0.01, 0.003, 0.001],\n",
    "#                                  'max_depth': [4],\n",
    "#                                  'subsample': [0.6]},\n",
    "#                      verbose=True)\n",
    "# model.fit(X, y)\n",
    "# print model.best_params_\n",
    "# plot_model_deviation(model, X, y, X, y)\n",
    "# plt.title('Distribution of Finish Times')\n",
    "# plt.xlabel('Finish Time (min)')\n",
    "# plt.show()"
   ]
  },
  {
   "cell_type": "markdown",
   "metadata": {},
   "source": [
    "## 2. Fit on entire dataset (- extreme outliers)"
   ]
  },
  {
   "cell_type": "code",
   "execution_count": 26,
   "metadata": {
    "collapsed": false
   },
   "outputs": [
    {
     "name": "stdout",
     "output_type": "stream",
     "text": [
      "      Iter       Train Loss      OOB Improve   Remaining Time \n",
      "         1        1312.9507          51.9293           60.59m\n",
      "         2        1251.6175          48.9108           60.61m\n",
      "         3        1206.2288          44.8273           60.43m\n",
      "         4        1161.7202          41.7911           60.30m\n",
      "         5        1125.4292          38.3480           60.21m\n",
      "         6        1095.8183          35.4939           60.15m\n",
      "         7        1050.8100          32.9322           59.98m\n",
      "         8        1017.3852          30.8680           59.85m\n",
      "         9         996.5482          28.5178           59.74m\n",
      "        10         973.3696          26.3010           59.63m\n",
      "        20         784.0790          13.2415           58.30m\n",
      "        30         701.7935           6.3408           56.94m\n",
      "        40         648.5409           3.7844           55.58m\n",
      "        50         606.5113           2.2547           54.29m\n",
      "        60         598.6670           1.3803           53.00m\n",
      "        70         577.1745           0.8631           51.65m\n",
      "        80         571.7655           0.6975           50.20m\n",
      "        90         572.0652           0.4871           48.70m\n",
      "       100         559.3561           0.3450           47.18m\n",
      "       200         531.6527           0.1151           33.01m\n",
      "       300         522.2417           0.0094           21.26m\n",
      "       400         518.5035           0.0203           10.44m\n",
      "       500         504.6254          -0.0040            0.00s\n",
      "Train R^2: 0.624558981495\n",
      "Test R^2: 0.624558981495\n",
      "Standard Error of Test: 0:22:33\n"
     ]
    },
    {
     "data": {
      "image/png": "[encoded data removed]",
      "text/plain": [
       "<matplotlib.figure.Figure at 0x7fc840c4f9d0>"
      ]
     },
     "metadata": {},
     "output_type": "display_data"
    }
   ],
   "source": [
    "model = GradientBoostingRegressor(n_estimators=500, learning_rate = 0.04, max_depth=4, subsample=0.6, verbose=True)\n",
    "model.fit(X, y)\n",
    "plot_model_deviation(model, X, y, X, y)\n",
    "plt.savefig('finalmodel-gradientboosting.png', bbox_inches='tight', dpi=300)\n",
    "plt.title('Distribution of Finish Times')\n",
    "plt.xlabel('Finish Time (min)')\n",
    "plt.show()"
   ]
  },
  {
   "cell_type": "code",
   "execution_count": null,
   "metadata": {
    "collapsed": false
   },
   "outputs": [
    {
     "name": "stdout",
     "output_type": "stream",
     "text": [
      "(99989, 995) (99989,)\n"
     ]
    }
   ],
   "source": [
    "# Remove outliers > 3 std deviations away\n",
    "y_predict = model.predict(X)\n",
    "stddev = np.var(y - y_predict)**0.5\n",
    "outlier = abs(y-y_predict) > 3*stddev\n",
    "\n",
    "X_clean = model_df[~outlier].values\n",
    "y_clean = df.loc[~outlier, 'offltime'].values\n",
    "print X_clean.shape, y_clean.shape"
   ]
  },
  {
   "cell_type": "code",
   "execution_count": null,
   "metadata": {
    "collapsed": false
   },
   "outputs": [
    {
     "name": "stdout",
     "output_type": "stream",
     "text": [
      "      Iter       Train Loss      OOB Improve   Remaining Time \n",
      "         1        1114.9151          52.2194           59.51m\n",
      "         2        1068.9273          47.5732           59.37m\n",
      "         3        1023.1840          44.3614           59.26m\n",
      "         4         983.5630          41.4055           59.17m\n",
      "         5         949.1784          37.6306           59.01m\n",
      "         6         913.0258          35.3838           58.92m\n",
      "         7         878.6884          32.2469           58.73m\n",
      "         8         856.4745          30.2464           58.67m\n",
      "         9         828.5302          28.5236           58.48m\n",
      "        10         796.4562          27.2383           58.38m\n",
      "        20         608.0612          12.7861           57.09m\n",
      "        30         515.8286           6.7691           55.85m\n",
      "        40         463.0977           3.7741           54.58m\n",
      "        50         431.9179           2.2842           53.27m\n",
      "        60         414.3402           1.5499           51.95m\n",
      "        70         402.8068           0.9361           50.65m\n",
      "        80         394.8653           0.7291           49.31m\n",
      "        90         388.5991           0.6532           47.80m\n",
      "       100         382.5378           0.2553           46.24m\n",
      "       200         363.8750           0.0200           32.45m\n",
      "       300         350.9746           0.0560           20.89m"
     ]
    }
   ],
   "source": [
    "# Refit model without outliers\n",
    "model = GradientBoostingRegressor(n_estimators=500, learning_rate = 0.04, max_depth=4, subsample=0.6, verbose=True)\n",
    "model.fit(X_clean, y_clean)"
   ]
  },
  {
   "cell_type": "code",
   "execution_count": 33,
   "metadata": {
    "collapsed": false
   },
   "outputs": [
    {
     "name": "stdout",
     "output_type": "stream",
     "text": [
      "Train R^2: 0.707755039105\n",
      "Test R^2: 0.707755039105\n",
      "Standard Error of Test: 0:18:30\n"
     ]
    },
    {
     "data": {
      "image/png": "[encoded data removed]",
      "text/plain": [
       "<matplotlib.figure.Figure at 0x7fc840f2e250>"
      ]
     },
     "metadata": {},
     "output_type": "display_data"
    }
   ],
   "source": [
    "plot_model_deviation(model, X_clean, y_clean, X_clean, y_clean)\n",
    "plt.title('Distribution of Finish Times')\n",
    "plt.xlabel('Finish Time (min)')\n",
    "plt.savefig('finalmodel-gradientboosting.png', bbox_inches='tight', dpi=300)\n",
    "plt.show()"
   ]
  },
  {
   "cell_type": "code",
   "execution_count": 34,
   "metadata": {
    "collapsed": false
   },
   "outputs": [
    {
     "data": {
      "text/plain": [
       "[('prior_time', 0.29092112412444526),\n",
       " ('age', 0.13446577416978922),\n",
       " ('gender', 0.031543651119641615),\n",
       " ('avgtemp', 0.02472543029736101),\n",
       " ('home_MA', 0.023920849584780281),\n",
       " ('home_AUS', 0.023596016627712005),\n",
       " ('prior_year', 0.016291117577411016),\n",
       " ('prior_marathon_boston', 0.014098245897082475),\n",
       " ('avghumid', 0.012027118254926396),\n",
       " ('avgwind', 0.010921402870030393),\n",
       " ('avgwindN', 0.0099971622036365334),\n",
       " ('home_FL', 0.0099400398763288978),\n",
       " ('home_CAN', 0.0088485704046097589),\n",
       " ('home_UT', 0.0084512573679388896),\n",
       " ('prior_marathon_london', 0.0072893908474745998),\n",
       " ('avgwindE', 0.0069313198151280181),\n",
       " ('home_MISC', 0.0066785031982881009),\n",
       " ('prior_marathon_leadville_trail', 0.0065799029123110265),\n",
       " ('home_AZ', 0.0065124486678265108),\n",
       " ('prior_marathon_moab_trail', 0.0064644325288047309)]"
      ]
     },
     "execution_count": 34,
     "metadata": {},
     "output_type": "execute_result"
    }
   ],
   "source": [
    "feature_importance = zip(model_df.columns, model.feature_importances_)\n",
    "sorted(feature_importance, reverse=True, key=lambda x: x[1])[0:20]"
   ]
  },
  {
   "cell_type": "markdown",
   "metadata": {},
   "source": [
    "## 3. Select outliers."
   ]
  },
  {
   "cell_type": "code",
   "execution_count": 35,
   "metadata": {
    "collapsed": false
   },
   "outputs": [
    {
     "name": "stdout",
     "output_type": "stream",
     "text": [
      "Train R^2: 0.610233373607\n",
      "Test R^2: 0.610233373607\n",
      "Standard Error of Test: 0:22:55\n"
     ]
    },
    {
     "data": {
      "image/png": "[encoded data removed]",
      "text/plain": [
       "<matplotlib.figure.Figure at 0x7fc8434058d0>"
      ]
     },
     "metadata": {},
     "output_type": "display_data"
    }
   ],
   "source": [
    "# Plot showing outliers\n",
    "plot_model_deviation(model, X, y, X, y, y_max = 0.0004)\n",
    "plt.title('Distribution of Finish Times')\n",
    "plt.xlabel('Finish Time (min)')\n",
    "plt.savefig('outliers-zoom.png', bbox_inches='tight', dpi=300)\n",
    "plt.show()"
   ]
  },
  {
   "cell_type": "code",
   "execution_count": 36,
   "metadata": {
    "collapsed": true
   },
   "outputs": [],
   "source": [
    "y_predict = model.predict(X)"
   ]
  },
  {
   "cell_type": "code",
   "execution_count": 37,
   "metadata": {
    "collapsed": true
   },
   "outputs": [],
   "source": [
    "model_df['predicted_time'] = y_predict"
   ]
  },
  {
   "cell_type": "code",
   "execution_count": 38,
   "metadata": {
    "collapsed": false
   },
   "outputs": [
    {
     "name": "stdout",
     "output_type": "stream",
     "text": [
      "58\n"
     ]
    }
   ],
   "source": [
    "cheaters = pd.read_csv('data/boston2015_cheaters.csv')\n",
    "cheaters = set(cheaters['bib'])\n",
    "print len(cheaters)"
   ]
  },
  {
   "cell_type": "code",
   "execution_count": 39,
   "metadata": {
    "collapsed": false
   },
   "outputs": [
    {
     "name": "stdout",
     "output_type": "stream",
     "text": [
      "Standard Error: 22.9244971753\n",
      "# of outlier records: 11982\n",
      "\n",
      "Total # of unique runners: 22724\n",
      "# of cheaters in our unique runners: 49\n",
      "Cheating rate in our runners: 0.22%\n",
      "# of unique outliers: 3877\n",
      "# of cheaters in our outliers: 40\n",
      "Cheating rate in our outliers: 1.03%\n"
     ]
    }
   ],
   "source": [
    "stddev = np.var(y - y_predict)**0.5\n",
    "outliers = (y - y_predict > 1 * stddev)\n",
    "outlier_bibs = df.loc[outliers, 'bib'].unique()\n",
    "\n",
    "print 'Standard Error:', stddev\n",
    "print '# of outlier records:', sum(outliers)\n",
    "print\n",
    "print 'Total # of unique runners:', len(df['bib'].unique())\n",
    "print '# of cheaters in our unique runners:', len([bib for bib in df['bib'].unique() if bib in cheaters])\n",
    "print 'Cheating rate in our runners: {:.2f}%'.format(len([bib for bib in df['bib'].unique() if bib in cheaters]) * 100. \n",
    "                                                     / len(df['bib'].unique()))\n",
    "print '# of unique outliers:', len(df.loc[outliers, 'bib'].unique())\n",
    "print '# of cheaters in our outliers:', len([bib for bib in outlier_bibs if bib in cheaters])\n",
    "print 'Cheating rate in our outliers: {:.2f}%'.format(len([bib for bib in outlier_bibs if bib in cheaters]) * 100. \n",
    "                                                      / len(df.loc[outliers, 'bib'].unique()))\n"
   ]
  },
  {
   "cell_type": "code",
   "execution_count": 40,
   "metadata": {
    "collapsed": false
   },
   "outputs": [],
   "source": [
    "# remove duplicate runners from priors+, results from runners who have ran more than one other race.\n",
    "def get_uniques(df):\n",
    "    unique_bibs = df['bib'].unique()\n",
    "    runners_list = []\n",
    "    for bib in unique_bibs:\n",
    "        runners = df[df['bib'] == bib]\n",
    "        runner = runners.iloc[0].copy()\n",
    "        runner['predicted'] = np.mean((runners['predicted']))\n",
    "        runner['difference'] = runner['offltime'] - runner['predicted']\n",
    "        runner['median_difference'] = runner['offltime'] - np.median((runners['predicted']))\n",
    "        runner['min_difference'] = runner['offltime'] - np.min((runners['predicted']))\n",
    "        runner['max_difference'] = runner['offltime'] - np.max((runners['predicted']))\n",
    "        if len(runners) > 1:\n",
    "            # If multiple records exist for a runner, then save the following columns\n",
    "            runner['2ndmin_difference'] = runner['offltime'] - list(runners['predicted'].sort_values())[1]\n",
    "            runner['2ndmax_difference'] = runner['offltime'] - list(runners['predicted'].sort_values())[-2]\n",
    "        else:\n",
    "            runner['2ndmin_difference'] = runner['difference']\n",
    "            runner['2ndmax_difference'] = runner['difference']\n",
    "        runners_list.append(runner)\n",
    "    unique_df = pd.DataFrame(runners_list)\n",
    "    return unique_df"
   ]
  },
  {
   "cell_type": "code",
   "execution_count": 43,
   "metadata": {
    "collapsed": false,
    "scrolled": true
   },
   "outputs": [
    {
     "name": "stdout",
     "output_type": "stream",
     "text": [
      "(101850, 5)\n",
      "(22724, 10)\n"
     ]
    }
   ],
   "source": [
    "# Make cheater prediction table\n",
    "# bib, y, y_predict, cheater\n",
    "predict_df = pd.DataFrame(df['bib'])\n",
    "predict_df['offltime'] = y\n",
    "predict_df['predicted'] = y_predict\n",
    "predict_df['difference'] = y - y_predict\n",
    "predict_df['cheater'] = df['bib'].isin(cheaters)\n",
    "print predict_df.shape\n",
    "predict_df = get_uniques(predict_df)\n",
    "print predict_df.shape"
   ]
  },
  {
   "cell_type": "code",
   "execution_count": 44,
   "metadata": {
    "collapsed": false
   },
   "outputs": [
    {
     "name": "stdout",
     "output_type": "stream",
     "text": [
      "-81.6888332218 214.926802319\n"
     ]
    }
   ],
   "source": [
    "print predict_df['difference'].min(), predict_df['difference'].max()"
   ]
  },
  {
   "cell_type": "code",
   "execution_count": 45,
   "metadata": {
    "collapsed": false
   },
   "outputs": [],
   "source": [
    "from sklearn.metrics import roc_auc_score, roc_curve"
   ]
  },
  {
   "cell_type": "code",
   "execution_count": 46,
   "metadata": {
    "collapsed": false
   },
   "outputs": [
    {
     "name": "stdout",
     "output_type": "stream",
     "text": [
      "0.850872353351\n",
      "0.847907656999\n",
      "0.868154715028\n",
      "0.844607249736\n",
      "0.80231847535\n",
      "0.833533289832\n"
     ]
    }
   ],
   "source": [
    "print roc_auc_score(predict_df['cheater'], predict_df['difference'])\n",
    "print roc_auc_score(predict_df['cheater'], predict_df['median_difference'])\n",
    "print roc_auc_score(predict_df['cheater'], predict_df['min_difference'])\n",
    "print roc_auc_score(predict_df['cheater'], predict_df['2ndmin_difference'])\n",
    "print roc_auc_score(predict_df['cheater'], predict_df['max_difference'])\n",
    "print roc_auc_score(predict_df['cheater'], predict_df['2ndmax_difference'])"
   ]
  },
  {
   "cell_type": "code",
   "execution_count": 51,
   "metadata": {
    "collapsed": false
   },
   "outputs": [
    {
     "data": {
      "image/png": "[encoded data removed]",
      "text/plain": [
       "<matplotlib.figure.Figure at 0x7fc8434ab2d0>"
      ]
     },
     "metadata": {},
     "output_type": "display_data"
    }
   ],
   "source": [
    "fprs, tprs, thresholds = roc_curve(- predict_df['cheater'], predict_df['min_difference'])\n",
    "plt.plot(tprs, fprs)\n",
    "plt.title('Receiver Operating Characteristic', fontsize=18)\n",
    "plt.xlabel('True Positive Rate', fontsize=14)\n",
    "plt.ylabel('False Positive Rate', fontsize=14)\n",
    "plt.savefig('roc_curve.png', bbox_inches='tight', dpi=300)\n",
    "plt.show()\n"
   ]
  },
  {
   "cell_type": "code",
   "execution_count": 52,
   "metadata": {
    "collapsed": false
   },
   "outputs": [
    {
     "name": "stdout",
     "output_type": "stream",
     "text": [
      "Overall\n",
      "49/22724 (0.22%)\n",
      "\n",
      "threshold   tpr    fpr   cheaters  records  rate\n",
      "---------  -----  -----  --------  -------  ----\n",
      "     30.4  0.119  0.735        35     2744  1.28\n",
      "     30.0  0.122  0.735        36     2802  1.28\n",
      "     30.0  0.122  0.755        36     2803  1.28\n",
      "     26.5  0.143  0.755        37     3271  1.13\n",
      "     26.4  0.143  0.776        37     3272  1.13\n",
      "     24.4  0.158  0.776        38     3609  1.05\n",
      "     24.4  0.158  0.796        38     3610  1.05\n",
      "     24.2  0.159  0.796        39     3649  1.07\n",
      "     24.2  0.159  0.816        39     3650  1.07\n",
      "     21.2  0.185  0.816        40     4229  0.95\n",
      "     21.2  0.185  0.837        40     4230  0.95\n",
      "     20.6  0.190  0.837        41     4347  0.94\n",
      "     20.6  0.190  0.857        41     4348  0.94\n",
      "     17.3  0.224  0.857        42     5116  0.82\n",
      "     17.3  0.224  0.878        42     5117  0.82\n",
      "     17.2  0.225  0.878        43     5154  0.83\n",
      "     17.2  0.225  0.898        43     5155  0.83\n",
      "     14.8  0.258  0.898        44     5890  0.75\n",
      "     14.8  0.258  0.898        44     5891  0.75\n",
      "      6.4  0.418  0.898        44     9532  0.46\n"
     ]
    }
   ],
   "source": [
    "print 'Overall'\n",
    "print '{}/{} ({:.2f}%)'.format(sum(predict_df['cheater']), len(predict_df), sum(predict_df['cheater']) * 100. / len(predict_df))\n",
    "print\n",
    "out_str = '{:9.1f}  {:5.3f}  {:5.3f}  {:8}  {:7}  {:4.2f}'\n",
    "print 'threshold   tpr    fpr   cheaters  records  rate'\n",
    "print '---------  -----  -----  --------  -------  ----'\n",
    "for i in range(70, 90):\n",
    "    threshold = thresholds[i]\n",
    "    flagged = predict_df.loc[predict_df['min_difference'] > threshold, 'cheater']\n",
    "    print out_str.format(thresholds[i], tprs[i], fprs[i], sum(flagged), len(flagged), sum(flagged) * 100. / len(flagged))\n",
    "    "
   ]
  },
  {
   "cell_type": "code",
   "execution_count": 49,
   "metadata": {
    "collapsed": false
   },
   "outputs": [
    {
     "name": "stdout",
     "output_type": "stream",
     "text": [
      "threshold  cheaters  records  rate\n",
      "---------  --------  -------  ----\n",
      "     30.0        26     1622  1.60\n"
     ]
    }
   ],
   "source": [
    "# Set threshold at 30.0 min\n",
    "threshold = 30.0\n",
    "flagged = predict_df.loc[predict_df['max_difference'] > threshold, 'cheater']\n",
    "out_str = '{:9.1f}  {:8}  {:7}  {:4.2f}'\n",
    "print 'threshold  cheaters  records  rate'\n",
    "print '---------  --------  -------  ----'\n",
    "print out_str.format(threshold, sum(flagged), len(flagged), sum(flagged) * 100. / len(flagged))"
   ]
  },
  {
   "cell_type": "code",
   "execution_count": 50,
   "metadata": {
    "collapsed": false
   },
   "outputs": [
    {
     "name": "stdout",
     "output_type": "stream",
     "text": [
      "True\n",
      "                       172\n",
      "bib                   8229\n",
      "offltime             241.7\n",
      "predicted          215.555\n",
      "difference         26.1451\n",
      "cheater               True\n",
      "median_difference  20.7116\n",
      "min_difference     45.2275\n",
      "max_difference     17.9295\n",
      "2ndmin_difference  23.0908\n",
      "2ndmax_difference  18.3324\n"
     ]
    }
   ],
   "source": [
    "print 8229 in cheaters\n",
    "runners = predict_df[predict_df['bib'] == 8229]\n",
    "print runners.T"
   ]
  },
  {
   "cell_type": "code",
   "execution_count": null,
   "metadata": {
    "collapsed": false
   },
   "outputs": [],
   "source": [
    "model_df[model_df['bib'] == 8229].T"
   ]
  },
  {
   "cell_type": "code",
   "execution_count": null,
   "metadata": {
    "collapsed": true
   },
   "outputs": [],
   "source": []
  }
 ],
 "metadata": {
  "kernelspec": {
   "display_name": "Python 2",
   "language": "python",
   "name": "python2"
  },
  "language_info": {
   "codemirror_mode": {
    "name": "ipython",
    "version": 2
   },
   "file_extension": ".py",
   "mimetype": "text/x-python",
   "name": "python",
   "nbconvert_exporter": "python",
   "pygments_lexer": "ipython2",
   "version": "2.7.11"
  }
 },
 "nbformat": 4,
 "nbformat_minor": 0
}
