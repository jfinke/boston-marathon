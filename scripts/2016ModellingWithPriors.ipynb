{
 "cells": [
  {
   "cell_type": "code",
   "execution_count": 1,
   "metadata": {
    "collapsed": false
   },
   "outputs": [
    {
     "name": "stdout",
     "output_type": "stream",
     "text": [
      "/home/ubuntu/boston-marathon/marathon\n"
     ]
    }
   ],
   "source": [
    "cd ../marathon/"
   ]
  },
  {
   "cell_type": "code",
   "execution_count": 2,
   "metadata": {
    "collapsed": false
   },
   "outputs": [],
   "source": [
    "import pandas as pd\n",
    "import numpy as np\n",
    "import matplotlib.pyplot as plt\n",
    "%matplotlib inline\n",
    "import marathonlib"
   ]
  },
  {
   "cell_type": "code",
   "execution_count": 3,
   "metadata": {
    "collapsed": true
   },
   "outputs": [],
   "source": [
    "def plot_model_deviation(model, X_train, y_train, X_test, y_test, y_max = 0.04):\n",
    "    print 'Train R^2:', model.score(X_train, y_train)\n",
    "    print 'Test R^2:', model.score(X_test, y_test)\n",
    "    y_predict = model.predict(X_test)\n",
    "    print 'Standard Error of Test:', marathonlib.time_to_timestring(np.var(y_test-y_predict)**0.5)\n",
    "    plt.hist(y_test-y_predict, bins=100, range=(-100,250), normed=True, linewidth=0)\n",
    "    plt.xlim(-100, 250)\n",
    "    plt.ylim(0, y_max)\n",
    "    plt.vlines(0, 0, 1)"
   ]
  },
  {
   "cell_type": "code",
   "execution_count": 4,
   "metadata": {
    "collapsed": false
   },
   "outputs": [],
   "source": [
    "from sklearn.linear_model import LinearRegression, Lasso\n",
    "from sklearn.ensemble import RandomForestRegressor\n",
    "from sklearn.cross_validation import train_test_split\n",
    "from sklearn.grid_search import GridSearchCV\n",
    "from sklearn.ensemble import GradientBoostingRegressor\n",
    "from sklearn.dummy import DummyRegressor"
   ]
  },
  {
   "cell_type": "code",
   "execution_count": 5,
   "metadata": {
    "collapsed": true
   },
   "outputs": [],
   "source": [
    "df = pd.read_csv('data/boston2016_priors+.csv')\n",
    "df15 = pd.read_csv('data/boston2016_clean.csv')"
   ]
  },
  {
   "cell_type": "code",
   "execution_count": 6,
   "metadata": {
    "collapsed": false
   },
   "outputs": [
    {
     "name": "stdout",
     "output_type": "stream",
     "text": [
      "(106390, 26)\n"
     ]
    }
   ],
   "source": [
    "print df.shape"
   ]
  },
  {
   "cell_type": "code",
   "execution_count": 7,
   "metadata": {
    "collapsed": false
   },
   "outputs": [
    {
     "data": {
      "text/plain": [
       "Index([u'marathon', u'year', u'bib', u'name', u'firstname', u'lastname',\n",
       "       u'age', u'gender', u'city', u'state', u'country', u'citizenship',\n",
       "       u'offltime', u'prior_marathon', u'prior_year', u'prior_time', u'elite',\n",
       "       u'qualifier', u'home', u'avgtemp', u'avghumid', u'avgwind', u'avgwindE',\n",
       "       u'avgwindN', u'isgusty', u'rainhours'],\n",
       "      dtype='object')"
      ]
     },
     "execution_count": 7,
     "metadata": {},
     "output_type": "execute_result"
    }
   ],
   "source": [
    "df.columns"
   ]
  },
  {
   "cell_type": "code",
   "execution_count": 8,
   "metadata": {
    "collapsed": false
   },
   "outputs": [
    {
     "data": {
      "text/plain": [
       "Index([u'marathon', u'year', u'bib', u'url', u'name', u'firstname',\n",
       "       u'lastname', u'age', u'gender', u'city', u'state', u'country',\n",
       "       u'citizenship', u'subgroup', u'gunstart', u'starttime', u'time5k',\n",
       "       u'time10k', u'time15k', u'time20k', u'timehalf', u'time25k', u'time30k',\n",
       "       u'time35k', u'time40k', u'pace', u'projtime', u'offltime', u'nettime',\n",
       "       u'overall_rank', u'gender_rank', u'division_rank', u'other1', u'other2',\n",
       "       u'other3', u'other4'],\n",
       "      dtype='object')"
      ]
     },
     "execution_count": 8,
     "metadata": {},
     "output_type": "execute_result"
    }
   ],
   "source": [
    "df15.columns"
   ]
  },
  {
   "cell_type": "code",
   "execution_count": 9,
   "metadata": {
    "collapsed": false
   },
   "outputs": [],
   "source": [
    "# remove duplicate runners from priors+, results from runners who have ran more than one other race.\n",
    "def get_unique_runners(df, func=np.median):\n",
    "    unique_bibs = df['bib'].unique()\n",
    "    runners_list = []\n",
    "    for bib in unique_bibs:\n",
    "        runners = df[df['bib'] == bib]\n",
    "        runner = runners.iloc[0].copy()\n",
    "        if len(runners > 1):\n",
    "            runner['prior_year'] = func(runners['year'])\n",
    "            runner['prior_marathon'] = ''\n",
    "            runner['prior_time'] = func(runners['prior_time'])\n",
    "        runners_list.append(runner)\n",
    "    #unique_df = pd.concat(runners_list, axis=1).T\n",
    "    unique_df = pd.DataFrame().append(runners_list)\n",
    "    return unique_df"
   ]
  },
  {
   "cell_type": "code",
   "execution_count": 10,
   "metadata": {
    "collapsed": false
   },
   "outputs": [
    {
     "data": {
      "text/plain": [
       "0"
      ]
     },
     "execution_count": 10,
     "metadata": {},
     "output_type": "execute_result"
    }
   ],
   "source": [
    "sum(df['prior_time'].isnull())"
   ]
  },
  {
   "cell_type": "code",
   "execution_count": 11,
   "metadata": {
    "collapsed": false
   },
   "outputs": [
    {
     "name": "stdout",
     "output_type": "stream",
     "text": [
      "(22935, 26)\n"
     ]
    }
   ],
   "source": [
    "unique_df = get_unique_runners(df).copy()\n",
    "print unique_df.shape"
   ]
  },
  {
   "cell_type": "code",
   "execution_count": 12,
   "metadata": {
    "collapsed": false
   },
   "outputs": [
    {
     "data": {
      "text/plain": [
       "929"
      ]
     },
     "execution_count": 12,
     "metadata": {},
     "output_type": "execute_result"
    }
   ],
   "source": [
    "len(df['prior_marathon'].unique())"
   ]
  },
  {
   "cell_type": "code",
   "execution_count": 13,
   "metadata": {
    "collapsed": false
   },
   "outputs": [
    {
     "name": "stdout",
     "output_type": "stream",
     "text": [
      "# of prior records: 106390\n",
      "# of unique runners w/priors: 22935\n",
      "# of runners in 2016: 26437\n",
      "2016 Runners found: 86.8%\n"
     ]
    }
   ],
   "source": [
    "print '# of prior records:', len(df)\n",
    "print '# of unique runners w/priors:', len(unique_df)\n",
    "print '# of runners in 2016:', len(df15)\n",
    "print '2016 Runners found: {:.1f}%'.format(len(unique_df) * 100. / len(df15))"
   ]
  },
  {
   "cell_type": "code",
   "execution_count": 14,
   "metadata": {
    "collapsed": false
   },
   "outputs": [
    {
     "data": {
      "image/png": "[encoded data removed]",
      "text/plain": [
       "<matplotlib.figure.Figure at 0x7f39e53f0050>"
      ]
     },
     "metadata": {},
     "output_type": "display_data"
    },
    {
     "name": "stdout",
     "output_type": "stream",
     "text": [
      "Boston 2016 w/priors: 230.619904753\n",
      "Boston 2016: 235.003312277\n"
     ]
    }
   ],
   "source": [
    "# Finish times of Boston compared with priors\n",
    "fig = plt.figure(figsize=(8, 5))\n",
    "plt.hist(df15['offltime'], bins=100, label='Boston 2016 All Runners', linewidth=0, color='b')\n",
    "plt.hist(unique_df['offltime'], bins=100, label='Boston 2016 Runners w/history', linewidth=0, color='r')\n",
    "plt.legend()\n",
    "plt.title('Comparing Sample of Runners with Priors vs. All Runners', fontsize=20, weight='bold')\n",
    "plt.xlabel('Finish Time (min)', fontsize=16, weight='bold')\n",
    "plt.savefig('test.png', transparent=True)\n",
    "plt.show()\n",
    "print 'Boston 2016 w/priors:', df['offltime'].mean()\n",
    "print 'Boston 2016:', df15['offltime'].mean()"
   ]
  },
  {
   "cell_type": "markdown",
   "metadata": {},
   "source": [
    "Even though we've captured 86+% of runners, the averages are off.  Is it possible our missing runners are runners who do not run marathons, and are running a professional course for the first time?"
   ]
  },
  {
   "cell_type": "code",
   "execution_count": 15,
   "metadata": {
    "collapsed": false
   },
   "outputs": [
    {
     "name": "stdout",
     "output_type": "stream",
     "text": [
      "# of bib numbers with no priors:  3478\n"
     ]
    },
    {
     "data": {
      "image/png": "[encoded data removed]",
      "text/plain": [
       "<matplotlib.figure.Figure at 0x7f39e5415450>"
      ]
     },
     "metadata": {},
     "output_type": "display_data"
    }
   ],
   "source": [
    "priorbibs = set(df['bib'])\n",
    "missing_bibs = [bib for bib in df15['bib'] if bib not in priorbibs]\n",
    "print '# of bib numbers with no priors: ', len(missing_bibs)\n",
    "plt.hist(missing_bibs, bins=100)\n",
    "plt.show()"
   ]
  },
  {
   "cell_type": "markdown",
   "metadata": {},
   "source": [
    "###### For 2015, non-qualifiers were assigned bib numbers > ~26,000 (aka Charity runners).  It appears a chunk of our runners are indeed first timers.  But we are missing running histories for other runners too."
   ]
  },
  {
   "cell_type": "markdown",
   "metadata": {},
   "source": [
    "### Build Dataframe for Modelling"
   ]
  },
  {
   "cell_type": "code",
   "execution_count": 16,
   "metadata": {
    "collapsed": false
   },
   "outputs": [
    {
     "name": "stdout",
     "output_type": "stream",
     "text": [
      "(106390, 1007) (106390,)\n"
     ]
    }
   ],
   "source": [
    "# One row per running record.  We will combine runner predictions later\n",
    "feature_columns = [u'bib', u'age', u'gender', u'elite', u'qualifier', \n",
    "                   u'home', \n",
    "                   u'avgtemp', u'avghumid', u'avgwind', u'avgwindE', u'avgwindN', u'isgusty',\n",
    "                   u'rainhours','prior_year', 'prior_time', 'prior_marathon']\n",
    "#model_df = pd.get_dummies(unique_df[feature_columns])\n",
    "model_df = pd.get_dummies(df[feature_columns])\n",
    "X = model_df.values\n",
    "y = df['offltime'].values\n",
    "print X.shape, y.shape"
   ]
  },
  {
   "cell_type": "markdown",
   "metadata": {},
   "source": [
    "### Mean as a Model"
   ]
  },
  {
   "cell_type": "code",
   "execution_count": 17,
   "metadata": {
    "collapsed": false
   },
   "outputs": [
    {
     "name": "stdout",
     "output_type": "stream",
     "text": [
      "Train R^2: 0.0\n",
      "Test R^2: 0.0\n",
      "Standard Error of Test: 0:37:24\n"
     ]
    },
    {
     "data": {
      "image/png": "[encoded data removed]",
      "text/plain": [
       "<matplotlib.figure.Figure at 0x7f39e5415ad0>"
      ]
     },
     "metadata": {},
     "output_type": "display_data"
    }
   ],
   "source": [
    "model = DummyRegressor()\n",
    "model.fit(X, y)\n",
    "plot_model_deviation(model, X, y, X, y)\n",
    "plt.title('Distribution of Finish Times')\n",
    "plt.xlabel('Finish Time (min)')\n",
    "plt.show()"
   ]
  },
  {
   "cell_type": "markdown",
   "metadata": {},
   "source": [
    "### Regression Model"
   ]
  },
  {
   "cell_type": "code",
   "execution_count": 18,
   "metadata": {
    "collapsed": false
   },
   "outputs": [
    {
     "name": "stdout",
     "output_type": "stream",
     "text": [
      "Train R^2: 0.622621303717\n",
      "Test R^2: 0.622621303717\n",
      "Standard Error of Test: 0:22:59\n"
     ]
    },
    {
     "data": {
      "image/png": "[encoded data removed]",
      "text/plain": [
       "<matplotlib.figure.Figure at 0x7f39e27d6b10>"
      ]
     },
     "metadata": {},
     "output_type": "display_data"
    }
   ],
   "source": [
    "model = LinearRegression()\n",
    "model.fit(X, y)\n",
    "plot_model_deviation(model, X, y, X, y)\n",
    "plt.title('Distribution of Finish Times')\n",
    "plt.xlabel('Finish Time (min)')\n",
    "plt.show()"
   ]
  },
  {
   "cell_type": "code",
   "execution_count": 19,
   "metadata": {
    "collapsed": false
   },
   "outputs": [
    {
     "name": "stdout",
     "output_type": "stream",
     "text": [
      "Train R^2: 0.603680129931\n",
      "Test R^2: 0.603680129931\n",
      "Standard Error of Test: 0:23:33\n",
      "\n",
      "Lasso Coefficients (alpha= 1 )\n",
      "------------------\n",
      "intercept 137.908892199\n",
      "bib       0.00253844591611\n",
      "age       0.332165963099\n",
      "avgtemp   -0.0184463241822\n",
      "avghumid  -0.00315556027531\n",
      "avgwindE  -0.0137634799578\n",
      "prior_time0.183196108389\n"
     ]
    },
    {
     "data": {
      "image/png": "[encoded data removed]",
      "text/plain": [
       "<matplotlib.figure.Figure at 0x7f39e1bebd10>"
      ]
     },
     "metadata": {},
     "output_type": "display_data"
    }
   ],
   "source": [
    "alpha = 1\n",
    "model = Lasso(alpha=alpha)\n",
    "model.fit(X, y)\n",
    "plot_model_deviation(model, X, y, X, y)\n",
    "print \n",
    "print 'Lasso Coefficients (alpha=',alpha,')'\n",
    "print '------------------'\n",
    "print '{0:10}{1}'.format('intercept', model.intercept_)\n",
    "for name, coef in zip(model_df.columns, model.coef_):\n",
    "    if abs(coef) > 0.001:\n",
    "        print '{0:10}{1}'.format(name, coef)"
   ]
  },
  {
   "cell_type": "code",
   "execution_count": 20,
   "metadata": {
    "collapsed": false
   },
   "outputs": [
    {
     "name": "stdout",
     "output_type": "stream",
     "text": [
      "(79792, 1007) (79792,)\n"
     ]
    }
   ],
   "source": [
    "X_train, X_test, y_train, y_test = train_test_split(X, y, random_state=732)\n",
    "print X_train.shape, y_train.shape"
   ]
  },
  {
   "cell_type": "code",
   "execution_count": 21,
   "metadata": {
    "collapsed": false
   },
   "outputs": [
    {
     "name": "stdout",
     "output_type": "stream",
     "text": [
      "(26598, 1007) (26598,)\n"
     ]
    }
   ],
   "source": [
    "print X_test.shape, y_test.shape"
   ]
  },
  {
   "cell_type": "code",
   "execution_count": 22,
   "metadata": {
    "collapsed": false
   },
   "outputs": [
    {
     "name": "stdout",
     "output_type": "stream",
     "text": [
      "Train R^2: 0.693728211644\n",
      "Test R^2: 0.6812611642\n",
      "Standard Error of Test: 0:21:10\n"
     ]
    },
    {
     "data": {
      "image/png": "[encoded data removed]",
      "text/plain": [
       "<matplotlib.figure.Figure at 0x7f39e1bfa490>"
      ]
     },
     "metadata": {},
     "output_type": "display_data"
    }
   ],
   "source": [
    "model = GradientBoostingRegressor(n_estimators=200, learning_rate = 0.04, max_depth=4, subsample=0.6)\n",
    "model.fit(X_train, y_train)\n",
    "plot_model_deviation(model, X_train, y_train, X_test, y_test)\n",
    "plt.title('Distribution of Finish Times')\n",
    "plt.xlabel('Finish Time (min)')\n",
    "plt.savefig('priormodel-gradientboosting.png', bbox_inches='tight', dpi=300)\n",
    "plt.show()"
   ]
  },
  {
   "cell_type": "code",
   "execution_count": 23,
   "metadata": {
    "collapsed": false
   },
   "outputs": [
    {
     "name": "stdout",
     "output_type": "stream",
     "text": [
      "Train R^2: 0.571398338424\n",
      "Test R^2: 0.5410432335\n",
      "Standard Error of Test: 0:25:24\n"
     ]
    },
    {
     "data": {
      "image/png": "[encoded data removed]",
      "text/plain": [
       "<matplotlib.figure.Figure at 0x7f39e07b74d0>"
      ]
     },
     "metadata": {},
     "output_type": "display_data"
    }
   ],
   "source": [
    "model = RandomForestRegressor(max_depth = 16, max_features = 43, n_estimators = 1000)\n",
    "model.fit(X_train, y_train)\n",
    "plot_model_deviation(model, X_train, y_train, X_test, y_test)\n",
    "plt.title('Distribution of Finish Times')\n",
    "plt.xlabel('Finish Time (min)')\n",
    "plt.savefig('priormodel-randomforest.png', bbox_inches='tight', dpi=300)\n",
    "plt.show()"
   ]
  },
  {
   "cell_type": "markdown",
   "metadata": {},
   "source": [
    "# Pick model\n",
    "\n",
    "Since we need to train on entire dataset and use the results, we need a model that does not overfit.\n",
    "\n",
    "### Gradient Boosting Wins"
   ]
  },
  {
   "cell_type": "markdown",
   "metadata": {},
   "source": [
    "## 1. Tune Gradient Boosting"
   ]
  },
  {
   "cell_type": "code",
   "execution_count": null,
   "metadata": {
    "collapsed": false
   },
   "outputs": [],
   "source": [
    "# Tune using CV search\n",
    "# model = GridSearchCV(GradientBoostingRegressor(verbose=True), \n",
    "#                      param_grid={'n_estimators': [100],\n",
    "#                                  'learning_rate': [0.04],\n",
    "#                                  'max_depth': [4],\n",
    "#                                  'subsample': [0.7, 0.6, 0.5]},\n",
    "#                      verbose=True)\n",
    "# model.fit(X_train, y_train)\n",
    "# print model.best_params_"
   ]
  },
  {
   "cell_type": "code",
   "execution_count": null,
   "metadata": {
    "collapsed": false
   },
   "outputs": [],
   "source": [
    "# Bump up the number of estimators and now tune learning_rate\n",
    "# model = GridSearchCV(GradientBoostingRegressor(verbose=True), \n",
    "#                      param_grid={'n_estimators': [500],\n",
    "#                                  'learning_rate': [0.04, 0.01, 0.003, 0.001],\n",
    "#                                  'max_depth': [4],\n",
    "#                                  'subsample': [0.6]},\n",
    "#                      verbose=True)\n",
    "# model.fit(X, y)\n",
    "# print model.best_params_\n",
    "# plot_model_deviation(model, X, y, X, y)\n",
    "# plt.title('Distribution of Finish Times')\n",
    "# plt.xlabel('Finish Time (min)')\n",
    "# plt.show()"
   ]
  },
  {
   "cell_type": "markdown",
   "metadata": {},
   "source": [
    "## 2. Fit on entire dataset (- extreme outliers)"
   ]
  },
  {
   "cell_type": "code",
   "execution_count": 24,
   "metadata": {
    "collapsed": false
   },
   "outputs": [
    {
     "name": "stdout",
     "output_type": "stream",
     "text": [
      "      Iter       Train Loss      OOB Improve   Remaining Time \n",
      "         1        1319.4877          70.1597           26.61m\n",
      "         2        1265.2510          63.9260           26.49m\n",
      "         3        1208.9045          59.3554           26.31m\n",
      "         4        1155.5249          54.6069           26.10m\n",
      "         5        1100.3748          50.9607           25.95m\n",
      "         6        1059.3841          46.2191           25.79m\n",
      "         7        1004.3194          43.2101           25.63m\n",
      "         8         971.2490          40.0986           25.48m\n",
      "         9         940.5401          36.7689           25.34m\n",
      "        10         895.1470          34.3853           25.21m\n",
      "        20         670.4295          15.4274           23.81m\n",
      "        30         564.8017           7.3402           22.43m\n",
      "        40         513.7937           3.5937           21.08m\n",
      "        50         484.6613           1.9064           19.70m\n",
      "        60         474.3865           0.9459           18.31m\n",
      "        70         462.4728           0.7369           16.92m\n",
      "        80         455.4528           0.3564           15.54m\n",
      "        90         453.7218           0.4677           14.17m\n",
      "       100         448.6620           0.4369           12.82m\n",
      "       200         430.7662           0.0122            0.00s\n",
      "Train R^2: 0.691094739251\n",
      "Test R^2: 0.691094739251\n",
      "Standard Error of Test: 0:20:47\n"
     ]
    },
    {
     "data": {
      "image/png": "[encoded data removed]",
      "text/plain": [
       "<matplotlib.figure.Figure at 0x7f39e0967790>"
      ]
     },
     "metadata": {},
     "output_type": "display_data"
    }
   ],
   "source": [
    "model = GradientBoostingRegressor(n_estimators=200, learning_rate = 0.04, max_depth=4, subsample=0.6, verbose=True)\n",
    "model.fit(X, y)\n",
    "plot_model_deviation(model, X, y, X, y)\n",
    "plt.savefig('finalmodel-gradientboosting.png', bbox_inches='tight', dpi=300)\n",
    "plt.title('Distribution of Finish Times')\n",
    "plt.xlabel('Finish Time (min)')\n",
    "plt.show()"
   ]
  },
  {
   "cell_type": "code",
   "execution_count": 25,
   "metadata": {
    "collapsed": false
   },
   "outputs": [
    {
     "name": "stdout",
     "output_type": "stream",
     "text": [
      "(104573, 1007) (104573,)\n"
     ]
    }
   ],
   "source": [
    "# Remove outliers > 3 std deviations away\n",
    "y_predict = model.predict(X)\n",
    "stddev = np.var(y - y_predict)**0.5\n",
    "outlier = abs(y-y_predict) > 3*stddev\n",
    "\n",
    "X_clean = model_df[~outlier].values\n",
    "y_clean = df.loc[~outlier, 'offltime'].values\n",
    "print X_clean.shape, y_clean.shape"
   ]
  },
  {
   "cell_type": "code",
   "execution_count": 26,
   "metadata": {
    "collapsed": false
   },
   "outputs": [
    {
     "name": "stdout",
     "output_type": "stream",
     "text": [
      "      Iter       Train Loss      OOB Improve   Remaining Time \n",
      "         1        1205.8544          69.5861           25.75m\n",
      "         2        1134.5636          64.4623           25.64m\n",
      "         3        1080.1485          59.6592           25.52m\n",
      "         4        1017.1501          55.4356           25.36m\n",
      "         5         966.1672          50.8425           25.24m\n",
      "         6         912.6703          47.5097           25.08m\n",
      "         7         874.4507          43.3890           24.96m\n",
      "         8         834.5618          39.9603           24.84m\n",
      "         9         797.5361          37.3156           24.71m\n",
      "        10         768.3073          33.8567           24.58m\n",
      "        20         542.9170          15.4886           23.28m\n",
      "        30         428.7731           7.3877           21.98m\n",
      "        40         379.2494           3.3922           20.66m\n",
      "        50         354.0238           1.7617           19.30m\n",
      "        60         337.4252           1.0212           17.95m\n",
      "        70         329.9642           0.5771           16.60m\n",
      "        80         326.1894           0.4552           15.25m\n",
      "        90         321.2429           0.2944           13.88m\n",
      "       100         318.8238           0.1946           12.56m\n",
      "       200         309.1934           0.0243            0.00s\n"
     ]
    },
    {
     "data": {
      "text/plain": [
       "GradientBoostingRegressor(alpha=0.9, init=None, learning_rate=0.04, loss='ls',\n",
       "             max_depth=4, max_features=None, max_leaf_nodes=None,\n",
       "             min_samples_leaf=1, min_samples_split=2,\n",
       "             min_weight_fraction_leaf=0.0, n_estimators=200,\n",
       "             presort='auto', random_state=None, subsample=0.6,\n",
       "             verbose=True, warm_start=False)"
      ]
     },
     "execution_count": 26,
     "metadata": {},
     "output_type": "execute_result"
    }
   ],
   "source": [
    "# Refit model without outliers\n",
    "model = GradientBoostingRegressor(n_estimators=200, learning_rate = 0.04, max_depth=4, subsample=0.6, verbose=True)\n",
    "model.fit(X_clean, y_clean)"
   ]
  },
  {
   "cell_type": "code",
   "execution_count": 27,
   "metadata": {
    "collapsed": false
   },
   "outputs": [
    {
     "name": "stdout",
     "output_type": "stream",
     "text": [
      "Train R^2: 0.758082878852\n",
      "Test R^2: 0.758082878852\n",
      "Standard Error of Test: 0:17:31\n"
     ]
    },
    {
     "data": {
      "image/png": "[encoded data removed]",
      "text/plain": [
       "<matplotlib.figure.Figure at 0x7f39e24f4090>"
      ]
     },
     "metadata": {},
     "output_type": "display_data"
    }
   ],
   "source": [
    "plot_model_deviation(model, X_clean, y_clean, X_clean, y_clean)\n",
    "plt.title('Distribution of Finish Times')\n",
    "plt.xlabel('Finish Time (min)')\n",
    "plt.savefig('finalmodel-gradientboosting.png', bbox_inches='tight', dpi=300)\n",
    "plt.show()"
   ]
  },
  {
   "cell_type": "code",
   "execution_count": 28,
   "metadata": {
    "collapsed": false
   },
   "outputs": [
    {
     "data": {
      "text/plain": [
       "[('bib', 0.42431661009909905),\n",
       " ('prior_time', 0.15789584947123111),\n",
       " ('age', 0.13378743300945525),\n",
       " ('avgtemp', 0.024387426406978444),\n",
       " ('prior_year', 0.018245320891419642),\n",
       " ('home_UT', 0.015849919046025829),\n",
       " ('gender', 0.015150129455080763),\n",
       " ('prior_marathon_boston', 0.010459089241655131),\n",
       " ('home_GA', 0.0089089581835354852),\n",
       " ('home_CAN', 0.0076527108611290631),\n",
       " ('prior_marathon_revel_canyon_city', 0.0074971486178948563),\n",
       " ('home_NJ', 0.0072647077573554522),\n",
       " ('home_MO', 0.0070962355780505295),\n",
       " ('home_MISC', 0.0069268329488645494),\n",
       " ('prior_marathon_st_george', 0.0068885871650971276),\n",
       " ('avghumid', 0.0068111873410827764),\n",
       " ('home_HI', 0.0066273352049880559),\n",
       " ('home_MN', 0.0062985318344250399),\n",
       " ('prior_marathon_big_cottonwood_half', 0.006198329925714785),\n",
       " ('avgwindE', 0.0055033906208062037)]"
      ]
     },
     "execution_count": 28,
     "metadata": {},
     "output_type": "execute_result"
    }
   ],
   "source": [
    "feature_importance = zip(model_df.columns, model.feature_importances_)\n",
    "sorted(feature_importance, reverse=True, key=lambda x: x[1])[0:20]"
   ]
  },
  {
   "cell_type": "markdown",
   "metadata": {},
   "source": [
    "## 3. Select outliers."
   ]
  },
  {
   "cell_type": "code",
   "execution_count": 29,
   "metadata": {
    "collapsed": false
   },
   "outputs": [
    {
     "name": "stdout",
     "output_type": "stream",
     "text": [
      "Train R^2: 0.681643304759\n",
      "Test R^2: 0.681643304759\n",
      "Standard Error of Test: 0:21:04\n"
     ]
    },
    {
     "data": {
      "image/png": "[encoded data removed]",
      "text/plain": [
       "<matplotlib.figure.Figure at 0x7f39e1d04390>"
      ]
     },
     "metadata": {},
     "output_type": "display_data"
    }
   ],
   "source": [
    "# Plot showing outliers\n",
    "plot_model_deviation(model, X, y, X, y, y_max = 0.0004)\n",
    "plt.title('Distribution of Finish Times')\n",
    "plt.xlabel('Finish Time (min)')\n",
    "plt.savefig('outliers-zoom.png', bbox_inches='tight', dpi=300)\n",
    "plt.show()"
   ]
  },
  {
   "cell_type": "code",
   "execution_count": 30,
   "metadata": {
    "collapsed": true
   },
   "outputs": [],
   "source": [
    "y_predict = model.predict(X)"
   ]
  },
  {
   "cell_type": "code",
   "execution_count": 32,
   "metadata": {
    "collapsed": true
   },
   "outputs": [],
   "source": [
    "model_df['predicted_time'] = y_predict"
   ]
  },
  {
   "cell_type": "code",
   "execution_count": 33,
   "metadata": {
    "collapsed": false
   },
   "outputs": [
    {
     "name": "stdout",
     "output_type": "stream",
     "text": [
      "Standard Error: 21.0613012682\n",
      "# of outlier records: 14036\n",
      "\n",
      "Total # of unique runners: 22935\n",
      "# of unique outliers: 3663\n"
     ]
    }
   ],
   "source": [
    "stddev = np.var(y - y_predict)**0.5\n",
    "outliers = (y - y_predict > 1 * stddev)\n",
    "outlier_bibs = df.loc[outliers, 'bib'].unique()\n",
    "\n",
    "print 'Standard Error:', stddev\n",
    "print '# of outlier records:', sum(outliers)\n",
    "print\n",
    "print 'Total # of unique runners:', len(df['bib'].unique())\n",
    "print '# of unique outliers:', len(df.loc[outliers, 'bib'].unique())\n"
   ]
  },
  {
   "cell_type": "code",
   "execution_count": 34,
   "metadata": {
    "collapsed": false
   },
   "outputs": [],
   "source": [
    "# remove duplicate runners from priors+, results from runners who have ran more than one other race.\n",
    "def get_uniques(df):\n",
    "    unique_bibs = df['bib'].unique()\n",
    "    runners_list = []\n",
    "    for bib in unique_bibs:\n",
    "        runners = df[df['bib'] == bib]\n",
    "        runner = runners.iloc[0].copy()\n",
    "        runner['predicted'] = np.mean((runners['predicted']))\n",
    "        runner['difference'] = runner['offltime'] - runner['predicted']\n",
    "        runner['median_difference'] = runner['offltime'] - np.median((runners['predicted']))\n",
    "        runner['min_difference'] = runner['offltime'] - np.min((runners['predicted']))\n",
    "        runner['max_difference'] = runner['offltime'] - np.max((runners['predicted']))\n",
    "        if len(runners) > 1:\n",
    "            # If multiple records exist for a runner, then save the following columns\n",
    "            runner['2ndmin_difference'] = runner['offltime'] - list(runners['predicted'].sort_values())[1]\n",
    "            runner['2ndmax_difference'] = runner['offltime'] - list(runners['predicted'].sort_values())[-2]\n",
    "        else:\n",
    "            runner['2ndmin_difference'] = runner['difference']\n",
    "            runner['2ndmax_difference'] = runner['difference']\n",
    "        runners_list.append(runner)\n",
    "    unique_df = pd.DataFrame(runners_list)\n",
    "    return unique_df"
   ]
  },
  {
   "cell_type": "code",
   "execution_count": 35,
   "metadata": {
    "collapsed": false,
    "scrolled": true
   },
   "outputs": [
    {
     "name": "stdout",
     "output_type": "stream",
     "text": [
      "(106390, 4)\n",
      "(22935, 9)\n"
     ]
    }
   ],
   "source": [
    "# Make cheater prediction table\n",
    "# bib, y, y_predict, cheater\n",
    "predict_df = pd.DataFrame(model_df['bib'])\n",
    "predict_df['offltime'] = y\n",
    "predict_df['predicted'] = y_predict\n",
    "predict_df['difference'] = y - y_predict\n",
    "print predict_df.shape\n",
    "predict_df = get_uniques(predict_df)\n",
    "print predict_df.shape"
   ]
  },
  {
   "cell_type": "code",
   "execution_count": 36,
   "metadata": {
    "collapsed": false
   },
   "outputs": [
    {
     "name": "stdout",
     "output_type": "stream",
     "text": [
      "-113.214875967 245.065199008\n"
     ]
    }
   ],
   "source": [
    "print predict_df['difference'].min(), predict_df['difference'].max()"
   ]
  },
  {
   "cell_type": "code",
   "execution_count": 38,
   "metadata": {
    "collapsed": false
   },
   "outputs": [
    {
     "name": "stdout",
     "output_type": "stream",
     "text": [
      "threshold  cheaters  records  rate\n",
      "---------  --------  -------  ----\n",
      "     30.0         0     1579  0.00\n"
     ]
    }
   ],
   "source": [
    "# Set threshold at 30.0 min\n",
    "threshold = 30.0\n",
    "flagged = predict_df.loc[predict_df['max_difference'] > threshold]\n",
    "out_str = '{:9.1f}  {:8}  {:7}  {:4.2f}'\n",
    "print 'threshold  cheaters  records  rate'\n",
    "print '---------  --------  -------  ----'\n",
    "print out_str.format(threshold, 0, len(flagged), 0)"
   ]
  },
  {
   "cell_type": "markdown",
   "metadata": {
    "collapsed": true
   },
   "source": [
    "# Save Outlier List"
   ]
  },
  {
   "cell_type": "code",
   "execution_count": 39,
   "metadata": {
    "collapsed": false
   },
   "outputs": [
    {
     "data": {
      "text/html": [
       "<div>\n",
       "<table border=\"1\" class=\"dataframe\">\n",
       "  <thead>\n",
       "    <tr style=\"text-align: right;\">\n",
       "      <th></th>\n",
       "      <th>bib</th>\n",
       "      <th>offltime</th>\n",
       "      <th>predicted</th>\n",
       "      <th>difference</th>\n",
       "      <th>median_difference</th>\n",
       "      <th>min_difference</th>\n",
       "      <th>max_difference</th>\n",
       "      <th>2ndmin_difference</th>\n",
       "      <th>2ndmax_difference</th>\n",
       "    </tr>\n",
       "  </thead>\n",
       "  <tbody>\n",
       "    <tr>\n",
       "      <th>19</th>\n",
       "      <td>24981</td>\n",
       "      <td>349.333333</td>\n",
       "      <td>260.083924</td>\n",
       "      <td>89.249409</td>\n",
       "      <td>89.374673</td>\n",
       "      <td>94.777918</td>\n",
       "      <td>82.034839</td>\n",
       "      <td>90.864516</td>\n",
       "      <td>87.637752</td>\n",
       "    </tr>\n",
       "    <tr>\n",
       "      <th>79</th>\n",
       "      <td>5923</td>\n",
       "      <td>250.933333</td>\n",
       "      <td>203.108893</td>\n",
       "      <td>47.824440</td>\n",
       "      <td>48.267144</td>\n",
       "      <td>51.246330</td>\n",
       "      <td>42.520360</td>\n",
       "      <td>50.391329</td>\n",
       "      <td>45.908495</td>\n",
       "    </tr>\n",
       "    <tr>\n",
       "      <th>81</th>\n",
       "      <td>8905</td>\n",
       "      <td>265.966667</td>\n",
       "      <td>215.162656</td>\n",
       "      <td>50.804010</td>\n",
       "      <td>48.851407</td>\n",
       "      <td>55.982282</td>\n",
       "      <td>47.475150</td>\n",
       "      <td>52.950804</td>\n",
       "      <td>48.760408</td>\n",
       "    </tr>\n",
       "    <tr>\n",
       "      <th>88</th>\n",
       "      <td>12427</td>\n",
       "      <td>285.800000</td>\n",
       "      <td>223.241443</td>\n",
       "      <td>62.558557</td>\n",
       "      <td>62.666517</td>\n",
       "      <td>65.131016</td>\n",
       "      <td>60.597917</td>\n",
       "      <td>63.302892</td>\n",
       "      <td>60.748596</td>\n",
       "    </tr>\n",
       "    <tr>\n",
       "      <th>104</th>\n",
       "      <td>10773</td>\n",
       "      <td>297.000000</td>\n",
       "      <td>218.814472</td>\n",
       "      <td>78.185528</td>\n",
       "      <td>78.017767</td>\n",
       "      <td>79.050587</td>\n",
       "      <td>77.488230</td>\n",
       "      <td>78.017767</td>\n",
       "      <td>78.017767</td>\n",
       "    </tr>\n",
       "    <tr>\n",
       "      <th>112</th>\n",
       "      <td>12666</td>\n",
       "      <td>269.500000</td>\n",
       "      <td>218.362662</td>\n",
       "      <td>51.137338</td>\n",
       "      <td>50.913923</td>\n",
       "      <td>53.068640</td>\n",
       "      <td>49.159393</td>\n",
       "      <td>52.056290</td>\n",
       "      <td>50.488443</td>\n",
       "    </tr>\n",
       "    <tr>\n",
       "      <th>113</th>\n",
       "      <td>18262</td>\n",
       "      <td>277.633333</td>\n",
       "      <td>238.853197</td>\n",
       "      <td>38.780136</td>\n",
       "      <td>37.704433</td>\n",
       "      <td>42.940416</td>\n",
       "      <td>36.771262</td>\n",
       "      <td>37.920104</td>\n",
       "      <td>37.488762</td>\n",
       "    </tr>\n",
       "    <tr>\n",
       "      <th>122</th>\n",
       "      <td>26217</td>\n",
       "      <td>415.816667</td>\n",
       "      <td>311.589053</td>\n",
       "      <td>104.227614</td>\n",
       "      <td>96.160452</td>\n",
       "      <td>127.609087</td>\n",
       "      <td>94.113655</td>\n",
       "      <td>123.518690</td>\n",
       "      <td>95.137615</td>\n",
       "    </tr>\n",
       "    <tr>\n",
       "      <th>124</th>\n",
       "      <td>6044</td>\n",
       "      <td>344.800000</td>\n",
       "      <td>205.526636</td>\n",
       "      <td>139.273364</td>\n",
       "      <td>138.352474</td>\n",
       "      <td>142.549325</td>\n",
       "      <td>136.979343</td>\n",
       "      <td>142.378479</td>\n",
       "      <td>137.091759</td>\n",
       "    </tr>\n",
       "    <tr>\n",
       "      <th>137</th>\n",
       "      <td>2055</td>\n",
       "      <td>233.116667</td>\n",
       "      <td>189.473187</td>\n",
       "      <td>43.643479</td>\n",
       "      <td>44.378754</td>\n",
       "      <td>46.274329</td>\n",
       "      <td>41.081470</td>\n",
       "      <td>44.916012</td>\n",
       "      <td>41.566831</td>\n",
       "    </tr>\n",
       "    <tr>\n",
       "      <th>152</th>\n",
       "      <td>20664</td>\n",
       "      <td>306.883333</td>\n",
       "      <td>244.415142</td>\n",
       "      <td>62.468191</td>\n",
       "      <td>62.027770</td>\n",
       "      <td>67.122805</td>\n",
       "      <td>58.694419</td>\n",
       "      <td>63.356350</td>\n",
       "      <td>60.699190</td>\n",
       "    </tr>\n",
       "    <tr>\n",
       "      <th>157</th>\n",
       "      <td>16363</td>\n",
       "      <td>273.000000</td>\n",
       "      <td>226.486808</td>\n",
       "      <td>46.513192</td>\n",
       "      <td>46.723252</td>\n",
       "      <td>48.043982</td>\n",
       "      <td>44.209755</td>\n",
       "      <td>46.953527</td>\n",
       "      <td>46.635440</td>\n",
       "    </tr>\n",
       "    <tr>\n",
       "      <th>160</th>\n",
       "      <td>6978</td>\n",
       "      <td>251.516667</td>\n",
       "      <td>207.680606</td>\n",
       "      <td>43.836061</td>\n",
       "      <td>43.739732</td>\n",
       "      <td>45.244129</td>\n",
       "      <td>42.181744</td>\n",
       "      <td>44.941755</td>\n",
       "      <td>42.956383</td>\n",
       "    </tr>\n",
       "    <tr>\n",
       "      <th>174</th>\n",
       "      <td>12848</td>\n",
       "      <td>341.966667</td>\n",
       "      <td>224.114902</td>\n",
       "      <td>117.851764</td>\n",
       "      <td>118.139495</td>\n",
       "      <td>120.763626</td>\n",
       "      <td>113.303013</td>\n",
       "      <td>120.246944</td>\n",
       "      <td>116.518014</td>\n",
       "    </tr>\n",
       "    <tr>\n",
       "      <th>195</th>\n",
       "      <td>14115</td>\n",
       "      <td>290.183333</td>\n",
       "      <td>229.803101</td>\n",
       "      <td>60.380232</td>\n",
       "      <td>60.509868</td>\n",
       "      <td>62.690603</td>\n",
       "      <td>57.940225</td>\n",
       "      <td>60.509868</td>\n",
       "      <td>60.509868</td>\n",
       "    </tr>\n",
       "    <tr>\n",
       "      <th>209</th>\n",
       "      <td>13610</td>\n",
       "      <td>270.800000</td>\n",
       "      <td>229.358170</td>\n",
       "      <td>41.441830</td>\n",
       "      <td>43.443928</td>\n",
       "      <td>44.718463</td>\n",
       "      <td>36.925073</td>\n",
       "      <td>44.024075</td>\n",
       "      <td>37.074242</td>\n",
       "    </tr>\n",
       "    <tr>\n",
       "      <th>217</th>\n",
       "      <td>7686</td>\n",
       "      <td>260.983333</td>\n",
       "      <td>213.469000</td>\n",
       "      <td>47.514333</td>\n",
       "      <td>46.923007</td>\n",
       "      <td>50.425318</td>\n",
       "      <td>46.107456</td>\n",
       "      <td>50.253568</td>\n",
       "      <td>46.165236</td>\n",
       "    </tr>\n",
       "    <tr>\n",
       "      <th>252</th>\n",
       "      <td>26492</td>\n",
       "      <td>360.716667</td>\n",
       "      <td>276.832305</td>\n",
       "      <td>83.884362</td>\n",
       "      <td>85.819021</td>\n",
       "      <td>117.905507</td>\n",
       "      <td>44.525339</td>\n",
       "      <td>116.057746</td>\n",
       "      <td>47.540611</td>\n",
       "    </tr>\n",
       "    <tr>\n",
       "      <th>284</th>\n",
       "      <td>3067</td>\n",
       "      <td>301.050000</td>\n",
       "      <td>199.665073</td>\n",
       "      <td>101.384927</td>\n",
       "      <td>100.686399</td>\n",
       "      <td>107.040804</td>\n",
       "      <td>97.194401</td>\n",
       "      <td>105.974739</td>\n",
       "      <td>97.810465</td>\n",
       "    </tr>\n",
       "    <tr>\n",
       "      <th>285</th>\n",
       "      <td>6492</td>\n",
       "      <td>291.433333</td>\n",
       "      <td>209.986204</td>\n",
       "      <td>81.447129</td>\n",
       "      <td>80.026264</td>\n",
       "      <td>87.993101</td>\n",
       "      <td>76.240699</td>\n",
       "      <td>87.243109</td>\n",
       "      <td>77.653720</td>\n",
       "    </tr>\n",
       "    <tr>\n",
       "      <th>286</th>\n",
       "      <td>12089</td>\n",
       "      <td>254.500000</td>\n",
       "      <td>218.425580</td>\n",
       "      <td>36.074420</td>\n",
       "      <td>36.178471</td>\n",
       "      <td>39.402321</td>\n",
       "      <td>30.696584</td>\n",
       "      <td>39.241230</td>\n",
       "      <td>32.505533</td>\n",
       "    </tr>\n",
       "    <tr>\n",
       "      <th>295</th>\n",
       "      <td>276</td>\n",
       "      <td>353.700000</td>\n",
       "      <td>306.865663</td>\n",
       "      <td>46.834337</td>\n",
       "      <td>43.056305</td>\n",
       "      <td>69.983697</td>\n",
       "      <td>33.536955</td>\n",
       "      <td>62.499209</td>\n",
       "      <td>33.666110</td>\n",
       "    </tr>\n",
       "    <tr>\n",
       "      <th>307</th>\n",
       "      <td>17739</td>\n",
       "      <td>302.383333</td>\n",
       "      <td>239.716774</td>\n",
       "      <td>62.666559</td>\n",
       "      <td>62.979061</td>\n",
       "      <td>68.744515</td>\n",
       "      <td>55.527081</td>\n",
       "      <td>67.705871</td>\n",
       "      <td>58.884052</td>\n",
       "    </tr>\n",
       "    <tr>\n",
       "      <th>340</th>\n",
       "      <td>19351</td>\n",
       "      <td>274.050000</td>\n",
       "      <td>236.659255</td>\n",
       "      <td>37.390745</td>\n",
       "      <td>37.908536</td>\n",
       "      <td>40.913628</td>\n",
       "      <td>32.110629</td>\n",
       "      <td>40.401554</td>\n",
       "      <td>32.973119</td>\n",
       "    </tr>\n",
       "    <tr>\n",
       "      <th>351</th>\n",
       "      <td>19050</td>\n",
       "      <td>282.316667</td>\n",
       "      <td>237.689513</td>\n",
       "      <td>44.627154</td>\n",
       "      <td>44.869640</td>\n",
       "      <td>47.792182</td>\n",
       "      <td>40.913842</td>\n",
       "      <td>47.156773</td>\n",
       "      <td>42.160844</td>\n",
       "    </tr>\n",
       "    <tr>\n",
       "      <th>355</th>\n",
       "      <td>24019</td>\n",
       "      <td>293.116667</td>\n",
       "      <td>255.005220</td>\n",
       "      <td>38.111446</td>\n",
       "      <td>38.712856</td>\n",
       "      <td>44.282399</td>\n",
       "      <td>31.530279</td>\n",
       "      <td>42.818076</td>\n",
       "      <td>32.150468</td>\n",
       "    </tr>\n",
       "    <tr>\n",
       "      <th>370</th>\n",
       "      <td>21081</td>\n",
       "      <td>342.850000</td>\n",
       "      <td>277.146352</td>\n",
       "      <td>65.703648</td>\n",
       "      <td>60.610355</td>\n",
       "      <td>89.652154</td>\n",
       "      <td>54.805852</td>\n",
       "      <td>87.315657</td>\n",
       "      <td>55.114394</td>\n",
       "    </tr>\n",
       "    <tr>\n",
       "      <th>378</th>\n",
       "      <td>9170</td>\n",
       "      <td>291.900000</td>\n",
       "      <td>215.801405</td>\n",
       "      <td>76.098595</td>\n",
       "      <td>76.216690</td>\n",
       "      <td>80.064891</td>\n",
       "      <td>72.446159</td>\n",
       "      <td>79.160002</td>\n",
       "      <td>72.487136</td>\n",
       "    </tr>\n",
       "    <tr>\n",
       "      <th>383</th>\n",
       "      <td>23165</td>\n",
       "      <td>316.500000</td>\n",
       "      <td>269.634668</td>\n",
       "      <td>46.865332</td>\n",
       "      <td>44.357392</td>\n",
       "      <td>61.294476</td>\n",
       "      <td>41.276950</td>\n",
       "      <td>59.332684</td>\n",
       "      <td>41.465193</td>\n",
       "    </tr>\n",
       "    <tr>\n",
       "      <th>386</th>\n",
       "      <td>22541</td>\n",
       "      <td>316.500000</td>\n",
       "      <td>265.634145</td>\n",
       "      <td>50.865855</td>\n",
       "      <td>49.115134</td>\n",
       "      <td>65.767450</td>\n",
       "      <td>45.890217</td>\n",
       "      <td>61.601571</td>\n",
       "      <td>45.896223</td>\n",
       "    </tr>\n",
       "    <tr>\n",
       "      <th>...</th>\n",
       "      <td>...</td>\n",
       "      <td>...</td>\n",
       "      <td>...</td>\n",
       "      <td>...</td>\n",
       "      <td>...</td>\n",
       "      <td>...</td>\n",
       "      <td>...</td>\n",
       "      <td>...</td>\n",
       "      <td>...</td>\n",
       "    </tr>\n",
       "    <tr>\n",
       "      <th>91705</th>\n",
       "      <td>29926</td>\n",
       "      <td>346.716667</td>\n",
       "      <td>298.776589</td>\n",
       "      <td>47.940078</td>\n",
       "      <td>47.940078</td>\n",
       "      <td>47.940078</td>\n",
       "      <td>47.940078</td>\n",
       "      <td>47.940078</td>\n",
       "      <td>47.940078</td>\n",
       "    </tr>\n",
       "    <tr>\n",
       "      <th>91822</th>\n",
       "      <td>28433</td>\n",
       "      <td>358.650000</td>\n",
       "      <td>298.719538</td>\n",
       "      <td>59.930462</td>\n",
       "      <td>62.164986</td>\n",
       "      <td>64.018986</td>\n",
       "      <td>53.607415</td>\n",
       "      <td>62.164986</td>\n",
       "      <td>62.164986</td>\n",
       "    </tr>\n",
       "    <tr>\n",
       "      <th>92114</th>\n",
       "      <td>28576</td>\n",
       "      <td>345.283333</td>\n",
       "      <td>298.417914</td>\n",
       "      <td>46.865420</td>\n",
       "      <td>46.865420</td>\n",
       "      <td>46.865420</td>\n",
       "      <td>46.865420</td>\n",
       "      <td>46.865420</td>\n",
       "      <td>46.865420</td>\n",
       "    </tr>\n",
       "    <tr>\n",
       "      <th>92158</th>\n",
       "      <td>27989</td>\n",
       "      <td>363.966667</td>\n",
       "      <td>313.523994</td>\n",
       "      <td>50.442673</td>\n",
       "      <td>50.442673</td>\n",
       "      <td>50.442673</td>\n",
       "      <td>50.442673</td>\n",
       "      <td>50.442673</td>\n",
       "      <td>50.442673</td>\n",
       "    </tr>\n",
       "    <tr>\n",
       "      <th>92276</th>\n",
       "      <td>26751</td>\n",
       "      <td>361.816667</td>\n",
       "      <td>315.639977</td>\n",
       "      <td>46.176690</td>\n",
       "      <td>46.176690</td>\n",
       "      <td>46.176690</td>\n",
       "      <td>46.176690</td>\n",
       "      <td>46.176690</td>\n",
       "      <td>46.176690</td>\n",
       "    </tr>\n",
       "    <tr>\n",
       "      <th>92549</th>\n",
       "      <td>9182</td>\n",
       "      <td>330.350000</td>\n",
       "      <td>204.506898</td>\n",
       "      <td>125.843102</td>\n",
       "      <td>125.843102</td>\n",
       "      <td>125.843102</td>\n",
       "      <td>125.843102</td>\n",
       "      <td>125.843102</td>\n",
       "      <td>125.843102</td>\n",
       "    </tr>\n",
       "    <tr>\n",
       "      <th>92763</th>\n",
       "      <td>26998</td>\n",
       "      <td>361.233333</td>\n",
       "      <td>318.325337</td>\n",
       "      <td>42.907996</td>\n",
       "      <td>43.523488</td>\n",
       "      <td>44.547966</td>\n",
       "      <td>40.652534</td>\n",
       "      <td>43.523488</td>\n",
       "      <td>43.523488</td>\n",
       "    </tr>\n",
       "    <tr>\n",
       "      <th>92802</th>\n",
       "      <td>30320</td>\n",
       "      <td>360.866667</td>\n",
       "      <td>311.945554</td>\n",
       "      <td>48.921113</td>\n",
       "      <td>48.921113</td>\n",
       "      <td>51.973439</td>\n",
       "      <td>45.868786</td>\n",
       "      <td>45.868786</td>\n",
       "      <td>51.973439</td>\n",
       "    </tr>\n",
       "    <tr>\n",
       "      <th>92818</th>\n",
       "      <td>29067</td>\n",
       "      <td>363.500000</td>\n",
       "      <td>314.997880</td>\n",
       "      <td>48.502120</td>\n",
       "      <td>48.502120</td>\n",
       "      <td>48.502120</td>\n",
       "      <td>48.502120</td>\n",
       "      <td>48.502120</td>\n",
       "      <td>48.502120</td>\n",
       "    </tr>\n",
       "    <tr>\n",
       "      <th>92973</th>\n",
       "      <td>31901</td>\n",
       "      <td>343.116667</td>\n",
       "      <td>295.908865</td>\n",
       "      <td>47.207802</td>\n",
       "      <td>47.207802</td>\n",
       "      <td>47.207802</td>\n",
       "      <td>47.207802</td>\n",
       "      <td>47.207802</td>\n",
       "      <td>47.207802</td>\n",
       "    </tr>\n",
       "    <tr>\n",
       "      <th>93191</th>\n",
       "      <td>29110</td>\n",
       "      <td>361.050000</td>\n",
       "      <td>315.352336</td>\n",
       "      <td>45.697664</td>\n",
       "      <td>45.697664</td>\n",
       "      <td>45.697664</td>\n",
       "      <td>45.697664</td>\n",
       "      <td>45.697664</td>\n",
       "      <td>45.697664</td>\n",
       "    </tr>\n",
       "    <tr>\n",
       "      <th>94566</th>\n",
       "      <td>10559</td>\n",
       "      <td>296.916667</td>\n",
       "      <td>212.362420</td>\n",
       "      <td>84.554247</td>\n",
       "      <td>84.554247</td>\n",
       "      <td>84.554247</td>\n",
       "      <td>84.554247</td>\n",
       "      <td>84.554247</td>\n",
       "      <td>84.554247</td>\n",
       "    </tr>\n",
       "    <tr>\n",
       "      <th>96251</th>\n",
       "      <td>15120</td>\n",
       "      <td>268.150000</td>\n",
       "      <td>230.615438</td>\n",
       "      <td>37.534562</td>\n",
       "      <td>37.534562</td>\n",
       "      <td>37.534562</td>\n",
       "      <td>37.534562</td>\n",
       "      <td>37.534562</td>\n",
       "      <td>37.534562</td>\n",
       "    </tr>\n",
       "    <tr>\n",
       "      <th>98607</th>\n",
       "      <td>29225</td>\n",
       "      <td>356.133333</td>\n",
       "      <td>310.016894</td>\n",
       "      <td>46.116440</td>\n",
       "      <td>46.116440</td>\n",
       "      <td>46.116440</td>\n",
       "      <td>46.116440</td>\n",
       "      <td>46.116440</td>\n",
       "      <td>46.116440</td>\n",
       "    </tr>\n",
       "    <tr>\n",
       "      <th>99222</th>\n",
       "      <td>15562</td>\n",
       "      <td>289.883333</td>\n",
       "      <td>255.974685</td>\n",
       "      <td>33.908648</td>\n",
       "      <td>32.698855</td>\n",
       "      <td>36.457390</td>\n",
       "      <td>32.569700</td>\n",
       "      <td>32.698855</td>\n",
       "      <td>32.698855</td>\n",
       "    </tr>\n",
       "    <tr>\n",
       "      <th>99237</th>\n",
       "      <td>27379</td>\n",
       "      <td>363.800000</td>\n",
       "      <td>307.680774</td>\n",
       "      <td>56.119226</td>\n",
       "      <td>56.119226</td>\n",
       "      <td>56.119226</td>\n",
       "      <td>56.119226</td>\n",
       "      <td>56.119226</td>\n",
       "      <td>56.119226</td>\n",
       "    </tr>\n",
       "    <tr>\n",
       "      <th>99311</th>\n",
       "      <td>25230</td>\n",
       "      <td>305.683333</td>\n",
       "      <td>270.291577</td>\n",
       "      <td>35.391757</td>\n",
       "      <td>35.391757</td>\n",
       "      <td>35.391757</td>\n",
       "      <td>35.391757</td>\n",
       "      <td>35.391757</td>\n",
       "      <td>35.391757</td>\n",
       "    </tr>\n",
       "    <tr>\n",
       "      <th>99492</th>\n",
       "      <td>6414</td>\n",
       "      <td>291.233333</td>\n",
       "      <td>207.874078</td>\n",
       "      <td>83.359255</td>\n",
       "      <td>83.359255</td>\n",
       "      <td>83.359255</td>\n",
       "      <td>83.359255</td>\n",
       "      <td>83.359255</td>\n",
       "      <td>83.359255</td>\n",
       "    </tr>\n",
       "    <tr>\n",
       "      <th>101032</th>\n",
       "      <td>26106</td>\n",
       "      <td>341.650000</td>\n",
       "      <td>300.047403</td>\n",
       "      <td>41.602597</td>\n",
       "      <td>41.602597</td>\n",
       "      <td>41.602597</td>\n",
       "      <td>41.602597</td>\n",
       "      <td>41.602597</td>\n",
       "      <td>41.602597</td>\n",
       "    </tr>\n",
       "    <tr>\n",
       "      <th>101354</th>\n",
       "      <td>15511</td>\n",
       "      <td>281.483333</td>\n",
       "      <td>250.264792</td>\n",
       "      <td>31.218542</td>\n",
       "      <td>31.218542</td>\n",
       "      <td>31.218542</td>\n",
       "      <td>31.218542</td>\n",
       "      <td>31.218542</td>\n",
       "      <td>31.218542</td>\n",
       "    </tr>\n",
       "    <tr>\n",
       "      <th>101442</th>\n",
       "      <td>26606</td>\n",
       "      <td>299.333333</td>\n",
       "      <td>243.416607</td>\n",
       "      <td>55.916726</td>\n",
       "      <td>55.916726</td>\n",
       "      <td>55.916726</td>\n",
       "      <td>55.916726</td>\n",
       "      <td>55.916726</td>\n",
       "      <td>55.916726</td>\n",
       "    </tr>\n",
       "    <tr>\n",
       "      <th>101589</th>\n",
       "      <td>29398</td>\n",
       "      <td>339.516667</td>\n",
       "      <td>296.309632</td>\n",
       "      <td>43.207034</td>\n",
       "      <td>43.207034</td>\n",
       "      <td>43.207034</td>\n",
       "      <td>43.207034</td>\n",
       "      <td>43.207034</td>\n",
       "      <td>43.207034</td>\n",
       "    </tr>\n",
       "    <tr>\n",
       "      <th>102361</th>\n",
       "      <td>29529</td>\n",
       "      <td>313.866667</td>\n",
       "      <td>263.963764</td>\n",
       "      <td>49.902903</td>\n",
       "      <td>49.902903</td>\n",
       "      <td>49.902903</td>\n",
       "      <td>49.902903</td>\n",
       "      <td>49.902903</td>\n",
       "      <td>49.902903</td>\n",
       "    </tr>\n",
       "    <tr>\n",
       "      <th>103125</th>\n",
       "      <td>28338</td>\n",
       "      <td>322.383333</td>\n",
       "      <td>282.657205</td>\n",
       "      <td>39.726128</td>\n",
       "      <td>39.726128</td>\n",
       "      <td>44.895490</td>\n",
       "      <td>34.556766</td>\n",
       "      <td>34.556766</td>\n",
       "      <td>44.895490</td>\n",
       "    </tr>\n",
       "    <tr>\n",
       "      <th>103916</th>\n",
       "      <td>28846</td>\n",
       "      <td>328.900000</td>\n",
       "      <td>298.066225</td>\n",
       "      <td>30.833775</td>\n",
       "      <td>30.833775</td>\n",
       "      <td>30.833775</td>\n",
       "      <td>30.833775</td>\n",
       "      <td>30.833775</td>\n",
       "      <td>30.833775</td>\n",
       "    </tr>\n",
       "    <tr>\n",
       "      <th>105275</th>\n",
       "      <td>28343</td>\n",
       "      <td>363.750000</td>\n",
       "      <td>260.737128</td>\n",
       "      <td>103.012872</td>\n",
       "      <td>103.012872</td>\n",
       "      <td>103.012872</td>\n",
       "      <td>103.012872</td>\n",
       "      <td>103.012872</td>\n",
       "      <td>103.012872</td>\n",
       "    </tr>\n",
       "    <tr>\n",
       "      <th>105276</th>\n",
       "      <td>22988</td>\n",
       "      <td>375.966667</td>\n",
       "      <td>258.177627</td>\n",
       "      <td>117.789040</td>\n",
       "      <td>117.789040</td>\n",
       "      <td>117.789040</td>\n",
       "      <td>117.789040</td>\n",
       "      <td>117.789040</td>\n",
       "      <td>117.789040</td>\n",
       "    </tr>\n",
       "    <tr>\n",
       "      <th>105463</th>\n",
       "      <td>27712</td>\n",
       "      <td>296.166667</td>\n",
       "      <td>254.288200</td>\n",
       "      <td>41.878467</td>\n",
       "      <td>41.878467</td>\n",
       "      <td>41.878467</td>\n",
       "      <td>41.878467</td>\n",
       "      <td>41.878467</td>\n",
       "      <td>41.878467</td>\n",
       "    </tr>\n",
       "    <tr>\n",
       "      <th>105514</th>\n",
       "      <td>27397</td>\n",
       "      <td>291.866667</td>\n",
       "      <td>256.471453</td>\n",
       "      <td>35.395213</td>\n",
       "      <td>35.395213</td>\n",
       "      <td>35.395213</td>\n",
       "      <td>35.395213</td>\n",
       "      <td>35.395213</td>\n",
       "      <td>35.395213</td>\n",
       "    </tr>\n",
       "    <tr>\n",
       "      <th>106245</th>\n",
       "      <td>28128</td>\n",
       "      <td>340.833333</td>\n",
       "      <td>241.404633</td>\n",
       "      <td>99.428701</td>\n",
       "      <td>99.428701</td>\n",
       "      <td>99.428701</td>\n",
       "      <td>99.428701</td>\n",
       "      <td>99.428701</td>\n",
       "      <td>99.428701</td>\n",
       "    </tr>\n",
       "  </tbody>\n",
       "</table>\n",
       "<p>1579 rows × 9 columns</p>\n",
       "</div>"
      ],
      "text/plain": [
       "          bib    offltime   predicted  difference  median_difference  \\\n",
       "19      24981  349.333333  260.083924   89.249409          89.374673   \n",
       "79       5923  250.933333  203.108893   47.824440          48.267144   \n",
       "81       8905  265.966667  215.162656   50.804010          48.851407   \n",
       "88      12427  285.800000  223.241443   62.558557          62.666517   \n",
       "104     10773  297.000000  218.814472   78.185528          78.017767   \n",
       "112     12666  269.500000  218.362662   51.137338          50.913923   \n",
       "113     18262  277.633333  238.853197   38.780136          37.704433   \n",
       "122     26217  415.816667  311.589053  104.227614          96.160452   \n",
       "124      6044  344.800000  205.526636  139.273364         138.352474   \n",
       "137      2055  233.116667  189.473187   43.643479          44.378754   \n",
       "152     20664  306.883333  244.415142   62.468191          62.027770   \n",
       "157     16363  273.000000  226.486808   46.513192          46.723252   \n",
       "160      6978  251.516667  207.680606   43.836061          43.739732   \n",
       "174     12848  341.966667  224.114902  117.851764         118.139495   \n",
       "195     14115  290.183333  229.803101   60.380232          60.509868   \n",
       "209     13610  270.800000  229.358170   41.441830          43.443928   \n",
       "217      7686  260.983333  213.469000   47.514333          46.923007   \n",
       "252     26492  360.716667  276.832305   83.884362          85.819021   \n",
       "284      3067  301.050000  199.665073  101.384927         100.686399   \n",
       "285      6492  291.433333  209.986204   81.447129          80.026264   \n",
       "286     12089  254.500000  218.425580   36.074420          36.178471   \n",
       "295       276  353.700000  306.865663   46.834337          43.056305   \n",
       "307     17739  302.383333  239.716774   62.666559          62.979061   \n",
       "340     19351  274.050000  236.659255   37.390745          37.908536   \n",
       "351     19050  282.316667  237.689513   44.627154          44.869640   \n",
       "355     24019  293.116667  255.005220   38.111446          38.712856   \n",
       "370     21081  342.850000  277.146352   65.703648          60.610355   \n",
       "378      9170  291.900000  215.801405   76.098595          76.216690   \n",
       "383     23165  316.500000  269.634668   46.865332          44.357392   \n",
       "386     22541  316.500000  265.634145   50.865855          49.115134   \n",
       "...       ...         ...         ...         ...                ...   \n",
       "91705   29926  346.716667  298.776589   47.940078          47.940078   \n",
       "91822   28433  358.650000  298.719538   59.930462          62.164986   \n",
       "92114   28576  345.283333  298.417914   46.865420          46.865420   \n",
       "92158   27989  363.966667  313.523994   50.442673          50.442673   \n",
       "92276   26751  361.816667  315.639977   46.176690          46.176690   \n",
       "92549    9182  330.350000  204.506898  125.843102         125.843102   \n",
       "92763   26998  361.233333  318.325337   42.907996          43.523488   \n",
       "92802   30320  360.866667  311.945554   48.921113          48.921113   \n",
       "92818   29067  363.500000  314.997880   48.502120          48.502120   \n",
       "92973   31901  343.116667  295.908865   47.207802          47.207802   \n",
       "93191   29110  361.050000  315.352336   45.697664          45.697664   \n",
       "94566   10559  296.916667  212.362420   84.554247          84.554247   \n",
       "96251   15120  268.150000  230.615438   37.534562          37.534562   \n",
       "98607   29225  356.133333  310.016894   46.116440          46.116440   \n",
       "99222   15562  289.883333  255.974685   33.908648          32.698855   \n",
       "99237   27379  363.800000  307.680774   56.119226          56.119226   \n",
       "99311   25230  305.683333  270.291577   35.391757          35.391757   \n",
       "99492    6414  291.233333  207.874078   83.359255          83.359255   \n",
       "101032  26106  341.650000  300.047403   41.602597          41.602597   \n",
       "101354  15511  281.483333  250.264792   31.218542          31.218542   \n",
       "101442  26606  299.333333  243.416607   55.916726          55.916726   \n",
       "101589  29398  339.516667  296.309632   43.207034          43.207034   \n",
       "102361  29529  313.866667  263.963764   49.902903          49.902903   \n",
       "103125  28338  322.383333  282.657205   39.726128          39.726128   \n",
       "103916  28846  328.900000  298.066225   30.833775          30.833775   \n",
       "105275  28343  363.750000  260.737128  103.012872         103.012872   \n",
       "105276  22988  375.966667  258.177627  117.789040         117.789040   \n",
       "105463  27712  296.166667  254.288200   41.878467          41.878467   \n",
       "105514  27397  291.866667  256.471453   35.395213          35.395213   \n",
       "106245  28128  340.833333  241.404633   99.428701          99.428701   \n",
       "\n",
       "        min_difference  max_difference  2ndmin_difference  2ndmax_difference  \n",
       "19           94.777918       82.034839          90.864516          87.637752  \n",
       "79           51.246330       42.520360          50.391329          45.908495  \n",
       "81           55.982282       47.475150          52.950804          48.760408  \n",
       "88           65.131016       60.597917          63.302892          60.748596  \n",
       "104          79.050587       77.488230          78.017767          78.017767  \n",
       "112          53.068640       49.159393          52.056290          50.488443  \n",
       "113          42.940416       36.771262          37.920104          37.488762  \n",
       "122         127.609087       94.113655         123.518690          95.137615  \n",
       "124         142.549325      136.979343         142.378479         137.091759  \n",
       "137          46.274329       41.081470          44.916012          41.566831  \n",
       "152          67.122805       58.694419          63.356350          60.699190  \n",
       "157          48.043982       44.209755          46.953527          46.635440  \n",
       "160          45.244129       42.181744          44.941755          42.956383  \n",
       "174         120.763626      113.303013         120.246944         116.518014  \n",
       "195          62.690603       57.940225          60.509868          60.509868  \n",
       "209          44.718463       36.925073          44.024075          37.074242  \n",
       "217          50.425318       46.107456          50.253568          46.165236  \n",
       "252         117.905507       44.525339         116.057746          47.540611  \n",
       "284         107.040804       97.194401         105.974739          97.810465  \n",
       "285          87.993101       76.240699          87.243109          77.653720  \n",
       "286          39.402321       30.696584          39.241230          32.505533  \n",
       "295          69.983697       33.536955          62.499209          33.666110  \n",
       "307          68.744515       55.527081          67.705871          58.884052  \n",
       "340          40.913628       32.110629          40.401554          32.973119  \n",
       "351          47.792182       40.913842          47.156773          42.160844  \n",
       "355          44.282399       31.530279          42.818076          32.150468  \n",
       "370          89.652154       54.805852          87.315657          55.114394  \n",
       "378          80.064891       72.446159          79.160002          72.487136  \n",
       "383          61.294476       41.276950          59.332684          41.465193  \n",
       "386          65.767450       45.890217          61.601571          45.896223  \n",
       "...                ...             ...                ...                ...  \n",
       "91705        47.940078       47.940078          47.940078          47.940078  \n",
       "91822        64.018986       53.607415          62.164986          62.164986  \n",
       "92114        46.865420       46.865420          46.865420          46.865420  \n",
       "92158        50.442673       50.442673          50.442673          50.442673  \n",
       "92276        46.176690       46.176690          46.176690          46.176690  \n",
       "92549       125.843102      125.843102         125.843102         125.843102  \n",
       "92763        44.547966       40.652534          43.523488          43.523488  \n",
       "92802        51.973439       45.868786          45.868786          51.973439  \n",
       "92818        48.502120       48.502120          48.502120          48.502120  \n",
       "92973        47.207802       47.207802          47.207802          47.207802  \n",
       "93191        45.697664       45.697664          45.697664          45.697664  \n",
       "94566        84.554247       84.554247          84.554247          84.554247  \n",
       "96251        37.534562       37.534562          37.534562          37.534562  \n",
       "98607        46.116440       46.116440          46.116440          46.116440  \n",
       "99222        36.457390       32.569700          32.698855          32.698855  \n",
       "99237        56.119226       56.119226          56.119226          56.119226  \n",
       "99311        35.391757       35.391757          35.391757          35.391757  \n",
       "99492        83.359255       83.359255          83.359255          83.359255  \n",
       "101032       41.602597       41.602597          41.602597          41.602597  \n",
       "101354       31.218542       31.218542          31.218542          31.218542  \n",
       "101442       55.916726       55.916726          55.916726          55.916726  \n",
       "101589       43.207034       43.207034          43.207034          43.207034  \n",
       "102361       49.902903       49.902903          49.902903          49.902903  \n",
       "103125       44.895490       34.556766          34.556766          44.895490  \n",
       "103916       30.833775       30.833775          30.833775          30.833775  \n",
       "105275      103.012872      103.012872         103.012872         103.012872  \n",
       "105276      117.789040      117.789040         117.789040         117.789040  \n",
       "105463       41.878467       41.878467          41.878467          41.878467  \n",
       "105514       35.395213       35.395213          35.395213          35.395213  \n",
       "106245       99.428701       99.428701          99.428701          99.428701  \n",
       "\n",
       "[1579 rows x 9 columns]"
      ]
     },
     "execution_count": 39,
     "metadata": {},
     "output_type": "execute_result"
    }
   ],
   "source": [
    "flagged"
   ]
  },
  {
   "cell_type": "code",
   "execution_count": 40,
   "metadata": {
    "collapsed": true
   },
   "outputs": [],
   "source": [
    "flagged.to_csv('data/2016-flagged1.csv')"
   ]
  },
  {
   "cell_type": "code",
   "execution_count": null,
   "metadata": {
    "collapsed": true
   },
   "outputs": [],
   "source": []
  }
 ],
 "metadata": {
  "kernelspec": {
   "display_name": "Python 2",
   "language": "python",
   "name": "python2"
  },
  "language_info": {
   "codemirror_mode": {
    "name": "ipython",
    "version": 2
   },
   "file_extension": ".py",
   "mimetype": "text/x-python",
   "name": "python",
   "nbconvert_exporter": "python",
   "pygments_lexer": "ipython2",
   "version": "2.7.11"
  }
 },
 "nbformat": 4,
 "nbformat_minor": 0
}
